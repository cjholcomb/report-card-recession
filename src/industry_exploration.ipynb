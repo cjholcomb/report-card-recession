{
 "metadata": {
  "language_info": {
   "codemirror_mode": {
    "name": "ipython",
    "version": 3
   },
   "file_extension": ".py",
   "mimetype": "text/x-python",
   "name": "python",
   "nbconvert_exporter": "python",
   "pygments_lexer": "ipython3",
   "version": "3.8.2-final"
  },
  "orig_nbformat": 2,
  "kernelspec": {
   "name": "python3",
   "display_name": "Python 3",
   "language": "python"
  }
 },
 "nbformat": 4,
 "nbformat_minor": 2,
 "cells": [
  {
   "cell_type": "code",
   "execution_count": 1,
   "metadata": {},
   "outputs": [],
   "source": [
    "from dictionaries import *\n",
    "from helper_functions import *\n",
    "from produce_datasets import *\n",
    "import pandas as pd\n",
    "import numpy as np\n",
    "pd.options.display.max_columns = None"
   ]
  },
  {
   "cell_type": "code",
   "execution_count": 2,
   "metadata": {},
   "outputs": [],
   "source": [
    "def add_qtrid(df):\n",
    "    '''\n",
    "    adds a column for the year and quarter.\n",
    "\n",
    "    params: df(dataframe)\n",
    "    returns: dataframe with column added'''\n",
    "    df['qtrid'] = df['year'] + (df['qtr']/4)\n",
    "    return df\n",
    "\n",
    "def import_one(year):\n",
    "    '''brings a single year's woth of data into a dataframe. Used for initial EDA. \n",
    "    Referenced in import_all\n",
    "\n",
    "    params: year(str)\n",
    "    returns: df(dataframe)'''\n",
    "    filepath = '../data/area_files/' + str(year) + '.csv'\n",
    "    #all relevant csvs are renamed with only the year\n",
    "    df = pd.read_csv(filepath, dtype = schema_dict)\n",
    "    #schema_dict is found in dictionaries.py\n",
    "    for column in drop_columns:\n",
    "        if column in df.columns:\n",
    "            df = df.drop([column], axis = 1)\n",
    "    return df\n",
    "\n",
    "def import_all(years):\n",
    "    '''combines as many years ofdata into a single dataframe, as well as adding quater id\n",
    "    References import_one and add_qtrid\n",
    "\n",
    "    params: years (list of str)\n",
    "    returns: df (dataframe)'''\n",
    "    df = import_one(years[0])\n",
    "    for year in years[1:]:\n",
    "        df = df.append(import_one(year))\n",
    "    df = add_qtrid(df)\n",
    "    return df"
   ]
  },
  {
   "cell_type": "code",
   "execution_count": 33,
   "metadata": {},
   "outputs": [],
   "source": [
    "def create_timeline_2001(variable):\n",
    "    '''produces a dataframe of the 2001 recession timeline.\n",
    "    \n",
    "    .0Used to compute targets\n",
    "\n",
    "    params: variable, str, one of ['month3_emplvel' (employment), 'avg_wkly_wage' (wages)]\n",
    "    returns: df, Dataframe\n",
    "    exports a json file (used in plotting results)\n",
    "    '''\n",
    "    \n",
    "    #create a dataframe of the years in question\n",
    "    df = import_all(recession1_years)\n",
    "\n",
    "    #drop 'unknown or undefined' areas\n",
    "    df = df[~df['area_fips'].str.contains(\"999\")]\n",
    "    \n",
    "    #pivots the table to arrange quarters in columns, drops extraneous variables.\n",
    "    df = df.pivot_table(columns = 'qtrid', values = variable, index = ['area_fips', 'area_title'], aggfunc = np.sum)\n",
    "    df = df.reset_index()\n",
    "    \n",
    "    #fill nans\n",
    "    df = df.fillna(0)\n",
    "\n",
    "    #creates a secondary dataframe with only timeline variables\n",
    "    df2 = df.drop(columns = ['area_fips', 'area_title'])\n",
    "    df2 = df2.reset_index()\n",
    "    \n",
    "    #drops the index so that all calculations are free of any type mismatches\n",
    "    df2 = df2.drop(columns = 'index')\n",
    "    df2 = df2.fillna(0)\n",
    "\n",
    "### DEPRECIATED CODE #### \n",
    "\n",
    "#     #this specifies when the jobs numbers \"bottom-out\" during the recession\n",
    "#     nadir = df2.iloc[:,6:].apply(lambda x: calc_nadir(x), axis=1).rename('nadir')\n",
    "    \n",
    "#     #counts the number of quarters to the nadir since the beginning of the timeframe\n",
    "#     nadir_qtr = df2.iloc[:,6:].apply(lambda x: calc_nadir_qtr(x), axis=1).rename('nadir_qtr')\n",
    "    \n",
    "#     #computes the highest points before and after the nadir, and captures the quarter count\n",
    "#     pre_peak = df2.apply(lambda x: calc_pre_peak(x), axis=1).rename('pre_peak')\n",
    "#     pre_peak_qtr = df2.apply(lambda x: calc_pre_peak_quarter(x), axis=1).rename('pre_peak_qtr')\n",
    "#     post_peak = df2.apply(lambda x: calc_post_peak(x), axis=1).rename('post_peak')\n",
    "#     post_peak_qtr = df2.apply(lambda x: calc_post_peak_qtr(x), axis=1).rename('post_peak_qtr')\n",
    "\n",
    "### DEPRECIATED CODE #### \n",
    "    \n",
    "    #specifies the lowest job numbers during the recession. Disregards quarters before the recession event. \n",
    "    df2['nadir'] = df2.iloc[:,6:].min(axis=1)\n",
    "\n",
    "    #specifies which quarter the nadir occured.\n",
    "    df2['nadir_qtr'] = df2.iloc[:,6:].idxmin(axis=1).apply(lambda x: df.columns.get_loc(x))\n",
    "    \n",
    "    #creates a column to store indices for lookup.\n",
    "    df2['new'] = [df2.iloc[i].values for i in df.index]\n",
    "  \n",
    "    #specifies the highest job numbers *before* the nadir.\n",
    "    df2['pre_peak'] = df2.apply(lambda x: max(x['new'][0:x['nadir_qtr']]), axis=1)\n",
    "    \n",
    "    #creates a column to derive the recovery quarter\n",
    "    df2['recovery_list'] = df2.apply(lambda x: (x['new'][x['nadir_qtr']:] > x['pre_peak']), axis=1)\n",
    "\n",
    "    df2['recovery_qtr'] = next((i for i, j in enumerate(list(df2['recovery_list'])) if j), None)\n",
    "\n",
    "    #specifies the highest job numbers *after* the nadir\n",
    "    df2['post_peak'] = df2.apply(lambda x: max(x['new'][x['nadir_qtr']:]), axis=1)\n",
    "    \n",
    "    #specifies which quarter the pre-peak occurred.\n",
    "    df2['pre_peak_qtr'] = pd.Series([s[i] for i, s in zip(df2.index, df2['pre_peak'].apply(\n",
    "        lambda x: [i for i in (df2.iloc[:,0:-6] == x)\n",
    "                   .idxmax(axis=1)]))]).apply(lambda x: df2.columns.get_loc(x))\n",
    "    \n",
    "    #specifies which quarter the post-peak occurred.\n",
    "    df2['post_peak_qtr'] = pd.Series([s[i] for i, s in zip(df2.index, df2['post_peak'].apply(\n",
    "        lambda x: [i for i in (df2.iloc[:,0:-6] == x)\n",
    "                   .idxmax(axis=1)]))]).apply(lambda x: df2.columns.get_loc(x))\n",
    "    \n",
    "    #creates a new dataset to store derived fields\n",
    "    df_new = df2[['nadir', 'nadir_qtr', 'pre_peak', 'pre_peak_qtr', 'recovery_list', 'post_peak', 'post_peak_qtr', 'new']]\n",
    "    \n",
    "    #puts the computed points in a dataframe, joins with timeline\n",
    "    df = df.join(df_new, how = 'outer', rsuffix = '_derive')\n",
    "    \n",
    "    #PRIMARY TARGET: did the area decline the entire time(-1), did it start growing again but not avhieve it's former numbers(0), or did it grow and recover(1)?\n",
    "    df['recovery'] = (df['post_peak'] >= df['pre_peak']) *1\n",
    "\n",
    "    #SECONDARY TARGET: How long did the jobs numbers decline?\n",
    "    df['decline'] = (df['nadir_qtr'] - df['pre_peak_qtr'])\n",
    "    \n",
    "    #TERTIARY TARGET: different in before/after jobs numbers\n",
    "    df['delta'] = df['post_peak'] - df['pre_peak']\n",
    "    \n",
    "    #export the data\n",
    "    # df.to_json('data/Recession1_timeline.json')\n",
    "    return df"
   ]
  },
  {
   "cell_type": "code",
   "execution_count": 34,
   "metadata": {},
   "outputs": [
    {
     "output_type": "error",
     "ename": "ValueError",
     "evalue": "The truth value of an array with more than one element is ambiguous. Use a.any() or a.all()",
     "traceback": [
      "\u001b[0;31m---------------------------------------------------------------------------\u001b[0m",
      "\u001b[0;31mValueError\u001b[0m                                Traceback (most recent call last)",
      "\u001b[0;32m<ipython-input-34-a293e5162220>\u001b[0m in \u001b[0;36m<module>\u001b[0;34m\u001b[0m\n\u001b[0;32m----> 1\u001b[0;31m \u001b[0mdf\u001b[0m \u001b[0;34m=\u001b[0m \u001b[0mcreate_timeline_2001\u001b[0m\u001b[0;34m(\u001b[0m\u001b[0;34m'month3_emplvl'\u001b[0m\u001b[0;34m)\u001b[0m\u001b[0;34m\u001b[0m\u001b[0;34m\u001b[0m\u001b[0m\n\u001b[0m\u001b[1;32m      2\u001b[0m \u001b[0;34m\u001b[0m\u001b[0m\n",
      "\u001b[0;32m<ipython-input-33-e24bbf2d8e7a>\u001b[0m in \u001b[0;36mcreate_timeline_2001\u001b[0;34m(variable)\u001b[0m\n\u001b[1;32m     61\u001b[0m     \u001b[0mdf2\u001b[0m\u001b[0;34m[\u001b[0m\u001b[0;34m'recovery_list'\u001b[0m\u001b[0;34m]\u001b[0m \u001b[0;34m=\u001b[0m \u001b[0mdf2\u001b[0m\u001b[0;34m.\u001b[0m\u001b[0mapply\u001b[0m\u001b[0;34m(\u001b[0m\u001b[0;32mlambda\u001b[0m \u001b[0mx\u001b[0m\u001b[0;34m:\u001b[0m \u001b[0;34m(\u001b[0m\u001b[0mx\u001b[0m\u001b[0;34m[\u001b[0m\u001b[0;34m'new'\u001b[0m\u001b[0;34m]\u001b[0m\u001b[0;34m[\u001b[0m\u001b[0mx\u001b[0m\u001b[0;34m[\u001b[0m\u001b[0;34m'nadir_qtr'\u001b[0m\u001b[0;34m]\u001b[0m\u001b[0;34m:\u001b[0m\u001b[0;34m]\u001b[0m \u001b[0;34m>\u001b[0m \u001b[0mx\u001b[0m\u001b[0;34m[\u001b[0m\u001b[0;34m'pre_peak'\u001b[0m\u001b[0;34m]\u001b[0m\u001b[0;34m)\u001b[0m\u001b[0;34m,\u001b[0m \u001b[0maxis\u001b[0m\u001b[0;34m=\u001b[0m\u001b[0;36m1\u001b[0m\u001b[0;34m)\u001b[0m\u001b[0;34m\u001b[0m\u001b[0;34m\u001b[0m\u001b[0m\n\u001b[1;32m     62\u001b[0m \u001b[0;34m\u001b[0m\u001b[0m\n\u001b[0;32m---> 63\u001b[0;31m     \u001b[0mdf2\u001b[0m\u001b[0;34m[\u001b[0m\u001b[0;34m'recovery_qtr'\u001b[0m\u001b[0;34m]\u001b[0m \u001b[0;34m=\u001b[0m \u001b[0mnext\u001b[0m\u001b[0;34m(\u001b[0m\u001b[0;34m(\u001b[0m\u001b[0mi\u001b[0m \u001b[0;32mfor\u001b[0m \u001b[0mi\u001b[0m\u001b[0;34m,\u001b[0m \u001b[0mj\u001b[0m \u001b[0;32min\u001b[0m \u001b[0menumerate\u001b[0m\u001b[0;34m(\u001b[0m\u001b[0mlist\u001b[0m\u001b[0;34m(\u001b[0m\u001b[0mdf2\u001b[0m\u001b[0;34m[\u001b[0m\u001b[0;34m'recovery_list'\u001b[0m\u001b[0;34m]\u001b[0m\u001b[0;34m)\u001b[0m\u001b[0;34m)\u001b[0m \u001b[0;32mif\u001b[0m \u001b[0mj\u001b[0m\u001b[0;34m)\u001b[0m\u001b[0;34m,\u001b[0m \u001b[0;32mNone\u001b[0m\u001b[0;34m)\u001b[0m\u001b[0;34m\u001b[0m\u001b[0;34m\u001b[0m\u001b[0m\n\u001b[0m\u001b[1;32m     64\u001b[0m \u001b[0;34m\u001b[0m\u001b[0m\n\u001b[1;32m     65\u001b[0m     \u001b[0;31m#specifies the highest job numbers *after* the nadir\u001b[0m\u001b[0;34m\u001b[0m\u001b[0;34m\u001b[0m\u001b[0;34m\u001b[0m\u001b[0m\n",
      "\u001b[0;32m<ipython-input-33-e24bbf2d8e7a>\u001b[0m in \u001b[0;36m<genexpr>\u001b[0;34m(.0)\u001b[0m\n\u001b[1;32m     61\u001b[0m     \u001b[0mdf2\u001b[0m\u001b[0;34m[\u001b[0m\u001b[0;34m'recovery_list'\u001b[0m\u001b[0;34m]\u001b[0m \u001b[0;34m=\u001b[0m \u001b[0mdf2\u001b[0m\u001b[0;34m.\u001b[0m\u001b[0mapply\u001b[0m\u001b[0;34m(\u001b[0m\u001b[0;32mlambda\u001b[0m \u001b[0mx\u001b[0m\u001b[0;34m:\u001b[0m \u001b[0;34m(\u001b[0m\u001b[0mx\u001b[0m\u001b[0;34m[\u001b[0m\u001b[0;34m'new'\u001b[0m\u001b[0;34m]\u001b[0m\u001b[0;34m[\u001b[0m\u001b[0mx\u001b[0m\u001b[0;34m[\u001b[0m\u001b[0;34m'nadir_qtr'\u001b[0m\u001b[0;34m]\u001b[0m\u001b[0;34m:\u001b[0m\u001b[0;34m]\u001b[0m \u001b[0;34m>\u001b[0m \u001b[0mx\u001b[0m\u001b[0;34m[\u001b[0m\u001b[0;34m'pre_peak'\u001b[0m\u001b[0;34m]\u001b[0m\u001b[0;34m)\u001b[0m\u001b[0;34m,\u001b[0m \u001b[0maxis\u001b[0m\u001b[0;34m=\u001b[0m\u001b[0;36m1\u001b[0m\u001b[0;34m)\u001b[0m\u001b[0;34m\u001b[0m\u001b[0;34m\u001b[0m\u001b[0m\n\u001b[1;32m     62\u001b[0m \u001b[0;34m\u001b[0m\u001b[0m\n\u001b[0;32m---> 63\u001b[0;31m     \u001b[0mdf2\u001b[0m\u001b[0;34m[\u001b[0m\u001b[0;34m'recovery_qtr'\u001b[0m\u001b[0;34m]\u001b[0m \u001b[0;34m=\u001b[0m \u001b[0mnext\u001b[0m\u001b[0;34m(\u001b[0m\u001b[0;34m(\u001b[0m\u001b[0mi\u001b[0m \u001b[0;32mfor\u001b[0m \u001b[0mi\u001b[0m\u001b[0;34m,\u001b[0m \u001b[0mj\u001b[0m \u001b[0;32min\u001b[0m \u001b[0menumerate\u001b[0m\u001b[0;34m(\u001b[0m\u001b[0mlist\u001b[0m\u001b[0;34m(\u001b[0m\u001b[0mdf2\u001b[0m\u001b[0;34m[\u001b[0m\u001b[0;34m'recovery_list'\u001b[0m\u001b[0;34m]\u001b[0m\u001b[0;34m)\u001b[0m\u001b[0;34m)\u001b[0m \u001b[0;32mif\u001b[0m \u001b[0mj\u001b[0m\u001b[0;34m)\u001b[0m\u001b[0;34m,\u001b[0m \u001b[0;32mNone\u001b[0m\u001b[0;34m)\u001b[0m\u001b[0;34m\u001b[0m\u001b[0;34m\u001b[0m\u001b[0m\n\u001b[0m\u001b[1;32m     64\u001b[0m \u001b[0;34m\u001b[0m\u001b[0m\n\u001b[1;32m     65\u001b[0m     \u001b[0;31m#specifies the highest job numbers *after* the nadir\u001b[0m\u001b[0;34m\u001b[0m\u001b[0;34m\u001b[0m\u001b[0;34m\u001b[0m\u001b[0m\n",
      "\u001b[0;31mValueError\u001b[0m: The truth value of an array with more than one element is ambiguous. Use a.any() or a.all()"
     ]
    }
   ],
   "source": [
    "df = create_timeline_2001('month3_emplvl')\n",
    "    "
   ]
  },
  {
   "cell_type": "code",
   "execution_count": null,
   "metadata": {},
   "outputs": [],
   "source": [
    "    # df2['recovery_list'] = df2.apply(lambda x: (x['new'][x['nadir_qtr']:] > x['pre_peak']), axis=1)\n",
    "\n",
    "    # df2['recovery_qtr'] = list(df2['recovery_list']).index(next(filter(lambda i: i != 0, list(df2['recovery_list'])))) "
   ]
  },
  {
   "cell_type": "code",
   "execution_count": 22,
   "metadata": {},
   "outputs": [],
   "source": [
    "df_samp = df[df['recovery'] == 1].sample(10, random_state = 7)"
   ]
  },
  {
   "cell_type": "code",
   "execution_count": null,
   "metadata": {},
   "outputs": [],
   "source": [
    "# df_samp['recovery_list'] = df_samp.apply(lambda x: (x['new'][x['nadir_qtr']:] > x['pre_peak']), axis=1)"
   ]
  },
  {
   "cell_type": "code",
   "execution_count": 39,
   "metadata": {},
   "outputs": [
    {
     "output_type": "execute_result",
     "data": {
      "text/plain": [
       "7"
      ]
     },
     "metadata": {},
     "execution_count": 39
    }
   ],
   "source": [
    "next((i for i, j in enumerate(list(df_samp['recovery_list'][0])) if j), None)"
   ]
  },
  {
   "cell_type": "code",
   "execution_count": 36,
   "metadata": {
    "tags": []
   },
   "outputs": [
    {
     "output_type": "execute_result",
     "data": {
      "text/plain": [
       "qtrid  index area_fips                         area_title   2000.25    2000.5  \\\n",
       "0       1374     27075             Lake County, Minnesota    7518.0    8346.0   \n",
       "1       3073     54063       Monroe County, West Virginia    3812.0    4126.0   \n",
       "2       1919     36119       Westchester County, New York  794524.0  820670.0   \n",
       "3       3103     55011          Buffalo County, Wisconsin    8747.0    9320.0   \n",
       "4       3683     C2706                     Ithaca, NY MSA   92042.0   95082.0   \n",
       "5       2365     45019  Charleston County, South Carolina  362554.0  378358.0   \n",
       "6       3448     C1722             Clarksburg, WV MicroSA   35242.0   36634.0   \n",
       "7       3297     C1086                  Alice, TX MicroSA   13001.0   13245.0   \n",
       "8        742     18063          Hendricks County, Indiana   58656.0   60586.0   \n",
       "9       3618     C2446             Great Bend, KS MicroSA   12532.0   13213.0   \n",
       "\n",
       "qtrid   2000.75    2001.0   2001.25    2001.5   2001.75    2002.0   2002.25  \\\n",
       "0        8642.0    7714.0    8154.0    9012.0    8818.0    8174.0    7642.0   \n",
       "1        4072.0    4040.0    3894.0    4062.0    4086.0    4060.0    3950.0   \n",
       "2      813970.0  837170.0  807890.0  829618.0  805440.0  823416.0  799696.0   \n",
       "3        9322.0    9298.0    9824.0    9445.0    9488.0    9910.0    9768.0   \n",
       "4       93852.0   94730.0   92978.0   96624.0   94556.0   95156.0   92922.0   \n",
       "5      362860.0  369826.0  362656.0  364742.0  360836.0  359780.0  358752.0   \n",
       "6       36225.0   36026.0   35447.0   36476.0   35968.0   36227.0   35571.0   \n",
       "7       13460.0   13800.0   13642.0   14243.0   14145.0   14031.0   13873.0   \n",
       "8       60618.0   60272.0   59964.0   63238.0   65434.0   65000.0   65534.0   \n",
       "9       13015.0   13207.0   12852.0   13368.0   13077.0   13216.0   13144.0   \n",
       "\n",
       "qtrid    2002.5   2002.75    2003.0   2003.25    2003.5   2003.75    2004.0  \\\n",
       "0        8288.0    8840.0    8022.0    7854.0    8876.0    8642.0    7926.0   \n",
       "1        4122.0    4014.0    3906.0    3772.0    3912.0    4032.0    3996.0   \n",
       "2      822272.0  807492.0  829566.0  800922.0  822528.0  805160.0  826352.0   \n",
       "3        9142.0   10028.0    9060.0    9944.0    9583.0   10390.0    9256.0   \n",
       "4       95148.0   95666.0   96214.0   95192.0   97904.0   97330.0   97772.0   \n",
       "5      370100.0  368878.0  369464.0  369964.0  377104.0  376108.0  378814.0   \n",
       "6       36785.0   36377.0   36863.0   35954.0   37505.0   37048.0   37325.0   \n",
       "7       14086.0   14208.0   14106.0   14522.0   14855.0   14959.0   15120.0   \n",
       "8       66824.0   68710.0   68680.0   67982.0   70936.0   72554.0   74030.0   \n",
       "9       13396.0   13348.0   12961.0   12487.0   12791.0   12690.0   12638.0   \n",
       "\n",
       "qtrid   2004.25    2004.5   2004.75    2005.0   2005.25    2005.5   2005.75  \\\n",
       "0        7838.0    9020.0    8644.0    8130.0    8060.0    8968.0    8694.0   \n",
       "1        4112.0    4224.0    4242.0    4232.0    3962.0    4138.0    4090.0   \n",
       "2      808770.0  832592.0  819536.0  842588.0  813082.0  838078.0  823780.0   \n",
       "3        9702.0    9462.0    9957.0   10740.0   10502.0   11230.0   11106.0   \n",
       "4       96510.0   98820.0   98532.0   99160.0  100396.0  100062.0   99060.0   \n",
       "5      379144.0  389946.0  389044.0  391862.0  388852.0  402586.0  398644.0   \n",
       "6       36400.0   37701.0   37407.0   37503.0   36407.0   37653.0   37616.0   \n",
       "7       15105.0   15492.0   15554.0   15695.0   15517.0   15713.0   15970.0   \n",
       "8       74836.0   77138.0   78370.0   78876.0   77654.0   79878.0   81936.0   \n",
       "9       12520.0   12953.0   12679.0   12804.0   12600.0   13152.0   12685.0   \n",
       "\n",
       "qtrid    2006.0   2006.25    2006.5   2006.75    2007.0   2007.25    2007.5  \\\n",
       "0        8314.0    8182.0    9344.0    8810.0    8202.0    8214.0    9352.0   \n",
       "1        4086.0    3978.0    4096.0    4070.0    4196.0    4138.0    4134.0   \n",
       "2      841502.0  815112.0  842546.0  827984.0  851376.0  830014.0  862302.0   \n",
       "3       11158.0   11662.0   12302.0   12298.0   11267.0   10292.0   10938.0   \n",
       "4       99840.0   97912.0  100914.0   99772.0  101050.0   98418.0  101806.0   \n",
       "5      398042.0  396874.0  406484.0  410372.0  416576.0  417812.0  427552.0   \n",
       "6       37383.0   36977.0   37625.0   37037.0   37227.0   36265.0   37617.0   \n",
       "7       15874.0   16127.0   16666.0   16778.0   16876.0   17380.0   18144.0   \n",
       "8       82752.0   83174.0   86144.0   88166.0   88914.0   88606.0   91556.0   \n",
       "9       12886.0   12946.0   13264.0   12943.0   13339.0   13160.0   13433.0   \n",
       "\n",
       "qtrid   2007.75    2008.0     nadir  nadir_qtr  pre_peak  pre_peak_qtr  \\\n",
       "0        8898.0    8346.0    7642.0         10    9012.0             5   \n",
       "1        4210.0    4158.0    3772.0         14    4126.0             1   \n",
       "2      840974.0  865742.0  799696.0         10  837170.0             3   \n",
       "3       10726.0   10450.0    9060.0         13   10028.0            10   \n",
       "4      101344.0  102708.0   92922.0         10   96624.0             5   \n",
       "5      424776.0  424316.0  358752.0         10  378358.0             1   \n",
       "6       37227.0   37570.0   35571.0         10   36785.0             9   \n",
       "7       18178.0   17937.0   13873.0         10   14243.0             5   \n",
       "8       93514.0   93744.0   65000.0          9   65534.0             8   \n",
       "9       13111.0   13546.0   12487.0         14   13396.0             9   \n",
       "\n",
       "qtrid                                      recovery_list  post_peak  \\\n",
       "0      [False, False, False, False, False, False, Fal...     9352.0   \n",
       "1      [False, False, False, True, True, True, False,...     4242.0   \n",
       "2      [False, False, False, False, False, False, Fal...   865742.0   \n",
       "3      [False, True, False, False, False, False, True...    12302.0   \n",
       "4      [False, False, False, True, True, True, False,...   102708.0   \n",
       "5      [False, False, False, False, False, True, True...   427552.0   \n",
       "6      [False, True, False, True, True, True, False, ...    37701.0   \n",
       "7      [False, False, True, True, True, True, True, T...    18178.0   \n",
       "8      [True, True, True, True, True, True, True, Tru...    93744.0   \n",
       "9      [False, False, False, False, False, False, Fal...    13546.0   \n",
       "\n",
       "qtrid  post_peak_qtr                                                new  \\\n",
       "0                 29  [7518.0, 8346.0, 8642.0, 7714.0, 8154.0, 9012....   \n",
       "1                 18  [3812.0, 4126.0, 4072.0, 4040.0, 3894.0, 4062....   \n",
       "2                 31  [794524.0, 820670.0, 813970.0, 837170.0, 80789...   \n",
       "3                 25  [8747.0, 9320.0, 9322.0, 9298.0, 9824.0, 9445....   \n",
       "4                 31  [92042.0, 95082.0, 93852.0, 94730.0, 92978.0, ...   \n",
       "5                 29  [362554.0, 378358.0, 362860.0, 369826.0, 36265...   \n",
       "6                 17  [35242.0, 36634.0, 36225.0, 36026.0, 35447.0, ...   \n",
       "7                 30  [13001.0, 13245.0, 13460.0, 13800.0, 13642.0, ...   \n",
       "8                 31  [58656.0, 60586.0, 60618.0, 60272.0, 59964.0, ...   \n",
       "9                 31  [12532.0, 13213.0, 13015.0, 13207.0, 12852.0, ...   \n",
       "\n",
       "qtrid  recovery  decline    delta  \n",
       "0             1        5    340.0  \n",
       "1             1       13    116.0  \n",
       "2             1        7  28572.0  \n",
       "3             1        3   2274.0  \n",
       "4             1        5   6084.0  \n",
       "5             1        9  49194.0  \n",
       "6             1        1    916.0  \n",
       "7             1        5   3935.0  \n",
       "8             1        1  28210.0  \n",
       "9             1        5    150.0  "
      ],
      "text/html": "<div>\n<style scoped>\n    .dataframe tbody tr th:only-of-type {\n        vertical-align: middle;\n    }\n\n    .dataframe tbody tr th {\n        vertical-align: top;\n    }\n\n    .dataframe thead th {\n        text-align: right;\n    }\n</style>\n<table border=\"1\" class=\"dataframe\">\n  <thead>\n    <tr style=\"text-align: right;\">\n      <th>qtrid</th>\n      <th>index</th>\n      <th>area_fips</th>\n      <th>area_title</th>\n      <th>2000.25</th>\n      <th>2000.5</th>\n      <th>2000.75</th>\n      <th>2001.0</th>\n      <th>2001.25</th>\n      <th>2001.5</th>\n      <th>2001.75</th>\n      <th>2002.0</th>\n      <th>2002.25</th>\n      <th>2002.5</th>\n      <th>2002.75</th>\n      <th>2003.0</th>\n      <th>2003.25</th>\n      <th>2003.5</th>\n      <th>2003.75</th>\n      <th>2004.0</th>\n      <th>2004.25</th>\n      <th>2004.5</th>\n      <th>2004.75</th>\n      <th>2005.0</th>\n      <th>2005.25</th>\n      <th>2005.5</th>\n      <th>2005.75</th>\n      <th>2006.0</th>\n      <th>2006.25</th>\n      <th>2006.5</th>\n      <th>2006.75</th>\n      <th>2007.0</th>\n      <th>2007.25</th>\n      <th>2007.5</th>\n      <th>2007.75</th>\n      <th>2008.0</th>\n      <th>nadir</th>\n      <th>nadir_qtr</th>\n      <th>pre_peak</th>\n      <th>pre_peak_qtr</th>\n      <th>recovery_list</th>\n      <th>post_peak</th>\n      <th>post_peak_qtr</th>\n      <th>new</th>\n      <th>recovery</th>\n      <th>decline</th>\n      <th>delta</th>\n    </tr>\n  </thead>\n  <tbody>\n    <tr>\n      <th>0</th>\n      <td>1374</td>\n      <td>27075</td>\n      <td>Lake County, Minnesota</td>\n      <td>7518.0</td>\n      <td>8346.0</td>\n      <td>8642.0</td>\n      <td>7714.0</td>\n      <td>8154.0</td>\n      <td>9012.0</td>\n      <td>8818.0</td>\n      <td>8174.0</td>\n      <td>7642.0</td>\n      <td>8288.0</td>\n      <td>8840.0</td>\n      <td>8022.0</td>\n      <td>7854.0</td>\n      <td>8876.0</td>\n      <td>8642.0</td>\n      <td>7926.0</td>\n      <td>7838.0</td>\n      <td>9020.0</td>\n      <td>8644.0</td>\n      <td>8130.0</td>\n      <td>8060.0</td>\n      <td>8968.0</td>\n      <td>8694.0</td>\n      <td>8314.0</td>\n      <td>8182.0</td>\n      <td>9344.0</td>\n      <td>8810.0</td>\n      <td>8202.0</td>\n      <td>8214.0</td>\n      <td>9352.0</td>\n      <td>8898.0</td>\n      <td>8346.0</td>\n      <td>7642.0</td>\n      <td>10</td>\n      <td>9012.0</td>\n      <td>5</td>\n      <td>[False, False, False, False, False, False, Fal...</td>\n      <td>9352.0</td>\n      <td>29</td>\n      <td>[7518.0, 8346.0, 8642.0, 7714.0, 8154.0, 9012....</td>\n      <td>1</td>\n      <td>5</td>\n      <td>340.0</td>\n    </tr>\n    <tr>\n      <th>1</th>\n      <td>3073</td>\n      <td>54063</td>\n      <td>Monroe County, West Virginia</td>\n      <td>3812.0</td>\n      <td>4126.0</td>\n      <td>4072.0</td>\n      <td>4040.0</td>\n      <td>3894.0</td>\n      <td>4062.0</td>\n      <td>4086.0</td>\n      <td>4060.0</td>\n      <td>3950.0</td>\n      <td>4122.0</td>\n      <td>4014.0</td>\n      <td>3906.0</td>\n      <td>3772.0</td>\n      <td>3912.0</td>\n      <td>4032.0</td>\n      <td>3996.0</td>\n      <td>4112.0</td>\n      <td>4224.0</td>\n      <td>4242.0</td>\n      <td>4232.0</td>\n      <td>3962.0</td>\n      <td>4138.0</td>\n      <td>4090.0</td>\n      <td>4086.0</td>\n      <td>3978.0</td>\n      <td>4096.0</td>\n      <td>4070.0</td>\n      <td>4196.0</td>\n      <td>4138.0</td>\n      <td>4134.0</td>\n      <td>4210.0</td>\n      <td>4158.0</td>\n      <td>3772.0</td>\n      <td>14</td>\n      <td>4126.0</td>\n      <td>1</td>\n      <td>[False, False, False, True, True, True, False,...</td>\n      <td>4242.0</td>\n      <td>18</td>\n      <td>[3812.0, 4126.0, 4072.0, 4040.0, 3894.0, 4062....</td>\n      <td>1</td>\n      <td>13</td>\n      <td>116.0</td>\n    </tr>\n    <tr>\n      <th>2</th>\n      <td>1919</td>\n      <td>36119</td>\n      <td>Westchester County, New York</td>\n      <td>794524.0</td>\n      <td>820670.0</td>\n      <td>813970.0</td>\n      <td>837170.0</td>\n      <td>807890.0</td>\n      <td>829618.0</td>\n      <td>805440.0</td>\n      <td>823416.0</td>\n      <td>799696.0</td>\n      <td>822272.0</td>\n      <td>807492.0</td>\n      <td>829566.0</td>\n      <td>800922.0</td>\n      <td>822528.0</td>\n      <td>805160.0</td>\n      <td>826352.0</td>\n      <td>808770.0</td>\n      <td>832592.0</td>\n      <td>819536.0</td>\n      <td>842588.0</td>\n      <td>813082.0</td>\n      <td>838078.0</td>\n      <td>823780.0</td>\n      <td>841502.0</td>\n      <td>815112.0</td>\n      <td>842546.0</td>\n      <td>827984.0</td>\n      <td>851376.0</td>\n      <td>830014.0</td>\n      <td>862302.0</td>\n      <td>840974.0</td>\n      <td>865742.0</td>\n      <td>799696.0</td>\n      <td>10</td>\n      <td>837170.0</td>\n      <td>3</td>\n      <td>[False, False, False, False, False, False, Fal...</td>\n      <td>865742.0</td>\n      <td>31</td>\n      <td>[794524.0, 820670.0, 813970.0, 837170.0, 80789...</td>\n      <td>1</td>\n      <td>7</td>\n      <td>28572.0</td>\n    </tr>\n    <tr>\n      <th>3</th>\n      <td>3103</td>\n      <td>55011</td>\n      <td>Buffalo County, Wisconsin</td>\n      <td>8747.0</td>\n      <td>9320.0</td>\n      <td>9322.0</td>\n      <td>9298.0</td>\n      <td>9824.0</td>\n      <td>9445.0</td>\n      <td>9488.0</td>\n      <td>9910.0</td>\n      <td>9768.0</td>\n      <td>9142.0</td>\n      <td>10028.0</td>\n      <td>9060.0</td>\n      <td>9944.0</td>\n      <td>9583.0</td>\n      <td>10390.0</td>\n      <td>9256.0</td>\n      <td>9702.0</td>\n      <td>9462.0</td>\n      <td>9957.0</td>\n      <td>10740.0</td>\n      <td>10502.0</td>\n      <td>11230.0</td>\n      <td>11106.0</td>\n      <td>11158.0</td>\n      <td>11662.0</td>\n      <td>12302.0</td>\n      <td>12298.0</td>\n      <td>11267.0</td>\n      <td>10292.0</td>\n      <td>10938.0</td>\n      <td>10726.0</td>\n      <td>10450.0</td>\n      <td>9060.0</td>\n      <td>13</td>\n      <td>10028.0</td>\n      <td>10</td>\n      <td>[False, True, False, False, False, False, True...</td>\n      <td>12302.0</td>\n      <td>25</td>\n      <td>[8747.0, 9320.0, 9322.0, 9298.0, 9824.0, 9445....</td>\n      <td>1</td>\n      <td>3</td>\n      <td>2274.0</td>\n    </tr>\n    <tr>\n      <th>4</th>\n      <td>3683</td>\n      <td>C2706</td>\n      <td>Ithaca, NY MSA</td>\n      <td>92042.0</td>\n      <td>95082.0</td>\n      <td>93852.0</td>\n      <td>94730.0</td>\n      <td>92978.0</td>\n      <td>96624.0</td>\n      <td>94556.0</td>\n      <td>95156.0</td>\n      <td>92922.0</td>\n      <td>95148.0</td>\n      <td>95666.0</td>\n      <td>96214.0</td>\n      <td>95192.0</td>\n      <td>97904.0</td>\n      <td>97330.0</td>\n      <td>97772.0</td>\n      <td>96510.0</td>\n      <td>98820.0</td>\n      <td>98532.0</td>\n      <td>99160.0</td>\n      <td>100396.0</td>\n      <td>100062.0</td>\n      <td>99060.0</td>\n      <td>99840.0</td>\n      <td>97912.0</td>\n      <td>100914.0</td>\n      <td>99772.0</td>\n      <td>101050.0</td>\n      <td>98418.0</td>\n      <td>101806.0</td>\n      <td>101344.0</td>\n      <td>102708.0</td>\n      <td>92922.0</td>\n      <td>10</td>\n      <td>96624.0</td>\n      <td>5</td>\n      <td>[False, False, False, True, True, True, False,...</td>\n      <td>102708.0</td>\n      <td>31</td>\n      <td>[92042.0, 95082.0, 93852.0, 94730.0, 92978.0, ...</td>\n      <td>1</td>\n      <td>5</td>\n      <td>6084.0</td>\n    </tr>\n    <tr>\n      <th>5</th>\n      <td>2365</td>\n      <td>45019</td>\n      <td>Charleston County, South Carolina</td>\n      <td>362554.0</td>\n      <td>378358.0</td>\n      <td>362860.0</td>\n      <td>369826.0</td>\n      <td>362656.0</td>\n      <td>364742.0</td>\n      <td>360836.0</td>\n      <td>359780.0</td>\n      <td>358752.0</td>\n      <td>370100.0</td>\n      <td>368878.0</td>\n      <td>369464.0</td>\n      <td>369964.0</td>\n      <td>377104.0</td>\n      <td>376108.0</td>\n      <td>378814.0</td>\n      <td>379144.0</td>\n      <td>389946.0</td>\n      <td>389044.0</td>\n      <td>391862.0</td>\n      <td>388852.0</td>\n      <td>402586.0</td>\n      <td>398644.0</td>\n      <td>398042.0</td>\n      <td>396874.0</td>\n      <td>406484.0</td>\n      <td>410372.0</td>\n      <td>416576.0</td>\n      <td>417812.0</td>\n      <td>427552.0</td>\n      <td>424776.0</td>\n      <td>424316.0</td>\n      <td>358752.0</td>\n      <td>10</td>\n      <td>378358.0</td>\n      <td>1</td>\n      <td>[False, False, False, False, False, True, True...</td>\n      <td>427552.0</td>\n      <td>29</td>\n      <td>[362554.0, 378358.0, 362860.0, 369826.0, 36265...</td>\n      <td>1</td>\n      <td>9</td>\n      <td>49194.0</td>\n    </tr>\n    <tr>\n      <th>6</th>\n      <td>3448</td>\n      <td>C1722</td>\n      <td>Clarksburg, WV MicroSA</td>\n      <td>35242.0</td>\n      <td>36634.0</td>\n      <td>36225.0</td>\n      <td>36026.0</td>\n      <td>35447.0</td>\n      <td>36476.0</td>\n      <td>35968.0</td>\n      <td>36227.0</td>\n      <td>35571.0</td>\n      <td>36785.0</td>\n      <td>36377.0</td>\n      <td>36863.0</td>\n      <td>35954.0</td>\n      <td>37505.0</td>\n      <td>37048.0</td>\n      <td>37325.0</td>\n      <td>36400.0</td>\n      <td>37701.0</td>\n      <td>37407.0</td>\n      <td>37503.0</td>\n      <td>36407.0</td>\n      <td>37653.0</td>\n      <td>37616.0</td>\n      <td>37383.0</td>\n      <td>36977.0</td>\n      <td>37625.0</td>\n      <td>37037.0</td>\n      <td>37227.0</td>\n      <td>36265.0</td>\n      <td>37617.0</td>\n      <td>37227.0</td>\n      <td>37570.0</td>\n      <td>35571.0</td>\n      <td>10</td>\n      <td>36785.0</td>\n      <td>9</td>\n      <td>[False, True, False, True, True, True, False, ...</td>\n      <td>37701.0</td>\n      <td>17</td>\n      <td>[35242.0, 36634.0, 36225.0, 36026.0, 35447.0, ...</td>\n      <td>1</td>\n      <td>1</td>\n      <td>916.0</td>\n    </tr>\n    <tr>\n      <th>7</th>\n      <td>3297</td>\n      <td>C1086</td>\n      <td>Alice, TX MicroSA</td>\n      <td>13001.0</td>\n      <td>13245.0</td>\n      <td>13460.0</td>\n      <td>13800.0</td>\n      <td>13642.0</td>\n      <td>14243.0</td>\n      <td>14145.0</td>\n      <td>14031.0</td>\n      <td>13873.0</td>\n      <td>14086.0</td>\n      <td>14208.0</td>\n      <td>14106.0</td>\n      <td>14522.0</td>\n      <td>14855.0</td>\n      <td>14959.0</td>\n      <td>15120.0</td>\n      <td>15105.0</td>\n      <td>15492.0</td>\n      <td>15554.0</td>\n      <td>15695.0</td>\n      <td>15517.0</td>\n      <td>15713.0</td>\n      <td>15970.0</td>\n      <td>15874.0</td>\n      <td>16127.0</td>\n      <td>16666.0</td>\n      <td>16778.0</td>\n      <td>16876.0</td>\n      <td>17380.0</td>\n      <td>18144.0</td>\n      <td>18178.0</td>\n      <td>17937.0</td>\n      <td>13873.0</td>\n      <td>10</td>\n      <td>14243.0</td>\n      <td>5</td>\n      <td>[False, False, True, True, True, True, True, T...</td>\n      <td>18178.0</td>\n      <td>30</td>\n      <td>[13001.0, 13245.0, 13460.0, 13800.0, 13642.0, ...</td>\n      <td>1</td>\n      <td>5</td>\n      <td>3935.0</td>\n    </tr>\n    <tr>\n      <th>8</th>\n      <td>742</td>\n      <td>18063</td>\n      <td>Hendricks County, Indiana</td>\n      <td>58656.0</td>\n      <td>60586.0</td>\n      <td>60618.0</td>\n      <td>60272.0</td>\n      <td>59964.0</td>\n      <td>63238.0</td>\n      <td>65434.0</td>\n      <td>65000.0</td>\n      <td>65534.0</td>\n      <td>66824.0</td>\n      <td>68710.0</td>\n      <td>68680.0</td>\n      <td>67982.0</td>\n      <td>70936.0</td>\n      <td>72554.0</td>\n      <td>74030.0</td>\n      <td>74836.0</td>\n      <td>77138.0</td>\n      <td>78370.0</td>\n      <td>78876.0</td>\n      <td>77654.0</td>\n      <td>79878.0</td>\n      <td>81936.0</td>\n      <td>82752.0</td>\n      <td>83174.0</td>\n      <td>86144.0</td>\n      <td>88166.0</td>\n      <td>88914.0</td>\n      <td>88606.0</td>\n      <td>91556.0</td>\n      <td>93514.0</td>\n      <td>93744.0</td>\n      <td>65000.0</td>\n      <td>9</td>\n      <td>65534.0</td>\n      <td>8</td>\n      <td>[True, True, True, True, True, True, True, Tru...</td>\n      <td>93744.0</td>\n      <td>31</td>\n      <td>[58656.0, 60586.0, 60618.0, 60272.0, 59964.0, ...</td>\n      <td>1</td>\n      <td>1</td>\n      <td>28210.0</td>\n    </tr>\n    <tr>\n      <th>9</th>\n      <td>3618</td>\n      <td>C2446</td>\n      <td>Great Bend, KS MicroSA</td>\n      <td>12532.0</td>\n      <td>13213.0</td>\n      <td>13015.0</td>\n      <td>13207.0</td>\n      <td>12852.0</td>\n      <td>13368.0</td>\n      <td>13077.0</td>\n      <td>13216.0</td>\n      <td>13144.0</td>\n      <td>13396.0</td>\n      <td>13348.0</td>\n      <td>12961.0</td>\n      <td>12487.0</td>\n      <td>12791.0</td>\n      <td>12690.0</td>\n      <td>12638.0</td>\n      <td>12520.0</td>\n      <td>12953.0</td>\n      <td>12679.0</td>\n      <td>12804.0</td>\n      <td>12600.0</td>\n      <td>13152.0</td>\n      <td>12685.0</td>\n      <td>12886.0</td>\n      <td>12946.0</td>\n      <td>13264.0</td>\n      <td>12943.0</td>\n      <td>13339.0</td>\n      <td>13160.0</td>\n      <td>13433.0</td>\n      <td>13111.0</td>\n      <td>13546.0</td>\n      <td>12487.0</td>\n      <td>14</td>\n      <td>13396.0</td>\n      <td>9</td>\n      <td>[False, False, False, False, False, False, Fal...</td>\n      <td>13546.0</td>\n      <td>31</td>\n      <td>[12532.0, 13213.0, 13015.0, 13207.0, 12852.0, ...</td>\n      <td>1</td>\n      <td>5</td>\n      <td>150.0</td>\n    </tr>\n  </tbody>\n</table>\n</div>"
     },
     "metadata": {},
     "execution_count": 36
    }
   ],
   "source": [
    "\n",
    "df_samp"
   ]
  },
  {
   "cell_type": "code",
   "execution_count": 23,
   "metadata": {},
   "outputs": [
    {
     "output_type": "execute_result",
     "data": {
      "text/plain": [
       "array([False, False, False, False, False, False, False,  True, False,\n",
       "       False, False, False, False, False, False,  True, False, False,\n",
       "       False,  True, False, False, False, False])"
      ]
     },
     "metadata": {},
     "execution_count": 23
    }
   ],
   "source": [
    "df_samp.reset_index(inplace=True)\n",
    "df_samp['recovery_list'][0]"
   ]
  },
  {
   "cell_type": "code",
   "execution_count": 24,
   "metadata": {},
   "outputs": [
    {
     "output_type": "stream",
     "name": "stdout",
     "text": [
      "The original list is : [False, False, False, False, False, False, False, True, False, False, False, False, False, False, False, True, False, False, False, True, False, False, False, False]\nThe values till first True value : 7\n"
     ]
    }
   ],
   "source": [
    "\n",
    "# Python3 code to demonstrate  \n",
    "# finding first True value  \n",
    "# using filter() + lamda + index() \n",
    "  \n",
    "# initializing list  \n",
    "test_list = list(df_samp['recovery_list'][0]) \n",
    "  \n",
    "# printing original list \n",
    "print (\"The original list is : \" + str(test_list)) \n",
    "  \n",
    "# finding first True value \n",
    "# using filter() + lamda + index() \n",
    "res = test_list.index(next(filter(lambda i: i != 0, test_list))) \n",
    "  \n",
    "# printing result \n",
    "print (\"The values till first True value : \" + str(res)) \n"
   ]
  },
  {
   "cell_type": "code",
   "execution_count": 38,
   "metadata": {},
   "outputs": [
    {
     "output_type": "stream",
     "name": "stdout",
     "text": [
      "The original list is : [False, False, False, False, False, False, False, True, False, False, False, False, False, False, False, True, False, False, False, True, False, False, False, False]\nThe values till first True value : 7\n"
     ]
    }
   ],
   "source": [
    "\n",
    "  \n",
    "# printing original list \n",
    "print (\"The original list is : \" + str(test_list)) \n",
    "  \n",
    "# finding first True value \n",
    "# using filter() + lamda + index() \n",
    "res = list(df_samp['recovery_list'][0]).index(next(filter(lambda i: i != 0, df_samp['recovery_list'][0])))\n",
    "  \n",
    "# printing result \n",
    "print (\"The values till first True value : \" + str(res)) "
   ]
  },
  {
   "cell_type": "code",
   "execution_count": null,
   "metadata": {},
   "outputs": [],
   "source": []
  },
  {
   "cell_type": "code",
   "execution_count": null,
   "metadata": {},
   "outputs": [],
   "source": []
  },
  {
   "cell_type": "code",
   "execution_count": null,
   "metadata": {},
   "outputs": [],
   "source": [
    "# biggest_vals = df_empl.transpose().iloc[0:8,:].max(axis=0)\n",
    "# ending = (df_empl.transpose() > biggest_vals).idxmax()\n",
    "# biggest_idx = df_wages.T.iloc[0:8,:].idxmax()"
   ]
  }
 ]
}