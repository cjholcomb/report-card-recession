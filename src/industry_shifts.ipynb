{
 "metadata": {
  "language_info": {
   "codemirror_mode": {
    "name": "ipython",
    "version": 3
   },
   "file_extension": ".py",
   "mimetype": "text/x-python",
   "name": "python",
   "nbconvert_exporter": "python",
   "pygments_lexer": "ipython3",
   "version": "3.8.2-final"
  },
  "orig_nbformat": 2,
  "kernelspec": {
   "name": "python3",
   "display_name": "Python 3",
   "language": "python"
  }
 },
 "nbformat": 4,
 "nbformat_minor": 2,
 "cells": [
  {
   "cell_type": "code",
   "execution_count": 1,
   "metadata": {},
   "outputs": [],
   "source": [
    "from industry_dictionaries import *\n",
    "from helper_functions import *\n",
    "from produce_datasets import*\n",
    "import numpy as np\n",
    "import pandas as pd \n"
   ]
  },
  {
   "cell_type": "code",
   "execution_count": 2,
   "metadata": {},
   "outputs": [],
   "source": [
    "def add_qtrid(df):\n",
    "    '''\n",
    "    adds a column for the year and quarter.\n",
    "\n",
    "    params: df(dataframe)\n",
    "    returns: dataframe with column added'''\n",
    "    df['qtrid'] = df['year'] + (df['qtr']/4)\n",
    "    return df\n",
    "\n",
    "def import_one(year, dimension = 'area'):\n",
    "    '''brings a single year's woth of data into a dataframe. Used for initial EDA. \n",
    "    Referenced in import_all\n",
    "\n",
    "    params: year(str)\n",
    "    returns: df(dataframe)'''\n",
    "    filepath = '../data/' + dimension + '_files/' + str(year) + '.csv'\n",
    "    #all relevant csvs are renamed with only the year\n",
    "    df = pd.read_csv(filepath, dtype = schema_dict)\n",
    "    #schema_dict is found in dictionaries.py\n",
    "    for column in drop_columns:\n",
    "        if column in df.columns:\n",
    "            df = df.drop([column], axis = 1)\n",
    "    if dimension == 'area':\n",
    "        df = df.drop(columns = ['industry_code', 'industry_title'])\n",
    "    elif dimension == 'industry':\n",
    "        df = df.drop(columns = ['area_fips', 'area_title'])\n",
    "    return df\n",
    "\n",
    "def import_all(years, dimension = 'area'):\n",
    "    '''combines as many years ofdata into a single dataframe, as well as adding quater id\n",
    "    References import_one and add_qtrid\n",
    "\n",
    "    params: years (list of str)\n",
    "    returns: df (dataframe)'''\n",
    "    df = import_one(years[0], dimension)\n",
    "    for year in years[1:]:\n",
    "        df = df.append(import_one(year, dimension))\n",
    "    if dimension == 'industry':\n",
    "        df['industry_code'] = df['industry_code'].str.replace('31-33','31')\n",
    "        df['industry_code'] = df['industry_code'].str.replace('44-45','44')\n",
    "        df['industry_code'] = df['industry_code'].str.replace('48-49','48').astype('int32')\n",
    "    df = add_qtrid(df)\n",
    "    return df"
   ]
  },
  {
   "cell_type": "code",
   "execution_count": 3,
   "metadata": {},
   "outputs": [
    {
     "output_type": "execute_result",
     "data": {
      "text/plain": [
       "      industry_code agglvl_code  year  qtr             industry_title  \\\n",
       "0                10          10  2000    1      Total, all industries   \n",
       "1                10          10  2000    2      Total, all industries   \n",
       "2                10          10  2000    3      Total, all industries   \n",
       "3                10          10  2000    4      Total, all industries   \n",
       "4                10          11  2000    1      Total, all industries   \n",
       "...             ...         ...   ...  ...                        ...   \n",
       "4538           9999          16  2020    1    NAICS 9999 Unclassified   \n",
       "4539          99999          17  2020    1   NAICS 99999 Unclassified   \n",
       "4540         999999          18  2020    1  NAICS 999999 Unclassified   \n",
       "4541             10          95  2020    1   10 Total, all industries   \n",
       "4542             10          94  2020    1   10 Total, all industries   \n",
       "\n",
       "                                        agglvl_title  qtrly_estabs_count  \\\n",
       "0                            National, Total Covered             7826995   \n",
       "1                            National, Total Covered             7875131   \n",
       "2                            National, Total Covered             7933006   \n",
       "3                            National, Total Covered             7977519   \n",
       "4             National, Total -- by ownership sector               49951   \n",
       "...                                              ...                 ...   \n",
       "4538  National, NAICS 4-digit -- by ownership sector              209363   \n",
       "4539  National, NAICS 5-digit -- by ownership sector              209363   \n",
       "4540  National, NAICS 6-digit -- by ownership sector              209363   \n",
       "4541                         Total Government (U.S.)              302010   \n",
       "4542                       Total U.I. Covered (U.S.)            10386226   \n",
       "\n",
       "      month1_emplvl  month2_emplvl  month3_emplvl  total_qtrly_wages  \\\n",
       "0         126352639      126977629      128382759      1139641437117   \n",
       "1         129380449      130778347      131822109      1109900612460   \n",
       "2         129190188      129692207      131137819      1114426155413   \n",
       "3         131225754      131626564      131988539      1224833506635   \n",
       "4           2761847        2780175        2872449        32666726996   \n",
       "...             ...            ...            ...                ...   \n",
       "4538         178607         192405         193069         2863058672   \n",
       "4539         178607         192405         193069         2863058672   \n",
       "4540         178607         192405         193069         2863058672   \n",
       "4541       21990303       22201550       22249558       327171190678   \n",
       "4542      144441106      145019475      144231656      2285231285851   \n",
       "\n",
       "      avg_wkly_wage  oty_month1_emplvl_pct_chg  oty_month2_emplvl_pct_chg  \\\n",
       "0               689                        NaN                        NaN   \n",
       "1               653                        NaN                        NaN   \n",
       "2               659                        NaN                        NaN   \n",
       "3               716                        NaN                        NaN   \n",
       "4               896                        NaN                        NaN   \n",
       "...             ...                        ...                        ...   \n",
       "4538           1171                       61.9                       65.6   \n",
       "4539           1171                       61.9                       65.6   \n",
       "4540           1171                       61.9                       65.6   \n",
       "4541           1136                        1.3                        1.1   \n",
       "4542           1216                        1.3                        1.3   \n",
       "\n",
       "      oty_month3_emplvl_pct_chg  oty_total_qtrly_wages_pct_chg  \\\n",
       "0                           NaN                            NaN   \n",
       "1                           NaN                            NaN   \n",
       "2                           NaN                            NaN   \n",
       "3                           NaN                            NaN   \n",
       "4                           NaN                            NaN   \n",
       "...                         ...                            ...   \n",
       "4538                       62.3                           76.7   \n",
       "4539                       62.3                           76.7   \n",
       "4540                       62.3                           76.7   \n",
       "4541                        0.9                            3.8   \n",
       "4542                        0.3                            4.4   \n",
       "\n",
       "      oty_taxable_qtrly_wages_pct_chg  oty_qtrly_contributions_pct_chg  \\\n",
       "0                                 NaN                              NaN   \n",
       "1                                 NaN                              NaN   \n",
       "2                                 NaN                              NaN   \n",
       "3                                 NaN                              NaN   \n",
       "4                                 NaN                              NaN   \n",
       "...                               ...                              ...   \n",
       "4538                             69.5                             74.2   \n",
       "4539                             69.5                             74.2   \n",
       "4540                             69.5                             74.2   \n",
       "4541                              3.0                              5.5   \n",
       "4542                              3.1                             -4.8   \n",
       "\n",
       "      oty_avg_wkly_wage_pct_chg    qtrid  \n",
       "0                           NaN  2000.25  \n",
       "1                           NaN  2000.50  \n",
       "2                           NaN  2000.75  \n",
       "3                           NaN  2001.00  \n",
       "4                           NaN  2000.25  \n",
       "...                         ...      ...  \n",
       "4538                        8.1  2020.25  \n",
       "4539                        8.1  2020.25  \n",
       "4540                        8.1  2020.25  \n",
       "4541                        2.6  2020.25  \n",
       "4542                        3.3  2020.25  \n",
       "\n",
       "[375175 rows x 20 columns]"
      ],
      "text/html": "<div>\n<style scoped>\n    .dataframe tbody tr th:only-of-type {\n        vertical-align: middle;\n    }\n\n    .dataframe tbody tr th {\n        vertical-align: top;\n    }\n\n    .dataframe thead th {\n        text-align: right;\n    }\n</style>\n<table border=\"1\" class=\"dataframe\">\n  <thead>\n    <tr style=\"text-align: right;\">\n      <th></th>\n      <th>industry_code</th>\n      <th>agglvl_code</th>\n      <th>year</th>\n      <th>qtr</th>\n      <th>industry_title</th>\n      <th>agglvl_title</th>\n      <th>qtrly_estabs_count</th>\n      <th>month1_emplvl</th>\n      <th>month2_emplvl</th>\n      <th>month3_emplvl</th>\n      <th>total_qtrly_wages</th>\n      <th>avg_wkly_wage</th>\n      <th>oty_month1_emplvl_pct_chg</th>\n      <th>oty_month2_emplvl_pct_chg</th>\n      <th>oty_month3_emplvl_pct_chg</th>\n      <th>oty_total_qtrly_wages_pct_chg</th>\n      <th>oty_taxable_qtrly_wages_pct_chg</th>\n      <th>oty_qtrly_contributions_pct_chg</th>\n      <th>oty_avg_wkly_wage_pct_chg</th>\n      <th>qtrid</th>\n    </tr>\n  </thead>\n  <tbody>\n    <tr>\n      <th>0</th>\n      <td>10</td>\n      <td>10</td>\n      <td>2000</td>\n      <td>1</td>\n      <td>Total, all industries</td>\n      <td>National, Total Covered</td>\n      <td>7826995</td>\n      <td>126352639</td>\n      <td>126977629</td>\n      <td>128382759</td>\n      <td>1139641437117</td>\n      <td>689</td>\n      <td>NaN</td>\n      <td>NaN</td>\n      <td>NaN</td>\n      <td>NaN</td>\n      <td>NaN</td>\n      <td>NaN</td>\n      <td>NaN</td>\n      <td>2000.25</td>\n    </tr>\n    <tr>\n      <th>1</th>\n      <td>10</td>\n      <td>10</td>\n      <td>2000</td>\n      <td>2</td>\n      <td>Total, all industries</td>\n      <td>National, Total Covered</td>\n      <td>7875131</td>\n      <td>129380449</td>\n      <td>130778347</td>\n      <td>131822109</td>\n      <td>1109900612460</td>\n      <td>653</td>\n      <td>NaN</td>\n      <td>NaN</td>\n      <td>NaN</td>\n      <td>NaN</td>\n      <td>NaN</td>\n      <td>NaN</td>\n      <td>NaN</td>\n      <td>2000.50</td>\n    </tr>\n    <tr>\n      <th>2</th>\n      <td>10</td>\n      <td>10</td>\n      <td>2000</td>\n      <td>3</td>\n      <td>Total, all industries</td>\n      <td>National, Total Covered</td>\n      <td>7933006</td>\n      <td>129190188</td>\n      <td>129692207</td>\n      <td>131137819</td>\n      <td>1114426155413</td>\n      <td>659</td>\n      <td>NaN</td>\n      <td>NaN</td>\n      <td>NaN</td>\n      <td>NaN</td>\n      <td>NaN</td>\n      <td>NaN</td>\n      <td>NaN</td>\n      <td>2000.75</td>\n    </tr>\n    <tr>\n      <th>3</th>\n      <td>10</td>\n      <td>10</td>\n      <td>2000</td>\n      <td>4</td>\n      <td>Total, all industries</td>\n      <td>National, Total Covered</td>\n      <td>7977519</td>\n      <td>131225754</td>\n      <td>131626564</td>\n      <td>131988539</td>\n      <td>1224833506635</td>\n      <td>716</td>\n      <td>NaN</td>\n      <td>NaN</td>\n      <td>NaN</td>\n      <td>NaN</td>\n      <td>NaN</td>\n      <td>NaN</td>\n      <td>NaN</td>\n      <td>2001.00</td>\n    </tr>\n    <tr>\n      <th>4</th>\n      <td>10</td>\n      <td>11</td>\n      <td>2000</td>\n      <td>1</td>\n      <td>Total, all industries</td>\n      <td>National, Total -- by ownership sector</td>\n      <td>49951</td>\n      <td>2761847</td>\n      <td>2780175</td>\n      <td>2872449</td>\n      <td>32666726996</td>\n      <td>896</td>\n      <td>NaN</td>\n      <td>NaN</td>\n      <td>NaN</td>\n      <td>NaN</td>\n      <td>NaN</td>\n      <td>NaN</td>\n      <td>NaN</td>\n      <td>2000.25</td>\n    </tr>\n    <tr>\n      <th>...</th>\n      <td>...</td>\n      <td>...</td>\n      <td>...</td>\n      <td>...</td>\n      <td>...</td>\n      <td>...</td>\n      <td>...</td>\n      <td>...</td>\n      <td>...</td>\n      <td>...</td>\n      <td>...</td>\n      <td>...</td>\n      <td>...</td>\n      <td>...</td>\n      <td>...</td>\n      <td>...</td>\n      <td>...</td>\n      <td>...</td>\n      <td>...</td>\n      <td>...</td>\n    </tr>\n    <tr>\n      <th>4538</th>\n      <td>9999</td>\n      <td>16</td>\n      <td>2020</td>\n      <td>1</td>\n      <td>NAICS 9999 Unclassified</td>\n      <td>National, NAICS 4-digit -- by ownership sector</td>\n      <td>209363</td>\n      <td>178607</td>\n      <td>192405</td>\n      <td>193069</td>\n      <td>2863058672</td>\n      <td>1171</td>\n      <td>61.9</td>\n      <td>65.6</td>\n      <td>62.3</td>\n      <td>76.7</td>\n      <td>69.5</td>\n      <td>74.2</td>\n      <td>8.1</td>\n      <td>2020.25</td>\n    </tr>\n    <tr>\n      <th>4539</th>\n      <td>99999</td>\n      <td>17</td>\n      <td>2020</td>\n      <td>1</td>\n      <td>NAICS 99999 Unclassified</td>\n      <td>National, NAICS 5-digit -- by ownership sector</td>\n      <td>209363</td>\n      <td>178607</td>\n      <td>192405</td>\n      <td>193069</td>\n      <td>2863058672</td>\n      <td>1171</td>\n      <td>61.9</td>\n      <td>65.6</td>\n      <td>62.3</td>\n      <td>76.7</td>\n      <td>69.5</td>\n      <td>74.2</td>\n      <td>8.1</td>\n      <td>2020.25</td>\n    </tr>\n    <tr>\n      <th>4540</th>\n      <td>999999</td>\n      <td>18</td>\n      <td>2020</td>\n      <td>1</td>\n      <td>NAICS 999999 Unclassified</td>\n      <td>National, NAICS 6-digit -- by ownership sector</td>\n      <td>209363</td>\n      <td>178607</td>\n      <td>192405</td>\n      <td>193069</td>\n      <td>2863058672</td>\n      <td>1171</td>\n      <td>61.9</td>\n      <td>65.6</td>\n      <td>62.3</td>\n      <td>76.7</td>\n      <td>69.5</td>\n      <td>74.2</td>\n      <td>8.1</td>\n      <td>2020.25</td>\n    </tr>\n    <tr>\n      <th>4541</th>\n      <td>10</td>\n      <td>95</td>\n      <td>2020</td>\n      <td>1</td>\n      <td>10 Total, all industries</td>\n      <td>Total Government (U.S.)</td>\n      <td>302010</td>\n      <td>21990303</td>\n      <td>22201550</td>\n      <td>22249558</td>\n      <td>327171190678</td>\n      <td>1136</td>\n      <td>1.3</td>\n      <td>1.1</td>\n      <td>0.9</td>\n      <td>3.8</td>\n      <td>3.0</td>\n      <td>5.5</td>\n      <td>2.6</td>\n      <td>2020.25</td>\n    </tr>\n    <tr>\n      <th>4542</th>\n      <td>10</td>\n      <td>94</td>\n      <td>2020</td>\n      <td>1</td>\n      <td>10 Total, all industries</td>\n      <td>Total U.I. Covered (U.S.)</td>\n      <td>10386226</td>\n      <td>144441106</td>\n      <td>145019475</td>\n      <td>144231656</td>\n      <td>2285231285851</td>\n      <td>1216</td>\n      <td>1.3</td>\n      <td>1.3</td>\n      <td>0.3</td>\n      <td>4.4</td>\n      <td>3.1</td>\n      <td>-4.8</td>\n      <td>3.3</td>\n      <td>2020.25</td>\n    </tr>\n  </tbody>\n</table>\n<p>375175 rows × 20 columns</p>\n</div>"
     },
     "metadata": {},
     "execution_count": 3
    }
   ],
   "source": [
    "df = import_all(recessions_int['full'], dimension = 'industry')\n",
    "df"
   ]
  },
  {
   "cell_type": "code",
   "execution_count": 4,
   "metadata": {},
   "outputs": [
    {
     "output_type": "execute_result",
     "data": {
      "text/plain": [
       "qtrid              2000.25      2000.50      2000.75      2001.00  \\\n",
       "industry_code                                                       \n",
       "10             402487852.0  412644261.0  410514408.0  413488734.0   \n",
       "11               1075812.0    1352286.0    1337463.0    1090392.0   \n",
       "21                501050.0     514959.0     521158.0     520320.0   \n",
       "22                845966.0     857873.0     843721.0     844972.0   \n",
       "23               6529756.0    7111232.0    7127272.0    6847425.0   \n",
       "...                    ...          ...          ...          ...   \n",
       "926150             83522.0      85364.0      85384.0      85451.0   \n",
       "927110             17285.0      18154.0      17500.0      17508.0   \n",
       "928110            524911.0     528112.0     521462.0     520320.0   \n",
       "928120             43847.0      44988.0      45332.0      44923.0   \n",
       "999999                 NaN          NaN          NaN          NaN   \n",
       "\n",
       "qtrid              2001.25      2001.50      2001.75      2002.00  \\\n",
       "industry_code                                                       \n",
       "10             406660923.0  412554119.0  407651445.0  406860089.0   \n",
       "11               1049212.0    1315058.0    1291827.0    1063966.0   \n",
       "21                523621.0     548175.0     547480.0     531137.0   \n",
       "22                837786.0     851427.0     841093.0     843745.0   \n",
       "23               6676321.0    7237914.0    7200035.0    6868261.0   \n",
       "...                    ...          ...          ...          ...   \n",
       "926150             86255.0      87439.0      87709.0      86369.0   \n",
       "927110             17792.0      17560.0      17657.0      17528.0   \n",
       "928110            516830.0     521809.0     520243.0     515632.0   \n",
       "928120             45220.0      46492.0      46636.0      47374.0   \n",
       "999999            312592.0     299885.0     251654.0     209993.0   \n",
       "\n",
       "qtrid              2002.25      2002.50  ...      2018.00      2018.25  \\\n",
       "industry_code                            ...                             \n",
       "10             400229102.0  407450305.0  ...  456922226.0  452748513.0   \n",
       "11               1037388.0    1288052.0  ...    1160863.0    1146859.0   \n",
       "21                505017.0     513124.0  ...     646430.0     655179.0   \n",
       "22                838292.0     846349.0  ...     813567.0     811779.0   \n",
       "23               6578842.0    7087261.0  ...    7155970.0    7084920.0   \n",
       "...                    ...          ...  ...          ...          ...   \n",
       "926150             86574.0      87431.0  ...      94387.0      96198.0   \n",
       "927110             17336.0      17516.0  ...      17195.0      17127.0   \n",
       "928110            509815.0     515117.0  ...     544560.0     541012.0   \n",
       "928120             50275.0      50581.0  ...      33667.0      33347.0   \n",
       "999999            227896.0     227740.0  ...     234965.0     127469.0   \n",
       "\n",
       "qtrid              2018.50      2018.75      2019.00      2019.25  \\\n",
       "industry_code                                                       \n",
       "10             461176897.0  459565267.0  463595878.0  458925368.0   \n",
       "11               1395000.0    1365370.0    1159168.0    1133216.0   \n",
       "21                679650.0     687605.0     689961.0     682931.0   \n",
       "22                819936.0     811172.0     809994.0     808939.0   \n",
       "23               7606877.0    7624096.0    7455393.0    7325663.0   \n",
       "...                    ...          ...          ...          ...   \n",
       "926150             97261.0      96643.0      96620.0      95954.0   \n",
       "927110             17233.0      17477.0      17259.0      17162.0   \n",
       "928110            547414.0     551089.0     557591.0     554851.0   \n",
       "928120             33618.0      33551.0      33870.0      34376.0   \n",
       "999999            130178.0     131554.0     139028.0     119074.0   \n",
       "\n",
       "qtrid              2019.50      2019.75      2020.00      2020.25  \n",
       "industry_code                                                      \n",
       "10             466571448.0  465161688.0  469391079.0  460659104.0  \n",
       "11               1386260.0    1374789.0    1170255.0    1150086.0  \n",
       "21                687285.0     670974.0     643645.0     622823.0  \n",
       "22                817913.0     810631.0     810874.0     808239.0  \n",
       "23               7815315.0    7838089.0    7618057.0    7450207.0  \n",
       "...                    ...          ...          ...          ...  \n",
       "926150             97039.0      96936.0      97022.0      96755.0  \n",
       "927110             17341.0      17531.0      17316.0      17194.0  \n",
       "928110            554339.0     560478.0     570174.0     575807.0  \n",
       "928120             34461.0      34383.0      35274.0      35722.0  \n",
       "999999            128866.0     133650.0     155751.0     193186.0  \n",
       "\n",
       "[2497 rows x 81 columns]"
      ],
      "text/html": "<div>\n<style scoped>\n    .dataframe tbody tr th:only-of-type {\n        vertical-align: middle;\n    }\n\n    .dataframe tbody tr th {\n        vertical-align: top;\n    }\n\n    .dataframe thead th {\n        text-align: right;\n    }\n</style>\n<table border=\"1\" class=\"dataframe\">\n  <thead>\n    <tr style=\"text-align: right;\">\n      <th>qtrid</th>\n      <th>2000.25</th>\n      <th>2000.50</th>\n      <th>2000.75</th>\n      <th>2001.00</th>\n      <th>2001.25</th>\n      <th>2001.50</th>\n      <th>2001.75</th>\n      <th>2002.00</th>\n      <th>2002.25</th>\n      <th>2002.50</th>\n      <th>...</th>\n      <th>2018.00</th>\n      <th>2018.25</th>\n      <th>2018.50</th>\n      <th>2018.75</th>\n      <th>2019.00</th>\n      <th>2019.25</th>\n      <th>2019.50</th>\n      <th>2019.75</th>\n      <th>2020.00</th>\n      <th>2020.25</th>\n    </tr>\n    <tr>\n      <th>industry_code</th>\n      <th></th>\n      <th></th>\n      <th></th>\n      <th></th>\n      <th></th>\n      <th></th>\n      <th></th>\n      <th></th>\n      <th></th>\n      <th></th>\n      <th></th>\n      <th></th>\n      <th></th>\n      <th></th>\n      <th></th>\n      <th></th>\n      <th></th>\n      <th></th>\n      <th></th>\n      <th></th>\n      <th></th>\n    </tr>\n  </thead>\n  <tbody>\n    <tr>\n      <th>10</th>\n      <td>402487852.0</td>\n      <td>412644261.0</td>\n      <td>410514408.0</td>\n      <td>413488734.0</td>\n      <td>406660923.0</td>\n      <td>412554119.0</td>\n      <td>407651445.0</td>\n      <td>406860089.0</td>\n      <td>400229102.0</td>\n      <td>407450305.0</td>\n      <td>...</td>\n      <td>456922226.0</td>\n      <td>452748513.0</td>\n      <td>461176897.0</td>\n      <td>459565267.0</td>\n      <td>463595878.0</td>\n      <td>458925368.0</td>\n      <td>466571448.0</td>\n      <td>465161688.0</td>\n      <td>469391079.0</td>\n      <td>460659104.0</td>\n    </tr>\n    <tr>\n      <th>11</th>\n      <td>1075812.0</td>\n      <td>1352286.0</td>\n      <td>1337463.0</td>\n      <td>1090392.0</td>\n      <td>1049212.0</td>\n      <td>1315058.0</td>\n      <td>1291827.0</td>\n      <td>1063966.0</td>\n      <td>1037388.0</td>\n      <td>1288052.0</td>\n      <td>...</td>\n      <td>1160863.0</td>\n      <td>1146859.0</td>\n      <td>1395000.0</td>\n      <td>1365370.0</td>\n      <td>1159168.0</td>\n      <td>1133216.0</td>\n      <td>1386260.0</td>\n      <td>1374789.0</td>\n      <td>1170255.0</td>\n      <td>1150086.0</td>\n    </tr>\n    <tr>\n      <th>21</th>\n      <td>501050.0</td>\n      <td>514959.0</td>\n      <td>521158.0</td>\n      <td>520320.0</td>\n      <td>523621.0</td>\n      <td>548175.0</td>\n      <td>547480.0</td>\n      <td>531137.0</td>\n      <td>505017.0</td>\n      <td>513124.0</td>\n      <td>...</td>\n      <td>646430.0</td>\n      <td>655179.0</td>\n      <td>679650.0</td>\n      <td>687605.0</td>\n      <td>689961.0</td>\n      <td>682931.0</td>\n      <td>687285.0</td>\n      <td>670974.0</td>\n      <td>643645.0</td>\n      <td>622823.0</td>\n    </tr>\n    <tr>\n      <th>22</th>\n      <td>845966.0</td>\n      <td>857873.0</td>\n      <td>843721.0</td>\n      <td>844972.0</td>\n      <td>837786.0</td>\n      <td>851427.0</td>\n      <td>841093.0</td>\n      <td>843745.0</td>\n      <td>838292.0</td>\n      <td>846349.0</td>\n      <td>...</td>\n      <td>813567.0</td>\n      <td>811779.0</td>\n      <td>819936.0</td>\n      <td>811172.0</td>\n      <td>809994.0</td>\n      <td>808939.0</td>\n      <td>817913.0</td>\n      <td>810631.0</td>\n      <td>810874.0</td>\n      <td>808239.0</td>\n    </tr>\n    <tr>\n      <th>23</th>\n      <td>6529756.0</td>\n      <td>7111232.0</td>\n      <td>7127272.0</td>\n      <td>6847425.0</td>\n      <td>6676321.0</td>\n      <td>7237914.0</td>\n      <td>7200035.0</td>\n      <td>6868261.0</td>\n      <td>6578842.0</td>\n      <td>7087261.0</td>\n      <td>...</td>\n      <td>7155970.0</td>\n      <td>7084920.0</td>\n      <td>7606877.0</td>\n      <td>7624096.0</td>\n      <td>7455393.0</td>\n      <td>7325663.0</td>\n      <td>7815315.0</td>\n      <td>7838089.0</td>\n      <td>7618057.0</td>\n      <td>7450207.0</td>\n    </tr>\n    <tr>\n      <th>...</th>\n      <td>...</td>\n      <td>...</td>\n      <td>...</td>\n      <td>...</td>\n      <td>...</td>\n      <td>...</td>\n      <td>...</td>\n      <td>...</td>\n      <td>...</td>\n      <td>...</td>\n      <td>...</td>\n      <td>...</td>\n      <td>...</td>\n      <td>...</td>\n      <td>...</td>\n      <td>...</td>\n      <td>...</td>\n      <td>...</td>\n      <td>...</td>\n      <td>...</td>\n      <td>...</td>\n    </tr>\n    <tr>\n      <th>926150</th>\n      <td>83522.0</td>\n      <td>85364.0</td>\n      <td>85384.0</td>\n      <td>85451.0</td>\n      <td>86255.0</td>\n      <td>87439.0</td>\n      <td>87709.0</td>\n      <td>86369.0</td>\n      <td>86574.0</td>\n      <td>87431.0</td>\n      <td>...</td>\n      <td>94387.0</td>\n      <td>96198.0</td>\n      <td>97261.0</td>\n      <td>96643.0</td>\n      <td>96620.0</td>\n      <td>95954.0</td>\n      <td>97039.0</td>\n      <td>96936.0</td>\n      <td>97022.0</td>\n      <td>96755.0</td>\n    </tr>\n    <tr>\n      <th>927110</th>\n      <td>17285.0</td>\n      <td>18154.0</td>\n      <td>17500.0</td>\n      <td>17508.0</td>\n      <td>17792.0</td>\n      <td>17560.0</td>\n      <td>17657.0</td>\n      <td>17528.0</td>\n      <td>17336.0</td>\n      <td>17516.0</td>\n      <td>...</td>\n      <td>17195.0</td>\n      <td>17127.0</td>\n      <td>17233.0</td>\n      <td>17477.0</td>\n      <td>17259.0</td>\n      <td>17162.0</td>\n      <td>17341.0</td>\n      <td>17531.0</td>\n      <td>17316.0</td>\n      <td>17194.0</td>\n    </tr>\n    <tr>\n      <th>928110</th>\n      <td>524911.0</td>\n      <td>528112.0</td>\n      <td>521462.0</td>\n      <td>520320.0</td>\n      <td>516830.0</td>\n      <td>521809.0</td>\n      <td>520243.0</td>\n      <td>515632.0</td>\n      <td>509815.0</td>\n      <td>515117.0</td>\n      <td>...</td>\n      <td>544560.0</td>\n      <td>541012.0</td>\n      <td>547414.0</td>\n      <td>551089.0</td>\n      <td>557591.0</td>\n      <td>554851.0</td>\n      <td>554339.0</td>\n      <td>560478.0</td>\n      <td>570174.0</td>\n      <td>575807.0</td>\n    </tr>\n    <tr>\n      <th>928120</th>\n      <td>43847.0</td>\n      <td>44988.0</td>\n      <td>45332.0</td>\n      <td>44923.0</td>\n      <td>45220.0</td>\n      <td>46492.0</td>\n      <td>46636.0</td>\n      <td>47374.0</td>\n      <td>50275.0</td>\n      <td>50581.0</td>\n      <td>...</td>\n      <td>33667.0</td>\n      <td>33347.0</td>\n      <td>33618.0</td>\n      <td>33551.0</td>\n      <td>33870.0</td>\n      <td>34376.0</td>\n      <td>34461.0</td>\n      <td>34383.0</td>\n      <td>35274.0</td>\n      <td>35722.0</td>\n    </tr>\n    <tr>\n      <th>999999</th>\n      <td>NaN</td>\n      <td>NaN</td>\n      <td>NaN</td>\n      <td>NaN</td>\n      <td>312592.0</td>\n      <td>299885.0</td>\n      <td>251654.0</td>\n      <td>209993.0</td>\n      <td>227896.0</td>\n      <td>227740.0</td>\n      <td>...</td>\n      <td>234965.0</td>\n      <td>127469.0</td>\n      <td>130178.0</td>\n      <td>131554.0</td>\n      <td>139028.0</td>\n      <td>119074.0</td>\n      <td>128866.0</td>\n      <td>133650.0</td>\n      <td>155751.0</td>\n      <td>193186.0</td>\n    </tr>\n  </tbody>\n</table>\n<p>2497 rows × 81 columns</p>\n</div>"
     },
     "metadata": {},
     "execution_count": 4
    }
   ],
   "source": [
    "df = df.pivot_table(columns = 'qtrid', values = 'month3_emplvl', index = ['industry_code'], aggfunc = np.sum)\n",
    "df"
   ]
  },
  {
   "cell_type": "code",
   "execution_count": 5,
   "metadata": {},
   "outputs": [],
   "source": [
    "df = df.fillna(0)"
   ]
  },
  {
   "cell_type": "code",
   "execution_count": 6,
   "metadata": {},
   "outputs": [],
   "source": [
    "df = df.reset_index()\n"
   ]
  },
  {
   "cell_type": "code",
   "execution_count": 7,
   "metadata": {},
   "outputs": [],
   "source": [
    "added = df[df[2001.25] == 0]['industry_code']"
   ]
  },
  {
   "cell_type": "code",
   "execution_count": 8,
   "metadata": {},
   "outputs": [
    {
     "output_type": "execute_result",
     "data": {
      "text/plain": [
       "298       4522\n",
       "299       4523\n",
       "434       7225\n",
       "500      21112\n",
       "501      21113\n",
       "         ...  \n",
       "2277    561312\n",
       "2414    722511\n",
       "2415    722513\n",
       "2416    722514\n",
       "2417    722515\n",
       "Name: industry_code, Length: 121, dtype: int64"
      ]
     },
     "metadata": {},
     "execution_count": 8
    }
   ],
   "source": [
    "added"
   ]
  },
  {
   "cell_type": "code",
   "execution_count": 9,
   "metadata": {},
   "outputs": [
    {
     "output_type": "execute_result",
     "data": {
      "text/plain": [
       "86         516\n",
       "297       4521\n",
       "300       4529\n",
       "343       5161\n",
       "344       5171\n",
       "         ...  \n",
       "2275    561310\n",
       "2406    722110\n",
       "2407    722211\n",
       "2408    722212\n",
       "2409    722213\n",
       "Name: industry_code, Length: 266, dtype: int64"
      ]
     },
     "metadata": {},
     "execution_count": 9
    }
   ],
   "source": [
    "subtracted = df[df[2020.25] == 0]['industry_code']\n",
    "subtracted"
   ]
  }
 ]
}