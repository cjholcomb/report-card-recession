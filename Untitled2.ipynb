{
 "cells": [
  {
   "cell_type": "code",
   "execution_count": 1,
   "metadata": {},
   "outputs": [],
   "source": [
    "from src.produce_datasets import *\n",
    "from src.model_tester import *\n",
    "from src.dictionaries import *\n",
    "from sklearn.metrics import f1_score"
   ]
  },
  {
   "cell_type": "code",
   "execution_count": 2,
   "metadata": {},
   "outputs": [],
   "source": [
    "df_2020 = feature_space('2020')\n",
    "df = pd.read_json('data/training_dataset.json')"
   ]
  },
  {
   "cell_type": "code",
   "execution_count": 3,
   "metadata": {},
   "outputs": [],
   "source": [
    "    for column in features:\n",
    "        df_2020[column] = 0"
   ]
  },
  {
   "cell_type": "code",
   "execution_count": 4,
   "metadata": {},
   "outputs": [],
   "source": [
    "    X = df.loc[:,features].values\n"
   ]
  },
  {
   "cell_type": "code",
   "execution_count": 5,
   "metadata": {},
   "outputs": [],
   "source": [
    "    X_prime = df_2020.loc[:,features].values\n"
   ]
  },
  {
   "cell_type": "code",
   "execution_count": 7,
   "metadata": {},
   "outputs": [],
   "source": [
    "    y_recovery = df.loc[:,['recovery']].values * 1\n",
    "    y_delta = df.loc[:,['delta']].values * 1\n",
    "    y_decline = df.loc[:,['decline']].values * 1  \n",
    "    y_recovery = y_recovery.reshape(len(y_recovery),)\n",
    "    X_train, X_test, y_train, y_test = train_test_split(X, y_recovery, test_size=.2, stratify = y_recovery)\n",
    "    scaler = StandardScaler()\n",
    "    scaler.fit(X_train)\n",
    "    X_train = scaler.transform(X_train)\n",
    "    X_test = scaler.transform(X_test)\n",
    "    recovery_model = RFC(bootstrap=True, ccp_alpha=0.0, class_weight=None,\n",
    "                        criterion='gini', max_depth=15, max_features='auto',\n",
    "                        max_leaf_nodes=None, max_samples=None,\n",
    "                        min_impurity_decrease=0.0, min_impurity_split=None,\n",
    "                        min_samples_leaf=10, min_samples_split=2,\n",
    "                        min_weight_fraction_leaf=0.0, n_estimators=100,\n",
    "                        n_jobs=None, oob_score=False, verbose=0,\n",
    "                        warm_start=False)"
   ]
  },
  {
   "cell_type": "markdown",
   "metadata": {},
   "source": [
    "    Is this the broken one?\n",
    "    \n",
    "    y_recovery = df.loc[:,['recovery']].values * 1\n",
    "    y_delta = df.loc[:,['delta']].values * 1\n",
    "    y_decline = df.loc[:,['decline']].values * 1  \n",
    "    y_recovery = df.loc[:,['recovery']].values * 1\n",
    "    y_recovery = y_recovery.reshape(len(y_recovery),)\n",
    "    X_train, X_test, y_train, y_test = train_test_split(X, y_recovery, test_size=.2, stratify = y_recovery)\n",
    "    scaler = StandardScaler()\n",
    "    scaler.fit(X_train)\n",
    "    X_train = scaler.transform(X_train)\n",
    "    recovery_model = RFC(bootstrap=True, ccp_alpha=0, \n",
    "                        criterion='entropy', max_depth=2, max_features='log2',\n",
    "                        max_leaf_nodes=None, max_samples=1,\n",
    "                        min_impurity_decrease=0, min_impurity_split=None,\n",
    "                        min_samples_leaf=1, min_samples_split=2,\n",
    "                        min_weight_fraction_leaf=0.0, n_estimators=200,\n",
    "                        n_jobs=None, oob_score=True, random_state=7, verbose=0,\n",
    "                        warm_start=True)"
   ]
  },
  {
   "cell_type": "code",
   "execution_count": 8,
   "metadata": {},
   "outputs": [
    {
     "data": {
      "text/plain": [
       "RandomForestClassifier(max_depth=15, min_samples_leaf=10)"
      ]
     },
     "execution_count": 8,
     "metadata": {},
     "output_type": "execute_result"
    }
   ],
   "source": [
    "recovery_model.fit(X_train, y_train)"
   ]
  },
  {
   "cell_type": "code",
   "execution_count": 9,
   "metadata": {},
   "outputs": [],
   "source": [
    "X_prime = scaler.transform(X_prime)"
   ]
  },
  {
   "cell_type": "markdown",
   "metadata": {},
   "source": [
    "recov_predict =  recovery_model.predict(X_prime)\n",
    "print(len(recov_predict))\n",
    "print(recov_predict.sum())"
   ]
  },
  {
   "cell_type": "code",
   "execution_count": 11,
   "metadata": {},
   "outputs": [
    {
     "name": "stdout",
     "output_type": "stream",
     "text": [
      "0.7198529411764707\n"
     ]
    },
    {
     "data": {
      "image/png": "[encoded data removed]",
      "text/plain": [
       "<Figure size 432x288 with 2 Axes>"
      ]
     },
     "metadata": {
      "needs_background": "light"
     },
     "output_type": "display_data"
    }
   ],
   "source": [
    "y_predict = recovery_model.predict(X_test)\n",
    "print(f1_score(y_test, y_predict))\n",
    "cf_matrix = confusion_matrix(y_test, y_predict)\n",
    "group_names = ['True Neg','False Pos','False Neg','True Pos']\n",
    "group_percentages = [\"{0:.2%}\".format(value) for value in\n",
    "                     cf_matrix.flatten()/np.sum(cf_matrix)]\n",
    "labels = [f\"{v1}\\n{v2}\" for v1, v2 in\n",
    "          zip(group_names,group_percentages)]\n",
    "labels = np.asarray(labels).reshape(2,2)\n",
    "\n",
    "fig, ax = plt.subplots()\n",
    "ax = sns.heatmap(cf_matrix/np.sum(cf_matrix), annot=labels, \n",
    "              fmt='', cmap='Purples');\n",
    "ax.set_title('CF MAtrix')\n",
    "ax.set_yticks([])\n",
    "ax.set_xticks([])\n",
    "plt.show()"
   ]
  },
  {
   "cell_type": "code",
   "execution_count": null,
   "metadata": {},
   "outputs": [],
   "source": [
    "len(y_predict)"
   ]
  },
  {
   "cell_type": "code",
   "execution_count": null,
   "metadata": {},
   "outputs": [],
   "source": [
    "y_predict.sum()"
   ]
  },
  {
   "cell_type": "code",
   "execution_count": null,
   "metadata": {},
   "outputs": [],
   "source": [
    "\n",
    "    \n",
    "                        \n",
    "    recov_likelihood = recovery_model.predict_proba(X_prime)\n",
    "    df_2020['recov_preidct'] = recov_predict\n",
    "    df_2020['recov_likelihood'] = recov_likelihood\n",
    "    df_2020.to_json('data/prediction_2020.json')\n",
    "    return df_2020"
   ]
  }
 ],
 "metadata": {
  "kernelspec": {
   "display_name": "Python 3.8.3 64-bit ('base': conda)",
   "language": "python",
   "name": "python38364bitbaseconda55feb2f7aa2c4cc0b25b94f79384851f"
  },
  "language_info": {
   "codemirror_mode": {
    "name": "ipython",
    "version": 3
   },
   "file_extension": ".py",
   "mimetype": "text/x-python",
   "name": "python",
   "nbconvert_exporter": "python",
   "pygments_lexer": "ipython3",
   "version": "3.8.2"
  }
 },
 "nbformat": 4,
 "nbformat_minor": 4
}
