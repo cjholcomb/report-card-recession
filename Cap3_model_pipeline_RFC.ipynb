{
 "cells": [
  {
   "cell_type": "code",
   "execution_count": 1,
   "metadata": {
    "colab": {},
    "colab_type": "code",
    "id": "RyYKl-VbFTNZ"
   },
   "outputs": [],
   "source": [
    "import pandas as pd\n",
    "df = pd.read_json('data/training_dataset.json')"
   ]
  },
  {
   "cell_type": "code",
   "execution_count": 3,
   "metadata": {
    "colab": {
     "base_uri": "https://localhost:8080/",
     "height": 54
    },
    "colab_type": "code",
    "id": "Q-g_6EvnWtrL",
    "outputId": "30f9d6fd-952a-4eaf-b8be-977c2344a2fb"
   },
   "outputs": [],
   "source": [
    "from src.dictionaries import *\n",
    "\n",
    "import io\n",
    "import numpy as np\n",
    "\n",
    "import matplotlib.pyplot as plt\n",
    "\n",
    "from sklearn.decomposition import PCA\n",
    "from sklearn.preprocessing import StandardScaler\n",
    "from sklearn.model_selection import train_test_split\n",
    "\n",
    "from sklearn.model_selection import GridSearchCV\n",
    "\n",
    "from sklearn.linear_model import LogisticRegression as LRC\n",
    "from sklearn.neighbors import KNeighborsClassifier as KNN\n",
    "from sklearn.tree import DecisionTreeClassifier as DTC\n",
    "from sklearn.ensemble import RandomForestClassifier as RFC\n",
    "from sklearn.ensemble import GradientBoostingClassifier as GBC\n",
    "from sklearn.svm import SVC\n",
    "import xgboost as XGB\n",
    "\n",
    "import seaborn as sns\n",
    "\n",
    "from sklearn.metrics import confusion_matrix\n",
    "from sklearn.metrics import roc_auc_score\n",
    "from sklearn.metrics import accuracy_score\n",
    "from sklearn.metrics import precision_score\n",
    "from sklearn.metrics import recall_score\n",
    "from sklearn.metrics import f1_score\n",
    "from sklearn.metrics import r2_score"
   ]
  },
  {
   "cell_type": "code",
   "execution_count": 4,
   "metadata": {
    "colab": {},
    "colab_type": "code",
    "id": "Tjz7OomEeZIj"
   },
   "outputs": [],
   "source": [
    "X = df.loc[:,features].values\n",
    "y_recovery = df.loc[:,['recovery']].values * 1\n",
    "y_delta = df.loc[:,['delta']].values\n",
    "y_recovery = y_recovery.reshape(len(y_recovery),)\n",
    "y_delta = y_delta.reshape(len(y_recovery),)\n",
    "X_train, X_test, y_train, y_test = train_test_split(X, y_recovery, test_size=.2, stratify = y_recovery)\n",
    "scaler = StandardScaler()\n",
    "scaler.fit(X_train)\n",
    "X_train = scaler.transform(X_train)\n",
    "X_test = scaler.transform(X_test)"
   ]
  },
  {
   "cell_type": "code",
   "execution_count": 8,
   "metadata": {
    "colab": {},
    "colab_type": "code",
    "id": "rG4-kqrrbkGY"
   },
   "outputs": [],
   "source": [
    "def gridsearch_with_output(estimator, parameter_grid, X_train, y_train):\n",
    "    '''\n",
    "        Parameters: estimator: the type of model (e.g. RandomForestRegressor())\n",
    "                    paramter_grid: dictionary defining the gridsearch parameters\n",
    "                    X_train: 2d numpy array\n",
    "                    y_train: 1d numpy array\n",
    "        Returns:  best parameters and model fit with those parameters\n",
    "    '''\n",
    "    model_gridsearch = GridSearchCV(estimator,\n",
    "                                    parameter_grid,\n",
    "                                    n_jobs=-1,\n",
    "                                    verbose=True,\n",
    "                                    scoring='f1')\n",
    "    model_gridsearch.fit(X_train, y_train)\n",
    "    best_params = model_gridsearch.best_params_ \n",
    "    model_best = model_gridsearch.best_estimator_\n",
    "    print(\"\\nModel:\")\n",
    "    print(estimator)\n",
    "    print(\"\\nparameters:\")\n",
    "    print(hyperparameters)    \n",
    "    print(\"\\nResult of gridsearch:\")\n",
    "    print(\"{0:<20s} | {1:<8s} | {2}\".format(\"Parameter\", \"Optimal\", \"Gridsearch values\"))\n",
    "    print(\"-\" * 55)\n",
    "    for param, vals in parameter_grid.items():\n",
    "        print(\"{0:<20s} | {1:<8s} | {2}\".format(str(param), \n",
    "                                                str(best_params[param]),\n",
    "                                                str(vals)))\n",
    "    return best_params, model_best"
   ]
  },
  {
   "cell_type": "code",
   "execution_count": 9,
   "metadata": {
    "colab": {
     "base_uri": "https://localhost:8080/",
     "height": 104
    },
    "colab_type": "code",
    "id": "VEK53-oPeNJq",
    "outputId": "4b7228da-2f18-4d45-d41b-417bb0ee1615"
   },
   "outputs": [
    {
     "name": "stdout",
     "output_type": "stream",
     "text": [
      "Fitting 5 folds for each of 72 candidates, totalling 360 fits\n"
     ]
    },
    {
     "name": "stderr",
     "output_type": "stream",
     "text": [
      "[Parallel(n_jobs=-1)]: Using backend LokyBackend with 8 concurrent workers.\n",
      "[Parallel(n_jobs=-1)]: Done  34 tasks      | elapsed:  1.6min\n",
      "[Parallel(n_jobs=-1)]: Done 184 tasks      | elapsed:  5.2min\n",
      "[Parallel(n_jobs=-1)]: Done 360 out of 360 | elapsed:  9.0min finished\n"
     ]
    },
    {
     "name": "stdout",
     "output_type": "stream",
     "text": [
      "\n",
      "Model:\n",
      "RandomForestClassifier(random_state=7)\n",
      "\n",
      "parameters:\n",
      "{'criterion': ['gini', 'entropy'], 'max_depth': [None, 5, 10], 'max_features': ['auto', 'sqrt', 'log2'], 'bootstrap': [True, False], 'oob_score': [True, False]}\n",
      "\n",
      "Result of gridsearch:\n",
      "Parameter            | Optimal  | Gridsearch values\n",
      "-------------------------------------------------------\n",
      "criterion            | entropy  | ['gini', 'entropy']\n",
      "max_depth            | None     | [None, 5, 10]\n",
      "max_features         | auto     | ['auto', 'sqrt', 'log2']\n",
      "bootstrap            | False    | [True, False]\n",
      "oob_score            | False    | [True, False]\n"
     ]
    },
    {
     "data": {
      "text/plain": [
       "({'bootstrap': False,\n",
       "  'criterion': 'entropy',\n",
       "  'max_depth': None,\n",
       "  'max_features': 'auto',\n",
       "  'oob_score': False},\n",
       " RandomForestClassifier(bootstrap=False, criterion='entropy', random_state=7))"
      ]
     },
     "execution_count": 9,
     "metadata": {},
     "output_type": "execute_result"
    }
   ],
   "source": [
    "estimator = RFC(random_state=7)\n",
    "hyperparameters = { 'criterion': ['gini', 'entropy'],\n",
    "                   'max_depth': [None, 5, 10],\n",
    "                   'max_features': ['auto', 'sqrt', 'log2'],\n",
    "                   'bootstrap': [True, False],\n",
    "                   'oob_score': [True, False]}\n",
    "gridsearch_with_output(estimator, hyperparameters, X_train, y_train)"
   ]
  },
  {
   "cell_type": "code",
   "execution_count": 10,
   "metadata": {
    "colab": {},
    "colab_type": "code",
    "id": "BFuX4CDTbT2r"
   },
   "outputs": [
    {
     "name": "stdout",
     "output_type": "stream",
     "text": [
      "Fitting 5 folds for each of 6 candidates, totalling 30 fits\n"
     ]
    },
    {
     "name": "stderr",
     "output_type": "stream",
     "text": [
      "[Parallel(n_jobs=-1)]: Using backend LokyBackend with 8 concurrent workers.\n",
      "[Parallel(n_jobs=-1)]: Done  30 out of  30 | elapsed:  7.8min finished\n"
     ]
    },
    {
     "name": "stdout",
     "output_type": "stream",
     "text": [
      "\n",
      "Model:\n",
      "RandomForestClassifier(random_state=7)\n",
      "\n",
      "parameters:\n",
      "{'n_estimators': [100, 200, 500], 'criterion': ['entropy'], 'max_depth': [None], 'min_samples_split': [2, 5], 'min_weight_fraction_leaf': [0], 'max_features': ['auto'], 'bootstrap': [False], 'oob_score': [False]}\n",
      "\n",
      "Result of gridsearch:\n",
      "Parameter            | Optimal  | Gridsearch values\n",
      "-------------------------------------------------------\n",
      "n_estimators         | 500      | [100, 200, 500]\n",
      "criterion            | entropy  | ['entropy']\n",
      "max_depth            | None     | [None]\n",
      "min_samples_split    | 5        | [2, 5]\n",
      "min_weight_fraction_leaf | 0        | [0]\n",
      "max_features         | auto     | ['auto']\n",
      "bootstrap            | False    | [False]\n",
      "oob_score            | False    | [False]\n"
     ]
    },
    {
     "data": {
      "text/plain": [
       "({'bootstrap': False,\n",
       "  'criterion': 'entropy',\n",
       "  'max_depth': None,\n",
       "  'max_features': 'auto',\n",
       "  'min_samples_split': 5,\n",
       "  'min_weight_fraction_leaf': 0,\n",
       "  'n_estimators': 500,\n",
       "  'oob_score': False},\n",
       " RandomForestClassifier(bootstrap=False, criterion='entropy',\n",
       "                        min_samples_split=5, min_weight_fraction_leaf=0,\n",
       "                        n_estimators=500, random_state=7))"
      ]
     },
     "execution_count": 10,
     "metadata": {},
     "output_type": "execute_result"
    }
   ],
   "source": [
    "estimator = RFC(random_state=7)\n",
    "hyperparameters = { 'n_estimators': [100,200,500],\n",
    "                      'criterion': ['entropy'],\n",
    "                   'max_depth': [None],\n",
    "                   'min_samples_split':[2, 5],\n",
    "                   'min_weight_fraction_leaf': [0],\n",
    "                   'max_features': ['auto'],\n",
    "                   'bootstrap': [False],\n",
    "                   'oob_score': [False]}\n",
    "gridsearch_with_output(estimator, hyperparameters, X_train, y_train)"
   ]
  },
  {
   "cell_type": "code",
   "execution_count": 11,
   "metadata": {
    "colab": {},
    "colab_type": "code",
    "id": "KRRb_C-3bSJ0"
   },
   "outputs": [
    {
     "name": "stdout",
     "output_type": "stream",
     "text": [
      "Fitting 5 folds for each of 18 candidates, totalling 90 fits\n"
     ]
    },
    {
     "name": "stderr",
     "output_type": "stream",
     "text": [
      "[Parallel(n_jobs=-1)]: Using backend LokyBackend with 8 concurrent workers.\n",
      "[Parallel(n_jobs=-1)]: Done  34 tasks      | elapsed: 16.6min\n",
      "/home/cj/anaconda3/lib/python3.8/site-packages/joblib/externals/loky/process_executor.py:688: UserWarning: A worker stopped while some jobs were given to the executor. This can be caused by a too short worker timeout or by a memory leak.\n",
      "  warnings.warn(\n",
      "[Parallel(n_jobs=-1)]: Done  90 out of  90 | elapsed: 54.8min finished\n"
     ]
    },
    {
     "name": "stdout",
     "output_type": "stream",
     "text": [
      "\n",
      "Model:\n",
      "RandomForestClassifier(random_state=7)\n",
      "\n",
      "parameters:\n",
      "{'n_estimators': [500, 1000, 2000], 'criterion': ['entropy'], 'max_depth': [None], 'min_samples_split': [5, 10], 'min_weight_fraction_leaf': [0, 1, 5], 'max_features': ['auto'], 'bootstrap': [False], 'oob_score': [False]}\n",
      "\n",
      "Result of gridsearch:\n",
      "Parameter            | Optimal  | Gridsearch values\n",
      "-------------------------------------------------------\n",
      "n_estimators         | 500      | [500, 1000, 2000]\n",
      "criterion            | entropy  | ['entropy']\n",
      "max_depth            | None     | [None]\n",
      "min_samples_split    | 5        | [5, 10]\n",
      "min_weight_fraction_leaf | 0        | [0, 1, 5]\n",
      "max_features         | auto     | ['auto']\n",
      "bootstrap            | False    | [False]\n",
      "oob_score            | False    | [False]\n"
     ]
    },
    {
     "data": {
      "text/plain": [
       "({'bootstrap': False,\n",
       "  'criterion': 'entropy',\n",
       "  'max_depth': None,\n",
       "  'max_features': 'auto',\n",
       "  'min_samples_split': 5,\n",
       "  'min_weight_fraction_leaf': 0,\n",
       "  'n_estimators': 500,\n",
       "  'oob_score': False},\n",
       " RandomForestClassifier(bootstrap=False, criterion='entropy',\n",
       "                        min_samples_split=5, min_weight_fraction_leaf=0,\n",
       "                        n_estimators=500, random_state=7))"
      ]
     },
     "execution_count": 11,
     "metadata": {},
     "output_type": "execute_result"
    }
   ],
   "source": [
    "estimator = RFC(random_state=7)\n",
    "hyperparameters = { 'n_estimators': [500, 1000, 2000],\n",
    "                      'criterion': ['entropy'],\n",
    "                   'max_depth': [None],\n",
    "                   'min_samples_split':[5, 10],\n",
    "                   'min_weight_fraction_leaf': [0, 1, 5],\n",
    "                   'max_features': ['auto'],\n",
    "                   'bootstrap': [False],\n",
    "                   'oob_score': [False]}\n",
    "gridsearch_with_output(estimator, hyperparameters, X_train, y_train)"
   ]
  },
  {
   "cell_type": "code",
   "execution_count": null,
   "metadata": {
    "colab": {},
    "colab_type": "code",
    "id": "-DKioIRwFQSq"
   },
   "outputs": [],
   "source": []
  }
 ],
 "metadata": {
  "colab": {
   "name": "Cap3_model_pipeline_SVC",
   "provenance": []
  },
  "kernelspec": {
   "display_name": "Python 3",
   "language": "python",
   "name": "python3"
  },
  "language_info": {
   "codemirror_mode": {
    "name": "ipython",
    "version": 3
   },
   "file_extension": ".py",
   "mimetype": "text/x-python",
   "name": "python",
   "nbconvert_exporter": "python",
   "pygments_lexer": "ipython3",
   "version": "3.8.2"
  }
 },
 "nbformat": 4,
 "nbformat_minor": 1
}
