{
 "cells": [
  {
   "cell_type": "code",
   "execution_count": 1,
   "metadata": {},
   "outputs": [],
   "source": [
    "from src.model_tester import *\n",
    "from src.produce_datasets import *\n",
    "import matplotlib.ticker as mtick\n",
    "sns.set_style('darkgrid')\n",
    "from sklearn.metrics import plot_roc_curve"
   ]
  },
  {
   "cell_type": "code",
   "execution_count": null,
   "metadata": {},
   "outputs": [],
   "source": []
  },
  {
   "cell_type": "code",
   "execution_count": 2,
   "metadata": {},
   "outputs": [],
   "source": [
    "df = pd.read_json('data/training_dataset.json')"
   ]
  },
  {
   "cell_type": "code",
   "execution_count": 3,
   "metadata": {},
   "outputs": [],
   "source": [
    "df = df.dropna()"
   ]
  },
  {
   "cell_type": "code",
   "execution_count": 4,
   "metadata": {},
   "outputs": [],
   "source": [
    "X = df.loc[:,features].values\n"
   ]
  },
  {
   "cell_type": "code",
   "execution_count": 5,
   "metadata": {},
   "outputs": [],
   "source": [
    "y_target = df.loc[:,['recovery']].values * 1"
   ]
  },
  {
   "cell_type": "code",
   "execution_count": 6,
   "metadata": {},
   "outputs": [],
   "source": [
    "y_target = y_target.reshape(len(y_target),)"
   ]
  },
  {
   "cell_type": "code",
   "execution_count": 7,
   "metadata": {},
   "outputs": [],
   "source": [
    "X_train, X_test, y_train, y_test = train_test_split(X, y_target, test_size=.2, stratify = y_target)"
   ]
  },
  {
   "cell_type": "code",
   "execution_count": 8,
   "metadata": {},
   "outputs": [],
   "source": [
    "    scaler = StandardScaler()\n",
    "    scaler.fit(X_train)\n",
    "    X_train = scaler.transform(X_train)\n",
    "    X_test = scaler.transform(X_test)"
   ]
  },
  {
   "cell_type": "code",
   "execution_count": 9,
   "metadata": {},
   "outputs": [],
   "source": [
    "models =  instan_dumb_classifiers()"
   ]
  },
  {
   "cell_type": "code",
   "execution_count": null,
   "metadata": {},
   "outputs": [
    {
     "name": "stderr",
     "output_type": "stream",
     "text": [
      "/home/cj/anaconda3/lib/python3.8/site-packages/sklearn/linear_model/_logistic.py:762: ConvergenceWarning: lbfgs failed to converge (status=1):\n",
      "STOP: TOTAL NO. of ITERATIONS REACHED LIMIT.\n",
      "\n",
      "Increase the number of iterations (max_iter) or scale the data as shown in:\n",
      "    https://scikit-learn.org/stable/modules/preprocessing.html\n",
      "Please also refer to the documentation for alternative solver options:\n",
      "    https://scikit-learn.org/stable/modules/linear_model.html#logistic-regression\n",
      "  n_iter_i = _check_optimize_result(\n"
     ]
    }
   ],
   "source": [
    "fit_models(models, 'recovery', X_train, X_test, y_train, y_test)"
   ]
  },
  {
   "cell_type": "markdown",
   "metadata": {},
   "source": [
    "models"
   ]
  },
  {
   "cell_type": "code",
   "execution_count": null,
   "metadata": {},
   "outputs": [],
   "source": [
    "df_dumb = pd.DataFrame(columns = ['Name', 'AUC', 'Accuracy', 'Precision', 'Recall', 'f1'])\n",
    "model_names = ['Logistic Regression', 'Decision Tree', 'kNN', 'Random Forest', 'Gradient Boost', 'SVC', 'XG Boost']\n",
    "counter = 0\n",
    "for model in models:\n",
    "        row = []\n",
    "        y_predict = model.predict(X_test)\n",
    "        row.append(model_names[counter])\n",
    "        row.append(roc_auc_score(y_test, y_predict))\n",
    "        row.append(accuracy_score(y_test, y_predict))\n",
    "        row.append(precision_score(y_test, y_predict))\n",
    "        row.append(recall_score(y_test, y_predict))\n",
    "        row.append(f1_score(y_test, y_predict))\n",
    "# cf_matrix = confusion_matrix(y_test, y_predict )\n",
    "#         row.append(cf_matrix)\n",
    "        df_dumb.loc[len(df_dumb)] = row\n",
    "        counter += 1\n",
    "counter = 0"
   ]
  },
  {
   "cell_type": "code",
   "execution_count": null,
   "metadata": {},
   "outputs": [],
   "source": [
    "df_melted = pd.melt(df_dumb, id_vars=\"Name\", var_name=\"Model\", value_name=\"Score\")\n",
    "fig, ax = plt.subplots(figsize = (8, 4))\n",
    "ax = sns.barplot(data = df_melted, x = 'Name', y = 'Score', hue = 'Model')\n",
    "ax.set_title('Models(dumb)')\n",
    "plt.xticks(rotation=45)\n",
    "plt.legend(bbox_to_anchor=(1.05, 1), loc='upper left');"
   ]
  },
  {
   "cell_type": "code",
   "execution_count": null,
   "metadata": {},
   "outputs": [],
   "source": [
    "models =  instan_tuned_classifiers()\n",
    "# fit_models(models, 'recovery', X_train, X_test, y_train, y_test)\n",
    "df_tuned = pd.DataFrame(columns = ['Name', 'AUC', 'Accuracy', 'Precision', 'Recall', 'f1'])\n",
    "model_names = ['Logistic Regression', 'Decision Tree', 'kNN', 'Random Forest', 'Gradient Boost', 'SVC', 'XG Boost']\n",
    "counter = 0\n",
    "for model in models:\n",
    "        row = []\n",
    "        model.fit(X_train,y_train)\n",
    "        y_predict = model.predict(X_test)\n",
    "        row.append(model_names[counter])\n",
    "        row.append(roc_auc_score(y_test, y_predict))\n",
    "        row.append(accuracy_score(y_test, y_predict))\n",
    "        row.append(precision_score(y_test, y_predict))\n",
    "        row.append(recall_score(y_test, y_predict))\n",
    "        row.append(f1_score(y_test, y_predict))\n",
    "        cf_matrix = confusion_matrix(y_test, y_predict )\n",
    "        group_names = ['True Neg','False Pos','False Neg','True Pos']\n",
    "        group_percentages = [\"{0:.2%}\".format(value) for value in\n",
    "                     cf_matrix.flatten()/np.sum(cf_matrix)]\n",
    "        labels = [f\"{v1}\\n{v2}\" for v1, v2 in\n",
    "          zip(group_names,group_percentages)]\n",
    "        labels = np.asarray(labels).reshape(2,2)\n",
    "\n",
    "        fig, ax = plt.subplots()\n",
    "        ax = sns.heatmap(cf_matrix/np.sum(cf_matrix), annot=labels, \n",
    "              fmt='', cmap='Purples');\n",
    "        ax.set_title(row[0])\n",
    "        ax.set_yticks([])\n",
    "        ax.set_xticks([])\n",
    "        plt.show()\n",
    "#         row.append(cf_matrix)\n",
    "        df_tuned.loc[len(df_tuned)] = row\n",
    "        counter += 1\n",
    "counter = 0\n",
    "df_tuned"
   ]
  },
  {
   "cell_type": "code",
   "execution_count": null,
   "metadata": {},
   "outputs": [],
   "source": []
  },
  {
   "cell_type": "code",
   "execution_count": null,
   "metadata": {},
   "outputs": [],
   "source": [
    "df_melted = pd.melt(df_tuned, id_vars=\"Name\", var_name=\"Model\", value_name=\"Score\")\n",
    "fig, ax = plt.subplots(figsize = (8, 4))\n",
    "ax = sns.barplot(data = df_melted, x = 'Name', y = 'Score', hue = 'Model', )\n",
    "# ax.axhline(y = df_dumb.loc[,\n",
    "#                     color = 'purple', linewidth = .5, alpha = .5, label = 'Dumb RFR f1')\n",
    "ax.set_title('Models(tuned)')\n",
    "plt.xticks(rotation=45)\n",
    "plt.legend(bbox_to_anchor=(1.05, 1), loc='upper left');"
   ]
  },
  {
   "cell_type": "code",
   "execution_count": null,
   "metadata": {},
   "outputs": [],
   "source": [
    "df_2020 = feature_space('2020')\n",
    "df_2020.head(30)"
   ]
  },
  {
   "cell_type": "code",
   "execution_count": null,
   "metadata": {},
   "outputs": [],
   "source": [
    "df_2020 = feature_space('2020')\n",
    "df_2020 = df_2020[df_2020['10'] != 0]\n",
    "for column in features:\n",
    "        if column not in df_2020.columns:\n",
    "            df_2020[column] = 0\n",
    "\n",
    "X_prime = df_2020.loc[:,features].values\n",
    "scaler.fit(X_prime)\n",
    "X_prime = scaler.transform(X_prime)"
   ]
  },
  {
   "cell_type": "code",
   "execution_count": null,
   "metadata": {},
   "outputs": [],
   "source": [
    "df_2020.info()"
   ]
  },
  {
   "cell_type": "code",
   "execution_count": null,
   "metadata": {},
   "outputs": [],
   "source": [
    "    recovery_model = RFC(bootstrap=True, ccp_alpha=0.0, class_weight=None,\n",
    "                        criterion='gini', max_depth=15, max_features='auto',\n",
    "                        max_leaf_nodes=None, max_samples=None,\n",
    "                        min_impurity_decrease=0.0, min_impurity_split=None,\n",
    "                        min_samples_leaf=10, min_samples_split=2,\n",
    "                        min_weight_fraction_leaf=0.0, n_estimators=100,\n",
    "                        n_jobs=None, oob_score=False, verbose=0,\n",
    "                        warm_start=False)"
   ]
  },
  {
   "cell_type": "code",
   "execution_count": null,
   "metadata": {},
   "outputs": [],
   "source": [
    "recovery_model.fit(X_train, y_train)\n",
    "recov_predict =  recovery_model.predict(X_prime)\n",
    "recov_predict\n",
    "recov_likelihood = recovery_model.predict_proba(X_prime)\n",
    "# df_2020['recov_predict'] = recov_predict\n",
    "# df_2020['recov_likelihood'] = recov_likelihood\n",
    "# df_2020.to_json('data/prediction_2020.json')\n"
   ]
  },
  {
   "cell_type": "code",
   "execution_count": null,
   "metadata": {},
   "outputs": [],
   "source": [
    "len(recov_predict)"
   ]
  },
  {
   "cell_type": "code",
   "execution_count": null,
   "metadata": {},
   "outputs": [],
   "source": [
    "recov_predict.sum()"
   ]
  },
  {
   "cell_type": "code",
   "execution_count": null,
   "metadata": {},
   "outputs": [],
   "source": [
    "df_2020.shape"
   ]
  },
  {
   "cell_type": "code",
   "execution_count": null,
   "metadata": {},
   "outputs": [],
   "source": [
    "recov_likelihood = recovery_model.predict_proba(X_prime)"
   ]
  },
  {
   "cell_type": "code",
   "execution_count": null,
   "metadata": {},
   "outputs": [],
   "source": [
    "df_2020"
   ]
  }
 ],
 "metadata": {
  "kernelspec": {
   "display_name": "Python 3.8.3 64-bit ('base': conda)",
   "language": "python",
   "name": "python38364bitbaseconda55feb2f7aa2c4cc0b25b94f79384851f"
  },
  "language_info": {
   "codemirror_mode": {
    "name": "ipython",
    "version": 3
   },
   "file_extension": ".py",
   "mimetype": "text/x-python",
   "name": "python",
   "nbconvert_exporter": "python",
   "pygments_lexer": "ipython3",
   "version": "3.8.2"
  }
 },
 "nbformat": 4,
 "nbformat_minor": 4
}
