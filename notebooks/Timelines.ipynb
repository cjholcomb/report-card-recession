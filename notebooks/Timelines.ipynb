{
 "cells": [
  {
   "cell_type": "code",
   "execution_count": 2,
   "metadata": {},
   "outputs": [],
   "source": [
    "import pandas as pd\n",
    "import matplotlib.pyplot as plt"
   ]
  },
  {
   "cell_type": "code",
   "execution_count": 4,
   "metadata": {},
   "outputs": [
    {
     "data": {
      "text/html": [
       "<div>\n",
       "<style scoped>\n",
       "    .dataframe tbody tr th:only-of-type {\n",
       "        vertical-align: middle;\n",
       "    }\n",
       "\n",
       "    .dataframe tbody tr th {\n",
       "        vertical-align: top;\n",
       "    }\n",
       "\n",
       "    .dataframe thead th {\n",
       "        text-align: right;\n",
       "    }\n",
       "</style>\n",
       "<table border=\"1\" class=\"dataframe\">\n",
       "  <thead>\n",
       "    <tr style=\"text-align: right;\">\n",
       "      <th></th>\n",
       "      <th>Unnamed: 0</th>\n",
       "      <th>area_fips</th>\n",
       "      <th>area_title</th>\n",
       "      <th>2007.25</th>\n",
       "      <th>2007.5</th>\n",
       "      <th>2007.75</th>\n",
       "      <th>2008.0</th>\n",
       "      <th>2008.25</th>\n",
       "      <th>2008.5</th>\n",
       "      <th>2008.75</th>\n",
       "      <th>...</th>\n",
       "      <th>2018.5</th>\n",
       "      <th>2018.75</th>\n",
       "      <th>2019.0</th>\n",
       "      <th>nadir</th>\n",
       "      <th>nadir_qtr</th>\n",
       "      <th>nadir_qtr_ct</th>\n",
       "      <th>pre-peak</th>\n",
       "      <th>post-peak</th>\n",
       "      <th>recovery</th>\n",
       "      <th>delta</th>\n",
       "    </tr>\n",
       "  </thead>\n",
       "  <tbody>\n",
       "    <tr>\n",
       "      <th>184</th>\n",
       "      <td>184</td>\n",
       "      <td>06000</td>\n",
       "      <td>California -- Statewide</td>\n",
       "      <td>33560027.0</td>\n",
       "      <td>34155773.0</td>\n",
       "      <td>33889758.0</td>\n",
       "      <td>34041708.0</td>\n",
       "      <td>33553167.0</td>\n",
       "      <td>34023823.0</td>\n",
       "      <td>33456841.0</td>\n",
       "      <td>...</td>\n",
       "      <td>37458949.0</td>\n",
       "      <td>37399843.0</td>\n",
       "      <td>37649930.0</td>\n",
       "      <td>30929572.0</td>\n",
       "      <td>2010.25</td>\n",
       "      <td>12.0</td>\n",
       "      <td>34155773.0</td>\n",
       "      <td>37649930.0</td>\n",
       "      <td>True</td>\n",
       "      <td>3494157.0</td>\n",
       "    </tr>\n",
       "  </tbody>\n",
       "</table>\n",
       "<p>1 rows × 58 columns</p>\n",
       "</div>"
      ],
      "text/plain": [
       "     Unnamed: 0 area_fips               area_title     2007.25      2007.5  \\\n",
       "184         184     06000  California -- Statewide  33560027.0  34155773.0   \n",
       "\n",
       "        2007.75      2008.0     2008.25      2008.5     2008.75  ...  \\\n",
       "184  33889758.0  34041708.0  33553167.0  34023823.0  33456841.0  ...   \n",
       "\n",
       "         2018.5     2018.75      2019.0       nadir  nadir_qtr  nadir_qtr_ct  \\\n",
       "184  37458949.0  37399843.0  37649930.0  30929572.0    2010.25          12.0   \n",
       "\n",
       "       pre-peak   post-peak  recovery      delta  \n",
       "184  34155773.0  37649930.0      True  3494157.0  \n",
       "\n",
       "[1 rows x 58 columns]"
      ]
     },
     "execution_count": 4,
     "metadata": {},
     "output_type": "execute_result"
    }
   ],
   "source": [
    "df = pd.read_csv('../data/Recession2_timeline.csv')\n",
    "X = df[df['area_fips'] == '06000']\n",
    "X"
   ]
  },
  {
   "cell_type": "code",
   "execution_count": 11,
   "metadata": {},
   "outputs": [
    {
     "data": {
      "image/png": "[encoded data removed]",
      "text/plain": [
       "<Figure size 720x72 with 1 Axes>"
      ]
     },
     "metadata": {
      "needs_background": "light"
     },
     "output_type": "display_data"
    }
   ],
   "source": [
    "fig, ax = plt.subplots(figsize = (10,1))\n",
    "ax.plot = (range(-10,10), X.iloc[0,3:49])\n",
    "plt.show()"
   ]
  },
  {
   "cell_type": "code",
   "execution_count": 9,
   "metadata": {},
   "outputs": [
    {
     "data": {
      "text/plain": [
       "2007.25      3.356e+07\n",
       "2007.5     3.41558e+07\n",
       "2007.75    3.38898e+07\n",
       "2008.0     3.40417e+07\n",
       "2008.25    3.35532e+07\n",
       "2008.5     3.40238e+07\n",
       "2008.75    3.34568e+07\n",
       "2009.0     3.30216e+07\n",
       "2009.25    3.19606e+07\n",
       "2009.5     3.21038e+07\n",
       "2009.75    3.13764e+07\n",
       "2010.0     3.13607e+07\n",
       "2010.25    3.09296e+07\n",
       "2010.5      3.1699e+07\n",
       "2010.75    3.12311e+07\n",
       "2011.0     3.14293e+07\n",
       "2011.25    3.11419e+07\n",
       "2011.5     3.17488e+07\n",
       "2011.75    3.16586e+07\n",
       "2012.0     3.17672e+07\n",
       "2012.25    3.18055e+07\n",
       "2012.5     3.25724e+07\n",
       "2012.75     3.2482e+07\n",
       "2013.0     3.27242e+07\n",
       "2013.25    3.26138e+07\n",
       "2013.5     3.32751e+07\n",
       "2013.75    3.33494e+07\n",
       "2014.0     3.36125e+07\n",
       "2014.25    3.34767e+07\n",
       "2014.5     3.41528e+07\n",
       "2014.75    3.42937e+07\n",
       "2015.0     3.45181e+07\n",
       "2015.25    3.44803e+07\n",
       "2015.5     3.51314e+07\n",
       "2015.75    3.53362e+07\n",
       "2016.0     3.56342e+07\n",
       "2016.25    3.53673e+07\n",
       "2016.5     3.60451e+07\n",
       "2016.75    3.61782e+07\n",
       "2017.0     3.63318e+07\n",
       "2017.25    3.60908e+07\n",
       "2017.5     3.68217e+07\n",
       "2017.75    3.67608e+07\n",
       "2018.0     3.70137e+07\n",
       "2018.25    3.67873e+07\n",
       "2018.5     3.74589e+07\n",
       "Name: 184, dtype: object"
      ]
     },
     "execution_count": 9,
     "metadata": {},
     "output_type": "execute_result"
    }
   ],
   "source": [
    "X.iloc[0,3:49]"
   ]
  },
  {
   "cell_type": "code",
   "execution_count": null,
   "metadata": {},
   "outputs": [],
   "source": []
  },
  {
   "cell_type": "code",
   "execution_count": null,
   "metadata": {},
   "outputs": [],
   "source": [
    "def plot_industries(df, lst, title = 'Timeline', xlabel = 'year', ylabel = ''):\n",
    "    fig, ax = plt.subplots()\n",
    "    x = df.columns.values[2:34]\n",
    "    for indus in lst:\n",
    "        if indus in all_industries.keys():\n",
    "            y = df[df['industry_code'] == indus].values[0][2:48]\n",
    "            label = df[df['industry_code'] == indus].values[0][1]\n",
    "            ax.plot(x,y,label = label)\n",
    "            ax.set_title(str(title))\n",
    "            ax.set_xlabel(str(xlabel))\n",
    "            ax.set_ylabel(str(ylabel))\n",
    "    ax.legend(bbox_to_anchor = (1,1), fancybox = True, borderaxespad=0)\n",
    "    plt.show();"
   ]
  }
 ],
 "metadata": {
  "kernelspec": {
   "display_name": "Python 3.8.3 64-bit ('base': conda)",
   "language": "python",
   "name": "python38364bitbaseconda55feb2f7aa2c4cc0b25b94f79384851f"
  },
  "language_info": {
   "codemirror_mode": {
    "name": "ipython",
    "version": 3
   },
   "file_extension": ".py",
   "mimetype": "text/x-python",
   "name": "python",
   "nbconvert_exporter": "python",
   "pygments_lexer": "ipython3",
   "version": "3.8.2"
  }
 },
 "nbformat": 4,
 "nbformat_minor": 4
}
