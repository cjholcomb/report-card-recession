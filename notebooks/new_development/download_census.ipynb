{
 "metadata": {
  "language_info": {
   "codemirror_mode": {
    "name": "ipython",
    "version": 3
   },
   "file_extension": ".py",
   "mimetype": "text/x-python",
   "name": "python",
   "nbconvert_exporter": "python",
   "pygments_lexer": "ipython3",
   "version": "3.8.2-final"
  },
  "orig_nbformat": 2,
  "kernelspec": {
   "name": "python3",
   "display_name": "Python 3",
   "language": "python"
  }
 },
 "nbformat": 4,
 "nbformat_minor": 2,
 "cells": [
  {
   "cell_type": "code",
   "execution_count": 8,
   "metadata": {},
   "outputs": [],
   "source": [
    "import os\n",
    "import urllib.request \n",
    "os.chdir('/home/cj/Documents/dsi/capstones/report-card-recession')\n",
    "from src.constants import *\n",
    "os.chdir('/media/cj/HAMMERSPACE/bls_files/')\n",
    "import pandas as pd\n",
    "\n",
    "# https://www2.census.gov/programs-surveys/popest/datasets/2010-2019/counties/asrh/cc-est2019-agesex-01.csv\n"
   ]
  },
  {
   "cell_type": "code",
   "execution_count": 3,
   "metadata": {},
   "outputs": [],
   "source": [
    "num = '01'"
   ]
  },
  {
   "cell_type": "code",
   "execution_count": 6,
   "metadata": {},
   "outputs": [],
   "source": [
    "url = 'https://www2.census.gov/programs-surveys/popest/datasets/2010-2019/counties/asrh/cc-est2019-agesex-' + num + '.csv'\n"
   ]
  },
  {
   "cell_type": "code",
   "execution_count": 9,
   "metadata": {},
   "outputs": [
    {
     "output_type": "execute_result",
     "data": {
      "text/plain": [
       "     SUMLEV  STATE  COUNTY   STNAME         CTYNAME  YEAR  POPESTIMATE  \\\n",
       "0        50      1       1  Alabama  Autauga County     1        54571   \n",
       "1        50      1       1  Alabama  Autauga County     2        54597   \n",
       "2        50      1       1  Alabama  Autauga County     3        54773   \n",
       "3        50      1       1  Alabama  Autauga County     4        55227   \n",
       "4        50      1       1  Alabama  Autauga County     5        54954   \n",
       "..      ...    ...     ...      ...             ...   ...          ...   \n",
       "799      50      1     133  Alabama  Winston County     8        23930   \n",
       "800      50      1     133  Alabama  Winston County     9        23907   \n",
       "801      50      1     133  Alabama  Winston County    10        23760   \n",
       "802      50      1     133  Alabama  Winston County    11        23693   \n",
       "803      50      1     133  Alabama  Winston County    12        23629   \n",
       "\n",
       "     POPEST_MALE  POPEST_FEM  UNDER5_TOT  ...  AGE7579_FEM  AGE8084_TOT  \\\n",
       "0          26569       28002        3579  ...          705          731   \n",
       "1          26584       28013        3584  ...          704          730   \n",
       "2          26672       28101        3575  ...          707          743   \n",
       "3          26981       28246        3551  ...          727          782   \n",
       "4          26826       28128        3402  ...          751          834   \n",
       "..           ...         ...         ...  ...          ...          ...   \n",
       "799        11806       12124        1244  ...          509          573   \n",
       "800        11805       12102        1230  ...          534          612   \n",
       "801        11727       12033        1248  ...          534          613   \n",
       "802        11678       12015        1292  ...          550          616   \n",
       "803        11627       12002        1264  ...          572          628   \n",
       "\n",
       "     AGE8084_MALE  AGE8084_FEM  AGE85PLUS_TOT  AGE85PLUS_MALE  AGE85PLUS_FEM  \\\n",
       "0             295          436            551             159            392   \n",
       "1             294          436            551             159            392   \n",
       "2             299          444            556             164            392   \n",
       "3             315          467            601             191            410   \n",
       "4             340          494            632             206            426   \n",
       "..            ...          ...            ...             ...            ...   \n",
       "799           245          328            523             155            368   \n",
       "800           268          344            530             161            369   \n",
       "801           275          338            558             177            381   \n",
       "802           260          356            588             199            389   \n",
       "803           267          361            591             198            393   \n",
       "\n",
       "     MEDIAN_AGE_TOT  MEDIAN_AGE_MALE  MEDIAN_AGE_FEM  \n",
       "0              37.0             35.9            37.9  \n",
       "1              37.0             35.9            37.8  \n",
       "2              37.1             36.0            37.9  \n",
       "3              37.3             36.2            38.4  \n",
       "4              37.7             36.4            38.8  \n",
       "..              ...              ...             ...  \n",
       "799            44.8             44.0            45.8  \n",
       "800            45.1             44.1            46.0  \n",
       "801            45.3             44.2            46.2  \n",
       "802            45.5             44.4            46.5  \n",
       "803            45.6             44.6            46.6  \n",
       "\n",
       "[804 rows x 96 columns]"
      ],
      "text/html": "<div>\n<style scoped>\n    .dataframe tbody tr th:only-of-type {\n        vertical-align: middle;\n    }\n\n    .dataframe tbody tr th {\n        vertical-align: top;\n    }\n\n    .dataframe thead th {\n        text-align: right;\n    }\n</style>\n<table border=\"1\" class=\"dataframe\">\n  <thead>\n    <tr style=\"text-align: right;\">\n      <th></th>\n      <th>SUMLEV</th>\n      <th>STATE</th>\n      <th>COUNTY</th>\n      <th>STNAME</th>\n      <th>CTYNAME</th>\n      <th>YEAR</th>\n      <th>POPESTIMATE</th>\n      <th>POPEST_MALE</th>\n      <th>POPEST_FEM</th>\n      <th>UNDER5_TOT</th>\n      <th>...</th>\n      <th>AGE7579_FEM</th>\n      <th>AGE8084_TOT</th>\n      <th>AGE8084_MALE</th>\n      <th>AGE8084_FEM</th>\n      <th>AGE85PLUS_TOT</th>\n      <th>AGE85PLUS_MALE</th>\n      <th>AGE85PLUS_FEM</th>\n      <th>MEDIAN_AGE_TOT</th>\n      <th>MEDIAN_AGE_MALE</th>\n      <th>MEDIAN_AGE_FEM</th>\n    </tr>\n  </thead>\n  <tbody>\n    <tr>\n      <th>0</th>\n      <td>50</td>\n      <td>1</td>\n      <td>1</td>\n      <td>Alabama</td>\n      <td>Autauga County</td>\n      <td>1</td>\n      <td>54571</td>\n      <td>26569</td>\n      <td>28002</td>\n      <td>3579</td>\n      <td>...</td>\n      <td>705</td>\n      <td>731</td>\n      <td>295</td>\n      <td>436</td>\n      <td>551</td>\n      <td>159</td>\n      <td>392</td>\n      <td>37.0</td>\n      <td>35.9</td>\n      <td>37.9</td>\n    </tr>\n    <tr>\n      <th>1</th>\n      <td>50</td>\n      <td>1</td>\n      <td>1</td>\n      <td>Alabama</td>\n      <td>Autauga County</td>\n      <td>2</td>\n      <td>54597</td>\n      <td>26584</td>\n      <td>28013</td>\n      <td>3584</td>\n      <td>...</td>\n      <td>704</td>\n      <td>730</td>\n      <td>294</td>\n      <td>436</td>\n      <td>551</td>\n      <td>159</td>\n      <td>392</td>\n      <td>37.0</td>\n      <td>35.9</td>\n      <td>37.8</td>\n    </tr>\n    <tr>\n      <th>2</th>\n      <td>50</td>\n      <td>1</td>\n      <td>1</td>\n      <td>Alabama</td>\n      <td>Autauga County</td>\n      <td>3</td>\n      <td>54773</td>\n      <td>26672</td>\n      <td>28101</td>\n      <td>3575</td>\n      <td>...</td>\n      <td>707</td>\n      <td>743</td>\n      <td>299</td>\n      <td>444</td>\n      <td>556</td>\n      <td>164</td>\n      <td>392</td>\n      <td>37.1</td>\n      <td>36.0</td>\n      <td>37.9</td>\n    </tr>\n    <tr>\n      <th>3</th>\n      <td>50</td>\n      <td>1</td>\n      <td>1</td>\n      <td>Alabama</td>\n      <td>Autauga County</td>\n      <td>4</td>\n      <td>55227</td>\n      <td>26981</td>\n      <td>28246</td>\n      <td>3551</td>\n      <td>...</td>\n      <td>727</td>\n      <td>782</td>\n      <td>315</td>\n      <td>467</td>\n      <td>601</td>\n      <td>191</td>\n      <td>410</td>\n      <td>37.3</td>\n      <td>36.2</td>\n      <td>38.4</td>\n    </tr>\n    <tr>\n      <th>4</th>\n      <td>50</td>\n      <td>1</td>\n      <td>1</td>\n      <td>Alabama</td>\n      <td>Autauga County</td>\n      <td>5</td>\n      <td>54954</td>\n      <td>26826</td>\n      <td>28128</td>\n      <td>3402</td>\n      <td>...</td>\n      <td>751</td>\n      <td>834</td>\n      <td>340</td>\n      <td>494</td>\n      <td>632</td>\n      <td>206</td>\n      <td>426</td>\n      <td>37.7</td>\n      <td>36.4</td>\n      <td>38.8</td>\n    </tr>\n    <tr>\n      <th>...</th>\n      <td>...</td>\n      <td>...</td>\n      <td>...</td>\n      <td>...</td>\n      <td>...</td>\n      <td>...</td>\n      <td>...</td>\n      <td>...</td>\n      <td>...</td>\n      <td>...</td>\n      <td>...</td>\n      <td>...</td>\n      <td>...</td>\n      <td>...</td>\n      <td>...</td>\n      <td>...</td>\n      <td>...</td>\n      <td>...</td>\n      <td>...</td>\n      <td>...</td>\n      <td>...</td>\n    </tr>\n    <tr>\n      <th>799</th>\n      <td>50</td>\n      <td>1</td>\n      <td>133</td>\n      <td>Alabama</td>\n      <td>Winston County</td>\n      <td>8</td>\n      <td>23930</td>\n      <td>11806</td>\n      <td>12124</td>\n      <td>1244</td>\n      <td>...</td>\n      <td>509</td>\n      <td>573</td>\n      <td>245</td>\n      <td>328</td>\n      <td>523</td>\n      <td>155</td>\n      <td>368</td>\n      <td>44.8</td>\n      <td>44.0</td>\n      <td>45.8</td>\n    </tr>\n    <tr>\n      <th>800</th>\n      <td>50</td>\n      <td>1</td>\n      <td>133</td>\n      <td>Alabama</td>\n      <td>Winston County</td>\n      <td>9</td>\n      <td>23907</td>\n      <td>11805</td>\n      <td>12102</td>\n      <td>1230</td>\n      <td>...</td>\n      <td>534</td>\n      <td>612</td>\n      <td>268</td>\n      <td>344</td>\n      <td>530</td>\n      <td>161</td>\n      <td>369</td>\n      <td>45.1</td>\n      <td>44.1</td>\n      <td>46.0</td>\n    </tr>\n    <tr>\n      <th>801</th>\n      <td>50</td>\n      <td>1</td>\n      <td>133</td>\n      <td>Alabama</td>\n      <td>Winston County</td>\n      <td>10</td>\n      <td>23760</td>\n      <td>11727</td>\n      <td>12033</td>\n      <td>1248</td>\n      <td>...</td>\n      <td>534</td>\n      <td>613</td>\n      <td>275</td>\n      <td>338</td>\n      <td>558</td>\n      <td>177</td>\n      <td>381</td>\n      <td>45.3</td>\n      <td>44.2</td>\n      <td>46.2</td>\n    </tr>\n    <tr>\n      <th>802</th>\n      <td>50</td>\n      <td>1</td>\n      <td>133</td>\n      <td>Alabama</td>\n      <td>Winston County</td>\n      <td>11</td>\n      <td>23693</td>\n      <td>11678</td>\n      <td>12015</td>\n      <td>1292</td>\n      <td>...</td>\n      <td>550</td>\n      <td>616</td>\n      <td>260</td>\n      <td>356</td>\n      <td>588</td>\n      <td>199</td>\n      <td>389</td>\n      <td>45.5</td>\n      <td>44.4</td>\n      <td>46.5</td>\n    </tr>\n    <tr>\n      <th>803</th>\n      <td>50</td>\n      <td>1</td>\n      <td>133</td>\n      <td>Alabama</td>\n      <td>Winston County</td>\n      <td>12</td>\n      <td>23629</td>\n      <td>11627</td>\n      <td>12002</td>\n      <td>1264</td>\n      <td>...</td>\n      <td>572</td>\n      <td>628</td>\n      <td>267</td>\n      <td>361</td>\n      <td>591</td>\n      <td>198</td>\n      <td>393</td>\n      <td>45.6</td>\n      <td>44.6</td>\n      <td>46.6</td>\n    </tr>\n  </tbody>\n</table>\n<p>804 rows × 96 columns</p>\n</div>"
     },
     "metadata": {},
     "execution_count": 9
    }
   ],
   "source": [
    "urllib.request.urlretrieve(url, 'test.csv')\n",
    "df = pd.read_csv('test.csv')\n",
    "df\n"
   ]
  },
  {
   "cell_type": "code",
   "execution_count": null,
   "metadata": {},
   "outputs": [],
   "source": [
    "urllib.request.urlretrieve(url, zipname)"
   ]
  },
  {
   "cell_type": "code",
   "execution_count": null,
   "metadata": {},
   "outputs": [],
   "source": [
    "archive = zipfile.ZipFile(zipname)"
   ]
  },
  {
   "cell_type": "code",
   "execution_count": null,
   "metadata": {},
   "outputs": [],
   "source": [
    "extractfolder = year + '.q1-q4.by_industry/'\n",
    "extractname = year + '.q1-q4 10 Total, all industries.csv'"
   ]
  },
  {
   "cell_type": "code",
   "execution_count": null,
   "metadata": {},
   "outputs": [],
   "source": [
    "archive.extract(extractfolder + extractname, path = dimension)"
   ]
  },
  {
   "cell_type": "code",
   "execution_count": null,
   "metadata": {},
   "outputs": [],
   "source": [
    "os.rename(dimension + extractfolder + extractname,  dimension + year + '.csv')"
   ]
  },
  {
   "cell_type": "code",
   "execution_count": null,
   "metadata": {},
   "outputs": [],
   "source": [
    "os.rmdir(dimension + extractfolder)"
   ]
  },
  {
   "cell_type": "code",
   "execution_count": null,
   "metadata": {},
   "outputs": [],
   "source": [
    "os.remove(dimension + year + '.zip')"
   ]
  }
 ]
}