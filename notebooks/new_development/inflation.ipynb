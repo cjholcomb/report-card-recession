{
 "metadata": {
  "language_info": {
   "codemirror_mode": {
    "name": "ipython",
    "version": 3
   },
   "file_extension": ".py",
   "mimetype": "text/x-python",
   "name": "python",
   "nbconvert_exporter": "python",
   "pygments_lexer": "ipython3",
   "version": "3.8.2-final"
  },
  "orig_nbformat": 2,
  "kernelspec": {
   "name": "python3",
   "display_name": "Python 3",
   "language": "python"
  }
 },
 "nbformat": 4,
 "nbformat_minor": 2,
 "cells": [
  {
   "cell_type": "code",
   "execution_count": 1,
   "metadata": {},
   "outputs": [],
   "source": [
    "import os\n",
    "import urllib.request \n",
    "import cpi\n",
    "os.chdir('/home/cj/Documents/dsi/capstones/report-card-recession')\n",
    "from src.produce_datasets import *"
   ]
  },
  {
   "cell_type": "code",
   "execution_count": 2,
   "metadata": {},
   "outputs": [],
   "source": [
    "df = pd.read_json('data/timelines/basic/area/wage/area_wage_2001.json')\n"
   ]
  },
  {
   "cell_type": "code",
   "execution_count": 3,
   "metadata": {},
   "outputs": [
    {
     "output_type": "execute_result",
     "data": {
      "text/plain": [
       "     area_fips                                      area_title  2000.25  \\\n",
       "0        01000                            Alabama -- Statewide     3683   \n",
       "1        01001                         Autauga County, Alabama     2604   \n",
       "2        01003                         Baldwin County, Alabama     2478   \n",
       "3        01005                         Barbour County, Alabama     2435   \n",
       "4        01007                            Bibb County, Alabama     2303   \n",
       "...        ...                                             ...      ...   \n",
       "4346     CS566                    Youngstown-Warren, OH-PA CSA      549   \n",
       "4347     US000                                      U.S. TOTAL     4938   \n",
       "4348     USCMS      U.S. Combined Statistical Areas (combined)      759   \n",
       "4349     USMSA  U.S. Metropolitan Statistical Areas (combined)      720   \n",
       "4350     USNMS   U.S. Nonmetropolitan Area Counties (combined)      524   \n",
       "\n",
       "      2000.5  2000.75  2001.0      2001.25       2001.5      2001.75  \\\n",
       "0       3661     3813    3887  3750.284585  3741.533597  3733.754941   \n",
       "1       2569     2626    2757  2648.632411  2630.158103  2651.549407   \n",
       "2       2436     2534    2667  2532.924901  2572.790514  2599.043478   \n",
       "3       2354     2382    2546  2457.083004  2439.581028  2363.739130   \n",
       "4       2367     2435    2493  2317.067194  2427.913043  2436.664032   \n",
       "...      ...      ...     ...          ...          ...          ...   \n",
       "4346     525      531     557   531.865613   514.363636   527.003953   \n",
       "4347    4810     4865    5076  5005.565217  4901.525692  4820.822134   \n",
       "4348     711      719     784   769.114625   712.719368   704.940711   \n",
       "4349     679      686     746   727.304348   681.604743   674.798419   \n",
       "4350     516      516     555   527.976285   519.225296   514.363636   \n",
       "\n",
       "           2002.0  ...      2005.75       2006.0      2006.25       2006.5  \\\n",
       "0     3997.256917  ...  4074.430108  4154.666667  4013.729167  3978.708333   \n",
       "1     2723.501976  ...  2647.806452  2692.774194  2655.604167  2588.125000   \n",
       "2     2685.581028  ...  2754.494624  2936.129032  2781.166667  2799.958333   \n",
       "3     2525.146245  ...  2469.698925  2705.118280  2552.250000  2530.895833   \n",
       "4     2579.596838  ...  2542.881720  2831.204301  2534.312500  2689.770833   \n",
       "...           ...  ...          ...          ...          ...          ...   \n",
       "4346   554.229249  ...   540.494624   564.301075   531.291667   522.750000   \n",
       "4347  5103.770751  ...  5176.580645  5292.967742  5205.291667  5089.125000   \n",
       "4348   771.059289  ...   740.645161   792.666667   792.666667   724.333333   \n",
       "4349   735.083004  ...   710.666667   756.516129   749.958333   693.583333   \n",
       "4350   550.339921  ...   544.903226   570.473118   549.229167   536.416667   \n",
       "\n",
       "          2006.75       2007.0      2007.25       2007.5      2007.75  \\\n",
       "0     4041.916667  4264.854167  4076.152444  4024.660706  4170.830801   \n",
       "1     2763.229167  2776.895833  2723.248546  2722.418034  2683.383974   \n",
       "2     2797.395833  3016.916667  2739.028272  2834.537142  2750.655439   \n",
       "3     2520.645833  2678.666667  2524.756200  2544.688486  2430.908354   \n",
       "4     2623.145833  3021.187500  2727.401105  2799.655641  2711.621379   \n",
       "...           ...          ...          ...          ...          ...   \n",
       "4346   545.812500   581.687500   566.409121   529.036085   518.239431   \n",
       "4347  5104.500000  5334.270833  5261.292936  5187.377377  5144.190757   \n",
       "4348   723.479167   800.354167   813.071158   736.664062   734.172527   \n",
       "4349   693.583333   764.479167   765.731979   705.104610   703.443586   \n",
       "4350   536.416667   579.979167   558.104002   548.137859   545.646323   \n",
       "\n",
       "           2008.0  \n",
       "0     4344.407790  \n",
       "1     2960.774952  \n",
       "2     3104.453512  \n",
       "3     2835.367653  \n",
       "4     3096.148393  \n",
       "...           ...  \n",
       "4346   563.087074  \n",
       "4347  5449.819139  \n",
       "4348   811.410134  \n",
       "4349   773.206586  \n",
       "4350   590.493966  \n",
       "\n",
       "[4351 rows x 34 columns]"
      ],
      "text/html": "<div>\n<style scoped>\n    .dataframe tbody tr th:only-of-type {\n        vertical-align: middle;\n    }\n\n    .dataframe tbody tr th {\n        vertical-align: top;\n    }\n\n    .dataframe thead th {\n        text-align: right;\n    }\n</style>\n<table border=\"1\" class=\"dataframe\">\n  <thead>\n    <tr style=\"text-align: right;\">\n      <th></th>\n      <th>area_fips</th>\n      <th>area_title</th>\n      <th>2000.25</th>\n      <th>2000.5</th>\n      <th>2000.75</th>\n      <th>2001.0</th>\n      <th>2001.25</th>\n      <th>2001.5</th>\n      <th>2001.75</th>\n      <th>2002.0</th>\n      <th>...</th>\n      <th>2005.75</th>\n      <th>2006.0</th>\n      <th>2006.25</th>\n      <th>2006.5</th>\n      <th>2006.75</th>\n      <th>2007.0</th>\n      <th>2007.25</th>\n      <th>2007.5</th>\n      <th>2007.75</th>\n      <th>2008.0</th>\n    </tr>\n  </thead>\n  <tbody>\n    <tr>\n      <th>0</th>\n      <td>01000</td>\n      <td>Alabama -- Statewide</td>\n      <td>3683</td>\n      <td>3661</td>\n      <td>3813</td>\n      <td>3887</td>\n      <td>3750.284585</td>\n      <td>3741.533597</td>\n      <td>3733.754941</td>\n      <td>3997.256917</td>\n      <td>...</td>\n      <td>4074.430108</td>\n      <td>4154.666667</td>\n      <td>4013.729167</td>\n      <td>3978.708333</td>\n      <td>4041.916667</td>\n      <td>4264.854167</td>\n      <td>4076.152444</td>\n      <td>4024.660706</td>\n      <td>4170.830801</td>\n      <td>4344.407790</td>\n    </tr>\n    <tr>\n      <th>1</th>\n      <td>01001</td>\n      <td>Autauga County, Alabama</td>\n      <td>2604</td>\n      <td>2569</td>\n      <td>2626</td>\n      <td>2757</td>\n      <td>2648.632411</td>\n      <td>2630.158103</td>\n      <td>2651.549407</td>\n      <td>2723.501976</td>\n      <td>...</td>\n      <td>2647.806452</td>\n      <td>2692.774194</td>\n      <td>2655.604167</td>\n      <td>2588.125000</td>\n      <td>2763.229167</td>\n      <td>2776.895833</td>\n      <td>2723.248546</td>\n      <td>2722.418034</td>\n      <td>2683.383974</td>\n      <td>2960.774952</td>\n    </tr>\n    <tr>\n      <th>2</th>\n      <td>01003</td>\n      <td>Baldwin County, Alabama</td>\n      <td>2478</td>\n      <td>2436</td>\n      <td>2534</td>\n      <td>2667</td>\n      <td>2532.924901</td>\n      <td>2572.790514</td>\n      <td>2599.043478</td>\n      <td>2685.581028</td>\n      <td>...</td>\n      <td>2754.494624</td>\n      <td>2936.129032</td>\n      <td>2781.166667</td>\n      <td>2799.958333</td>\n      <td>2797.395833</td>\n      <td>3016.916667</td>\n      <td>2739.028272</td>\n      <td>2834.537142</td>\n      <td>2750.655439</td>\n      <td>3104.453512</td>\n    </tr>\n    <tr>\n      <th>3</th>\n      <td>01005</td>\n      <td>Barbour County, Alabama</td>\n      <td>2435</td>\n      <td>2354</td>\n      <td>2382</td>\n      <td>2546</td>\n      <td>2457.083004</td>\n      <td>2439.581028</td>\n      <td>2363.739130</td>\n      <td>2525.146245</td>\n      <td>...</td>\n      <td>2469.698925</td>\n      <td>2705.118280</td>\n      <td>2552.250000</td>\n      <td>2530.895833</td>\n      <td>2520.645833</td>\n      <td>2678.666667</td>\n      <td>2524.756200</td>\n      <td>2544.688486</td>\n      <td>2430.908354</td>\n      <td>2835.367653</td>\n    </tr>\n    <tr>\n      <th>4</th>\n      <td>01007</td>\n      <td>Bibb County, Alabama</td>\n      <td>2303</td>\n      <td>2367</td>\n      <td>2435</td>\n      <td>2493</td>\n      <td>2317.067194</td>\n      <td>2427.913043</td>\n      <td>2436.664032</td>\n      <td>2579.596838</td>\n      <td>...</td>\n      <td>2542.881720</td>\n      <td>2831.204301</td>\n      <td>2534.312500</td>\n      <td>2689.770833</td>\n      <td>2623.145833</td>\n      <td>3021.187500</td>\n      <td>2727.401105</td>\n      <td>2799.655641</td>\n      <td>2711.621379</td>\n      <td>3096.148393</td>\n    </tr>\n    <tr>\n      <th>...</th>\n      <td>...</td>\n      <td>...</td>\n      <td>...</td>\n      <td>...</td>\n      <td>...</td>\n      <td>...</td>\n      <td>...</td>\n      <td>...</td>\n      <td>...</td>\n      <td>...</td>\n      <td>...</td>\n      <td>...</td>\n      <td>...</td>\n      <td>...</td>\n      <td>...</td>\n      <td>...</td>\n      <td>...</td>\n      <td>...</td>\n      <td>...</td>\n      <td>...</td>\n      <td>...</td>\n    </tr>\n    <tr>\n      <th>4346</th>\n      <td>CS566</td>\n      <td>Youngstown-Warren, OH-PA CSA</td>\n      <td>549</td>\n      <td>525</td>\n      <td>531</td>\n      <td>557</td>\n      <td>531.865613</td>\n      <td>514.363636</td>\n      <td>527.003953</td>\n      <td>554.229249</td>\n      <td>...</td>\n      <td>540.494624</td>\n      <td>564.301075</td>\n      <td>531.291667</td>\n      <td>522.750000</td>\n      <td>545.812500</td>\n      <td>581.687500</td>\n      <td>566.409121</td>\n      <td>529.036085</td>\n      <td>518.239431</td>\n      <td>563.087074</td>\n    </tr>\n    <tr>\n      <th>4347</th>\n      <td>US000</td>\n      <td>U.S. TOTAL</td>\n      <td>4938</td>\n      <td>4810</td>\n      <td>4865</td>\n      <td>5076</td>\n      <td>5005.565217</td>\n      <td>4901.525692</td>\n      <td>4820.822134</td>\n      <td>5103.770751</td>\n      <td>...</td>\n      <td>5176.580645</td>\n      <td>5292.967742</td>\n      <td>5205.291667</td>\n      <td>5089.125000</td>\n      <td>5104.500000</td>\n      <td>5334.270833</td>\n      <td>5261.292936</td>\n      <td>5187.377377</td>\n      <td>5144.190757</td>\n      <td>5449.819139</td>\n    </tr>\n    <tr>\n      <th>4348</th>\n      <td>USCMS</td>\n      <td>U.S. Combined Statistical Areas (combined)</td>\n      <td>759</td>\n      <td>711</td>\n      <td>719</td>\n      <td>784</td>\n      <td>769.114625</td>\n      <td>712.719368</td>\n      <td>704.940711</td>\n      <td>771.059289</td>\n      <td>...</td>\n      <td>740.645161</td>\n      <td>792.666667</td>\n      <td>792.666667</td>\n      <td>724.333333</td>\n      <td>723.479167</td>\n      <td>800.354167</td>\n      <td>813.071158</td>\n      <td>736.664062</td>\n      <td>734.172527</td>\n      <td>811.410134</td>\n    </tr>\n    <tr>\n      <th>4349</th>\n      <td>USMSA</td>\n      <td>U.S. Metropolitan Statistical Areas (combined)</td>\n      <td>720</td>\n      <td>679</td>\n      <td>686</td>\n      <td>746</td>\n      <td>727.304348</td>\n      <td>681.604743</td>\n      <td>674.798419</td>\n      <td>735.083004</td>\n      <td>...</td>\n      <td>710.666667</td>\n      <td>756.516129</td>\n      <td>749.958333</td>\n      <td>693.583333</td>\n      <td>693.583333</td>\n      <td>764.479167</td>\n      <td>765.731979</td>\n      <td>705.104610</td>\n      <td>703.443586</td>\n      <td>773.206586</td>\n    </tr>\n    <tr>\n      <th>4350</th>\n      <td>USNMS</td>\n      <td>U.S. Nonmetropolitan Area Counties (combined)</td>\n      <td>524</td>\n      <td>516</td>\n      <td>516</td>\n      <td>555</td>\n      <td>527.976285</td>\n      <td>519.225296</td>\n      <td>514.363636</td>\n      <td>550.339921</td>\n      <td>...</td>\n      <td>544.903226</td>\n      <td>570.473118</td>\n      <td>549.229167</td>\n      <td>536.416667</td>\n      <td>536.416667</td>\n      <td>579.979167</td>\n      <td>558.104002</td>\n      <td>548.137859</td>\n      <td>545.646323</td>\n      <td>590.493966</td>\n    </tr>\n  </tbody>\n</table>\n<p>4351 rows × 34 columns</p>\n</div>"
     },
     "metadata": {},
     "execution_count": 3
    }
   ],
   "source": [
    "for col in df.columns[2:]:\n",
    "    # print(col + '_i')\n",
    "    newcol = col + '_i'\n",
    "    df[newcol] = cpi.inflate(df[col], int(float(col)- 0.25), 2000)\n",
    "    df.drop(columns = [col], inplace = True)\n",
    "    df.rename(columns = {newcol:float(col)}, inplace = True)\n",
    "df"
   ]
  },
  {
   "cell_type": "code",
   "execution_count": 4,
   "metadata": {},
   "outputs": [
    {
     "output_type": "execute_result",
     "data": {
      "text/plain": [
       "2001"
      ]
     },
     "metadata": {},
     "execution_count": 4
    }
   ],
   "source": [
    "int(float('2002.0') - .25)"
   ]
  },
  {
   "cell_type": "code",
   "execution_count": 5,
   "metadata": {},
   "outputs": [],
   "source": [
    "df_check = pd.read_json('data/timelines/basic/area/wage/area_wage_2001.json')"
   ]
  },
  {
   "cell_type": "code",
   "execution_count": 6,
   "metadata": {},
   "outputs": [
    {
     "output_type": "execute_result",
     "data": {
      "text/plain": [
       "     area_fips                                      area_title  2000.25  \\\n",
       "0        01000                            Alabama -- Statewide     3683   \n",
       "1        01001                         Autauga County, Alabama     2604   \n",
       "2        01003                         Baldwin County, Alabama     2478   \n",
       "3        01005                         Barbour County, Alabama     2435   \n",
       "4        01007                            Bibb County, Alabama     2303   \n",
       "...        ...                                             ...      ...   \n",
       "4346     CS566                    Youngstown-Warren, OH-PA CSA      549   \n",
       "4347     US000                                      U.S. TOTAL     4938   \n",
       "4348     USCMS      U.S. Combined Statistical Areas (combined)      759   \n",
       "4349     USMSA  U.S. Metropolitan Statistical Areas (combined)      720   \n",
       "4350     USNMS   U.S. Nonmetropolitan Area Counties (combined)      524   \n",
       "\n",
       "      2000.5  2000.75  2001.0      2001.25       2001.5      2001.75  \\\n",
       "0       3661     3813    3887  3750.284585  3741.533597  3733.754941   \n",
       "1       2569     2626    2757  2648.632411  2630.158103  2651.549407   \n",
       "2       2436     2534    2667  2532.924901  2572.790514  2599.043478   \n",
       "3       2354     2382    2546  2457.083004  2439.581028  2363.739130   \n",
       "4       2367     2435    2493  2317.067194  2427.913043  2436.664032   \n",
       "...      ...      ...     ...          ...          ...          ...   \n",
       "4346     525      531     557   531.865613   514.363636   527.003953   \n",
       "4347    4810     4865    5076  5005.565217  4901.525692  4820.822134   \n",
       "4348     711      719     784   769.114625   712.719368   704.940711   \n",
       "4349     679      686     746   727.304348   681.604743   674.798419   \n",
       "4350     516      516     555   527.976285   519.225296   514.363636   \n",
       "\n",
       "           2002.0  ...      2005.75       2006.0      2006.25       2006.5  \\\n",
       "0     3997.256917  ...  4074.430108  4154.666667  4013.729167  3978.708333   \n",
       "1     2723.501976  ...  2647.806452  2692.774194  2655.604167  2588.125000   \n",
       "2     2685.581028  ...  2754.494624  2936.129032  2781.166667  2799.958333   \n",
       "3     2525.146245  ...  2469.698925  2705.118280  2552.250000  2530.895833   \n",
       "4     2579.596838  ...  2542.881720  2831.204301  2534.312500  2689.770833   \n",
       "...           ...  ...          ...          ...          ...          ...   \n",
       "4346   554.229249  ...   540.494624   564.301075   531.291667   522.750000   \n",
       "4347  5103.770751  ...  5176.580645  5292.967742  5205.291667  5089.125000   \n",
       "4348   771.059289  ...   740.645161   792.666667   792.666667   724.333333   \n",
       "4349   735.083004  ...   710.666667   756.516129   749.958333   693.583333   \n",
       "4350   550.339921  ...   544.903226   570.473118   549.229167   536.416667   \n",
       "\n",
       "          2006.75       2007.0      2007.25       2007.5      2007.75  \\\n",
       "0     4041.916667  4264.854167  4076.152444  4024.660706  4170.830801   \n",
       "1     2763.229167  2776.895833  2723.248546  2722.418034  2683.383974   \n",
       "2     2797.395833  3016.916667  2739.028272  2834.537142  2750.655439   \n",
       "3     2520.645833  2678.666667  2524.756200  2544.688486  2430.908354   \n",
       "4     2623.145833  3021.187500  2727.401105  2799.655641  2711.621379   \n",
       "...           ...          ...          ...          ...          ...   \n",
       "4346   545.812500   581.687500   566.409121   529.036085   518.239431   \n",
       "4347  5104.500000  5334.270833  5261.292936  5187.377377  5144.190757   \n",
       "4348   723.479167   800.354167   813.071158   736.664062   734.172527   \n",
       "4349   693.583333   764.479167   765.731979   705.104610   703.443586   \n",
       "4350   536.416667   579.979167   558.104002   548.137859   545.646323   \n",
       "\n",
       "           2008.0  \n",
       "0     4344.407790  \n",
       "1     2960.774952  \n",
       "2     3104.453512  \n",
       "3     2835.367653  \n",
       "4     3096.148393  \n",
       "...           ...  \n",
       "4346   563.087074  \n",
       "4347  5449.819139  \n",
       "4348   811.410134  \n",
       "4349   773.206586  \n",
       "4350   590.493966  \n",
       "\n",
       "[4351 rows x 34 columns]"
      ],
      "text/html": "<div>\n<style scoped>\n    .dataframe tbody tr th:only-of-type {\n        vertical-align: middle;\n    }\n\n    .dataframe tbody tr th {\n        vertical-align: top;\n    }\n\n    .dataframe thead th {\n        text-align: right;\n    }\n</style>\n<table border=\"1\" class=\"dataframe\">\n  <thead>\n    <tr style=\"text-align: right;\">\n      <th></th>\n      <th>area_fips</th>\n      <th>area_title</th>\n      <th>2000.25</th>\n      <th>2000.5</th>\n      <th>2000.75</th>\n      <th>2001.0</th>\n      <th>2001.25</th>\n      <th>2001.5</th>\n      <th>2001.75</th>\n      <th>2002.0</th>\n      <th>...</th>\n      <th>2005.75</th>\n      <th>2006.0</th>\n      <th>2006.25</th>\n      <th>2006.5</th>\n      <th>2006.75</th>\n      <th>2007.0</th>\n      <th>2007.25</th>\n      <th>2007.5</th>\n      <th>2007.75</th>\n      <th>2008.0</th>\n    </tr>\n  </thead>\n  <tbody>\n    <tr>\n      <th>0</th>\n      <td>01000</td>\n      <td>Alabama -- Statewide</td>\n      <td>3683</td>\n      <td>3661</td>\n      <td>3813</td>\n      <td>3887</td>\n      <td>3750.284585</td>\n      <td>3741.533597</td>\n      <td>3733.754941</td>\n      <td>3997.256917</td>\n      <td>...</td>\n      <td>4074.430108</td>\n      <td>4154.666667</td>\n      <td>4013.729167</td>\n      <td>3978.708333</td>\n      <td>4041.916667</td>\n      <td>4264.854167</td>\n      <td>4076.152444</td>\n      <td>4024.660706</td>\n      <td>4170.830801</td>\n      <td>4344.407790</td>\n    </tr>\n    <tr>\n      <th>1</th>\n      <td>01001</td>\n      <td>Autauga County, Alabama</td>\n      <td>2604</td>\n      <td>2569</td>\n      <td>2626</td>\n      <td>2757</td>\n      <td>2648.632411</td>\n      <td>2630.158103</td>\n      <td>2651.549407</td>\n      <td>2723.501976</td>\n      <td>...</td>\n      <td>2647.806452</td>\n      <td>2692.774194</td>\n      <td>2655.604167</td>\n      <td>2588.125000</td>\n      <td>2763.229167</td>\n      <td>2776.895833</td>\n      <td>2723.248546</td>\n      <td>2722.418034</td>\n      <td>2683.383974</td>\n      <td>2960.774952</td>\n    </tr>\n    <tr>\n      <th>2</th>\n      <td>01003</td>\n      <td>Baldwin County, Alabama</td>\n      <td>2478</td>\n      <td>2436</td>\n      <td>2534</td>\n      <td>2667</td>\n      <td>2532.924901</td>\n      <td>2572.790514</td>\n      <td>2599.043478</td>\n      <td>2685.581028</td>\n      <td>...</td>\n      <td>2754.494624</td>\n      <td>2936.129032</td>\n      <td>2781.166667</td>\n      <td>2799.958333</td>\n      <td>2797.395833</td>\n      <td>3016.916667</td>\n      <td>2739.028272</td>\n      <td>2834.537142</td>\n      <td>2750.655439</td>\n      <td>3104.453512</td>\n    </tr>\n    <tr>\n      <th>3</th>\n      <td>01005</td>\n      <td>Barbour County, Alabama</td>\n      <td>2435</td>\n      <td>2354</td>\n      <td>2382</td>\n      <td>2546</td>\n      <td>2457.083004</td>\n      <td>2439.581028</td>\n      <td>2363.739130</td>\n      <td>2525.146245</td>\n      <td>...</td>\n      <td>2469.698925</td>\n      <td>2705.118280</td>\n      <td>2552.250000</td>\n      <td>2530.895833</td>\n      <td>2520.645833</td>\n      <td>2678.666667</td>\n      <td>2524.756200</td>\n      <td>2544.688486</td>\n      <td>2430.908354</td>\n      <td>2835.367653</td>\n    </tr>\n    <tr>\n      <th>4</th>\n      <td>01007</td>\n      <td>Bibb County, Alabama</td>\n      <td>2303</td>\n      <td>2367</td>\n      <td>2435</td>\n      <td>2493</td>\n      <td>2317.067194</td>\n      <td>2427.913043</td>\n      <td>2436.664032</td>\n      <td>2579.596838</td>\n      <td>...</td>\n      <td>2542.881720</td>\n      <td>2831.204301</td>\n      <td>2534.312500</td>\n      <td>2689.770833</td>\n      <td>2623.145833</td>\n      <td>3021.187500</td>\n      <td>2727.401105</td>\n      <td>2799.655641</td>\n      <td>2711.621379</td>\n      <td>3096.148393</td>\n    </tr>\n    <tr>\n      <th>...</th>\n      <td>...</td>\n      <td>...</td>\n      <td>...</td>\n      <td>...</td>\n      <td>...</td>\n      <td>...</td>\n      <td>...</td>\n      <td>...</td>\n      <td>...</td>\n      <td>...</td>\n      <td>...</td>\n      <td>...</td>\n      <td>...</td>\n      <td>...</td>\n      <td>...</td>\n      <td>...</td>\n      <td>...</td>\n      <td>...</td>\n      <td>...</td>\n      <td>...</td>\n      <td>...</td>\n    </tr>\n    <tr>\n      <th>4346</th>\n      <td>CS566</td>\n      <td>Youngstown-Warren, OH-PA CSA</td>\n      <td>549</td>\n      <td>525</td>\n      <td>531</td>\n      <td>557</td>\n      <td>531.865613</td>\n      <td>514.363636</td>\n      <td>527.003953</td>\n      <td>554.229249</td>\n      <td>...</td>\n      <td>540.494624</td>\n      <td>564.301075</td>\n      <td>531.291667</td>\n      <td>522.750000</td>\n      <td>545.812500</td>\n      <td>581.687500</td>\n      <td>566.409121</td>\n      <td>529.036085</td>\n      <td>518.239431</td>\n      <td>563.087074</td>\n    </tr>\n    <tr>\n      <th>4347</th>\n      <td>US000</td>\n      <td>U.S. TOTAL</td>\n      <td>4938</td>\n      <td>4810</td>\n      <td>4865</td>\n      <td>5076</td>\n      <td>5005.565217</td>\n      <td>4901.525692</td>\n      <td>4820.822134</td>\n      <td>5103.770751</td>\n      <td>...</td>\n      <td>5176.580645</td>\n      <td>5292.967742</td>\n      <td>5205.291667</td>\n      <td>5089.125000</td>\n      <td>5104.500000</td>\n      <td>5334.270833</td>\n      <td>5261.292936</td>\n      <td>5187.377377</td>\n      <td>5144.190757</td>\n      <td>5449.819139</td>\n    </tr>\n    <tr>\n      <th>4348</th>\n      <td>USCMS</td>\n      <td>U.S. Combined Statistical Areas (combined)</td>\n      <td>759</td>\n      <td>711</td>\n      <td>719</td>\n      <td>784</td>\n      <td>769.114625</td>\n      <td>712.719368</td>\n      <td>704.940711</td>\n      <td>771.059289</td>\n      <td>...</td>\n      <td>740.645161</td>\n      <td>792.666667</td>\n      <td>792.666667</td>\n      <td>724.333333</td>\n      <td>723.479167</td>\n      <td>800.354167</td>\n      <td>813.071158</td>\n      <td>736.664062</td>\n      <td>734.172527</td>\n      <td>811.410134</td>\n    </tr>\n    <tr>\n      <th>4349</th>\n      <td>USMSA</td>\n      <td>U.S. Metropolitan Statistical Areas (combined)</td>\n      <td>720</td>\n      <td>679</td>\n      <td>686</td>\n      <td>746</td>\n      <td>727.304348</td>\n      <td>681.604743</td>\n      <td>674.798419</td>\n      <td>735.083004</td>\n      <td>...</td>\n      <td>710.666667</td>\n      <td>756.516129</td>\n      <td>749.958333</td>\n      <td>693.583333</td>\n      <td>693.583333</td>\n      <td>764.479167</td>\n      <td>765.731979</td>\n      <td>705.104610</td>\n      <td>703.443586</td>\n      <td>773.206586</td>\n    </tr>\n    <tr>\n      <th>4350</th>\n      <td>USNMS</td>\n      <td>U.S. Nonmetropolitan Area Counties (combined)</td>\n      <td>524</td>\n      <td>516</td>\n      <td>516</td>\n      <td>555</td>\n      <td>527.976285</td>\n      <td>519.225296</td>\n      <td>514.363636</td>\n      <td>550.339921</td>\n      <td>...</td>\n      <td>544.903226</td>\n      <td>570.473118</td>\n      <td>549.229167</td>\n      <td>536.416667</td>\n      <td>536.416667</td>\n      <td>579.979167</td>\n      <td>558.104002</td>\n      <td>548.137859</td>\n      <td>545.646323</td>\n      <td>590.493966</td>\n    </tr>\n  </tbody>\n</table>\n<p>4351 rows × 34 columns</p>\n</div>"
     },
     "metadata": {},
     "execution_count": 6
    }
   ],
   "source": [
    "df"
   ]
  }
 ]
}