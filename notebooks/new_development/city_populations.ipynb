{
 "metadata": {
  "language_info": {
   "codemirror_mode": {
    "name": "ipython",
    "version": 3
   },
   "file_extension": ".py",
   "mimetype": "text/x-python",
   "name": "python",
   "nbconvert_exporter": "python",
   "pygments_lexer": "ipython3",
   "version": "3.8.2-final"
  },
  "orig_nbformat": 2,
  "kernelspec": {
   "name": "python3",
   "display_name": "Python 3",
   "language": "python"
  }
 },
 "nbformat": 4,
 "nbformat_minor": 2,
 "cells": [
  {
   "cell_type": "code",
   "execution_count": 2,
   "metadata": {},
   "outputs": [],
   "source": [
    "import os\n",
    "os.chdir('/media/cj/HAMMERSPACE/Data Science/dsi/capstones/report-card-recession')\n",
    "import pandas as pd \n",
    "import urllib.request \n",
    "import chardet"
   ]
  },
  {
   "cell_type": "code",
   "execution_count": 6,
   "metadata": {},
   "outputs": [
    {
     "output_type": "execute_result",
     "data": {
      "text/plain": [
       "      CSA   CBSA MDIV  STCOU                               NAME  \\\n",
       "0     104    NaN  NaN    NaN             Albany-Schenectady, NY   \n",
       "1     104  10580  NaN    NaN        Albany-Schenectady-Troy, NY   \n",
       "2     104  10580  NaN  36001                  Albany County, NY   \n",
       "3     104  10580  NaN  36083              Rensselaer County, NY   \n",
       "4     104  10580  NaN  36091                Saratoga County, NY   \n",
       "...   ...    ...  ...    ...                                ...   \n",
       "1928  566  41400  NaN  39029              Columbiana County, OH   \n",
       "1929  566  49660  NaN    NaN  Youngstown-Warren-Boardman, OH-PA   \n",
       "1930  566  49660  NaN  39099                Mahoning County, OH   \n",
       "1931  566  49660  NaN  39155                Trumbull County, OH   \n",
       "1932  566  49660  NaN  42085                  Mercer County, PA   \n",
       "\n",
       "                               LSAD  POPESTIMATE2010  POPESTIMATE2011  \\\n",
       "0         Combined Statistical Area          1168901          1169156   \n",
       "1     Metropolitan Statistical Area           871082           872778   \n",
       "2              County or equivalent           304086           304596   \n",
       "3              County or equivalent           159340           159589   \n",
       "4              County or equivalent           220109           221111   \n",
       "...                             ...              ...              ...   \n",
       "1928           County or equivalent           107890           107419   \n",
       "1929  Metropolitan Statistical Area           564826           562347   \n",
       "1930           County or equivalent           238381           237363   \n",
       "1931           County or equivalent           209840           208834   \n",
       "1932           County or equivalent           116605           116150   \n",
       "\n",
       "      POPESTIMATE2012  POPESTIMATE2013  POPESTIMATE2014  POPESTIMATE2015  \\\n",
       "0             1170241          1171171          1171007          1170550   \n",
       "1              874698           877065           878113           879085   \n",
       "2              305723           306589           307151           307433   \n",
       "3              159437           159545           159666           159436   \n",
       "4              222483           224087           224513           226078   \n",
       "...               ...              ...              ...              ...   \n",
       "1928           106620           105959           105621           104714   \n",
       "1929           558530           555850           553039           548798   \n",
       "1930           235702           234393           233391           231846   \n",
       "1931           207191           206328           204973           203328   \n",
       "1932           115637           115129           114675           113624   \n",
       "\n",
       "      POPESTIMATE2016  POPESTIMATE2017  POPESTIMATE2018  POPESTIMATE2019  \n",
       "0             1169639          1171385          1170564          1167594  \n",
       "1              879792           882158           882263           880381  \n",
       "2              307597           307717           306585           305506  \n",
       "3              159294           159200           159283           158714  \n",
       "4              227122           229276           230170           229863  \n",
       "...               ...              ...              ...              ...  \n",
       "1928           103817           103062           102473           101883  \n",
       "1929           544582           541545           538226           536081  \n",
       "1930           230269           229791           229216           228683  \n",
       "1931           201715           200281           198539           197974  \n",
       "1932           112598           111473           110471           109424  \n",
       "\n",
       "[1933 rows x 16 columns]"
      ],
      "text/html": "<div>\n<style scoped>\n    .dataframe tbody tr th:only-of-type {\n        vertical-align: middle;\n    }\n\n    .dataframe tbody tr th {\n        vertical-align: top;\n    }\n\n    .dataframe thead th {\n        text-align: right;\n    }\n</style>\n<table border=\"1\" class=\"dataframe\">\n  <thead>\n    <tr style=\"text-align: right;\">\n      <th></th>\n      <th>CSA</th>\n      <th>CBSA</th>\n      <th>MDIV</th>\n      <th>STCOU</th>\n      <th>NAME</th>\n      <th>LSAD</th>\n      <th>POPESTIMATE2010</th>\n      <th>POPESTIMATE2011</th>\n      <th>POPESTIMATE2012</th>\n      <th>POPESTIMATE2013</th>\n      <th>POPESTIMATE2014</th>\n      <th>POPESTIMATE2015</th>\n      <th>POPESTIMATE2016</th>\n      <th>POPESTIMATE2017</th>\n      <th>POPESTIMATE2018</th>\n      <th>POPESTIMATE2019</th>\n    </tr>\n  </thead>\n  <tbody>\n    <tr>\n      <th>0</th>\n      <td>104</td>\n      <td>NaN</td>\n      <td>NaN</td>\n      <td>NaN</td>\n      <td>Albany-Schenectady, NY</td>\n      <td>Combined Statistical Area</td>\n      <td>1168901</td>\n      <td>1169156</td>\n      <td>1170241</td>\n      <td>1171171</td>\n      <td>1171007</td>\n      <td>1170550</td>\n      <td>1169639</td>\n      <td>1171385</td>\n      <td>1170564</td>\n      <td>1167594</td>\n    </tr>\n    <tr>\n      <th>1</th>\n      <td>104</td>\n      <td>10580</td>\n      <td>NaN</td>\n      <td>NaN</td>\n      <td>Albany-Schenectady-Troy, NY</td>\n      <td>Metropolitan Statistical Area</td>\n      <td>871082</td>\n      <td>872778</td>\n      <td>874698</td>\n      <td>877065</td>\n      <td>878113</td>\n      <td>879085</td>\n      <td>879792</td>\n      <td>882158</td>\n      <td>882263</td>\n      <td>880381</td>\n    </tr>\n    <tr>\n      <th>2</th>\n      <td>104</td>\n      <td>10580</td>\n      <td>NaN</td>\n      <td>36001</td>\n      <td>Albany County, NY</td>\n      <td>County or equivalent</td>\n      <td>304086</td>\n      <td>304596</td>\n      <td>305723</td>\n      <td>306589</td>\n      <td>307151</td>\n      <td>307433</td>\n      <td>307597</td>\n      <td>307717</td>\n      <td>306585</td>\n      <td>305506</td>\n    </tr>\n    <tr>\n      <th>3</th>\n      <td>104</td>\n      <td>10580</td>\n      <td>NaN</td>\n      <td>36083</td>\n      <td>Rensselaer County, NY</td>\n      <td>County or equivalent</td>\n      <td>159340</td>\n      <td>159589</td>\n      <td>159437</td>\n      <td>159545</td>\n      <td>159666</td>\n      <td>159436</td>\n      <td>159294</td>\n      <td>159200</td>\n      <td>159283</td>\n      <td>158714</td>\n    </tr>\n    <tr>\n      <th>4</th>\n      <td>104</td>\n      <td>10580</td>\n      <td>NaN</td>\n      <td>36091</td>\n      <td>Saratoga County, NY</td>\n      <td>County or equivalent</td>\n      <td>220109</td>\n      <td>221111</td>\n      <td>222483</td>\n      <td>224087</td>\n      <td>224513</td>\n      <td>226078</td>\n      <td>227122</td>\n      <td>229276</td>\n      <td>230170</td>\n      <td>229863</td>\n    </tr>\n    <tr>\n      <th>...</th>\n      <td>...</td>\n      <td>...</td>\n      <td>...</td>\n      <td>...</td>\n      <td>...</td>\n      <td>...</td>\n      <td>...</td>\n      <td>...</td>\n      <td>...</td>\n      <td>...</td>\n      <td>...</td>\n      <td>...</td>\n      <td>...</td>\n      <td>...</td>\n      <td>...</td>\n      <td>...</td>\n    </tr>\n    <tr>\n      <th>1928</th>\n      <td>566</td>\n      <td>41400</td>\n      <td>NaN</td>\n      <td>39029</td>\n      <td>Columbiana County, OH</td>\n      <td>County or equivalent</td>\n      <td>107890</td>\n      <td>107419</td>\n      <td>106620</td>\n      <td>105959</td>\n      <td>105621</td>\n      <td>104714</td>\n      <td>103817</td>\n      <td>103062</td>\n      <td>102473</td>\n      <td>101883</td>\n    </tr>\n    <tr>\n      <th>1929</th>\n      <td>566</td>\n      <td>49660</td>\n      <td>NaN</td>\n      <td>NaN</td>\n      <td>Youngstown-Warren-Boardman, OH-PA</td>\n      <td>Metropolitan Statistical Area</td>\n      <td>564826</td>\n      <td>562347</td>\n      <td>558530</td>\n      <td>555850</td>\n      <td>553039</td>\n      <td>548798</td>\n      <td>544582</td>\n      <td>541545</td>\n      <td>538226</td>\n      <td>536081</td>\n    </tr>\n    <tr>\n      <th>1930</th>\n      <td>566</td>\n      <td>49660</td>\n      <td>NaN</td>\n      <td>39099</td>\n      <td>Mahoning County, OH</td>\n      <td>County or equivalent</td>\n      <td>238381</td>\n      <td>237363</td>\n      <td>235702</td>\n      <td>234393</td>\n      <td>233391</td>\n      <td>231846</td>\n      <td>230269</td>\n      <td>229791</td>\n      <td>229216</td>\n      <td>228683</td>\n    </tr>\n    <tr>\n      <th>1931</th>\n      <td>566</td>\n      <td>49660</td>\n      <td>NaN</td>\n      <td>39155</td>\n      <td>Trumbull County, OH</td>\n      <td>County or equivalent</td>\n      <td>209840</td>\n      <td>208834</td>\n      <td>207191</td>\n      <td>206328</td>\n      <td>204973</td>\n      <td>203328</td>\n      <td>201715</td>\n      <td>200281</td>\n      <td>198539</td>\n      <td>197974</td>\n    </tr>\n    <tr>\n      <th>1932</th>\n      <td>566</td>\n      <td>49660</td>\n      <td>NaN</td>\n      <td>42085</td>\n      <td>Mercer County, PA</td>\n      <td>County or equivalent</td>\n      <td>116605</td>\n      <td>116150</td>\n      <td>115637</td>\n      <td>115129</td>\n      <td>114675</td>\n      <td>113624</td>\n      <td>112598</td>\n      <td>111473</td>\n      <td>110471</td>\n      <td>109424</td>\n    </tr>\n  </tbody>\n</table>\n<p>1933 rows × 16 columns</p>\n</div>"
     },
     "metadata": {},
     "execution_count": 6
    }
   ],
   "source": [
    "url = 'https://www2.census.gov/programs-surveys/popest/datasets/2010-2019/metro/totals/cbsa-est2019-alldata.csv'\n",
    "urllib.request.urlretrieve(url, 'data/source_files/census/city/2010.csv')\n",
    "# with open('data/source_files/census/city/2010.csv', encoding = 'UTF-8') as f:\n",
    "#     print(chardet.detect(f.read()))\n",
    "\n",
    "schema = {'CSA':str, 'CBSA':str, 'MDIV':str, 'STCOU':str, 'NAME':str, 'LSAD':str, 'POPESTIMATE2010':int, 'POPESTIMATE2011':int, 'POPESTIMATE2012':int, 'POPESTIMATE2013':int, 'POPESTIMATE2014':int, 'POPESTIMATE2015':int, 'POPESTIMATE2016':int, 'POPESTIMATE2017':int, 'POPESTIMATE2018':int, 'POPESTIMATE2019':int}\n",
    "df = pd.read_csv('data/source_files/census/city/' + '2010.csv', encoding= 'ISO-8859-1', dtype = schema)\n",
    "drop_cols = []\n",
    "for column in df.columns:\n",
    "    if column not in schema.keys():\n",
    "        drop_cols.append(column)\n",
    "df.drop(columns = drop_cols, inplace = True)\n",
    "df"
   ]
  },
  {
   "cell_type": "code",
   "execution_count": 17,
   "metadata": {},
   "outputs": [
    {
     "output_type": "execute_result",
     "data": {
      "text/plain": [
       "      Type                    Name from Census                 Name from QCEW\n",
       "CS104  TBD                 MISSING FROM CENSUS   Albany-Schenectady-Amsterdam\n",
       "CS106  CSA  Albuquerque-Santa Fe-Las Vegas, NM              MISSING FROM QCEW\n",
       "CS107  CSA              Altoona-Huntingdon, PA              MISSING FROM QCEW\n",
       "CS108  CSA           Amarillo-Pampa-Borger, TX              MISSING FROM QCEW\n",
       "CS118  TBD                 MISSING FROM CENSUS        Appleton-Oshkosh-Neenah\n",
       "...    ...                                 ...                            ...\n",
       "CS512  TBD                 MISSING FROM CENSUS          Sioux City-Vermillion\n",
       "CS516  TBD                 MISSING FROM CENSUS      Spartanburg-Gaffney-Union\n",
       "CS526  TBD                 MISSING FROM CENSUS  Sunbury-Lewisburg-Selinsgrove\n",
       "CS542  TBD                 MISSING FROM CENSUS              Union City-Martin\n",
       "CS564  TBD                 MISSING FROM CENSUS        York-Hanover-Gettysburg\n",
       "\n",
       "[4700 rows x 3 columns]"
      ],
      "text/html": "<div>\n<style scoped>\n    .dataframe tbody tr th:only-of-type {\n        vertical-align: middle;\n    }\n\n    .dataframe tbody tr th {\n        vertical-align: top;\n    }\n\n    .dataframe thead th {\n        text-align: right;\n    }\n</style>\n<table border=\"1\" class=\"dataframe\">\n  <thead>\n    <tr style=\"text-align: right;\">\n      <th></th>\n      <th>Type</th>\n      <th>Name from Census</th>\n      <th>Name from QCEW</th>\n    </tr>\n  </thead>\n  <tbody>\n    <tr>\n      <th>CS104</th>\n      <td>TBD</td>\n      <td>MISSING FROM CENSUS</td>\n      <td>Albany-Schenectady-Amsterdam</td>\n    </tr>\n    <tr>\n      <th>CS106</th>\n      <td>CSA</td>\n      <td>Albuquerque-Santa Fe-Las Vegas, NM</td>\n      <td>MISSING FROM QCEW</td>\n    </tr>\n    <tr>\n      <th>CS107</th>\n      <td>CSA</td>\n      <td>Altoona-Huntingdon, PA</td>\n      <td>MISSING FROM QCEW</td>\n    </tr>\n    <tr>\n      <th>CS108</th>\n      <td>CSA</td>\n      <td>Amarillo-Pampa-Borger, TX</td>\n      <td>MISSING FROM QCEW</td>\n    </tr>\n    <tr>\n      <th>CS118</th>\n      <td>TBD</td>\n      <td>MISSING FROM CENSUS</td>\n      <td>Appleton-Oshkosh-Neenah</td>\n    </tr>\n    <tr>\n      <th>...</th>\n      <td>...</td>\n      <td>...</td>\n      <td>...</td>\n    </tr>\n    <tr>\n      <th>CS512</th>\n      <td>TBD</td>\n      <td>MISSING FROM CENSUS</td>\n      <td>Sioux City-Vermillion</td>\n    </tr>\n    <tr>\n      <th>CS516</th>\n      <td>TBD</td>\n      <td>MISSING FROM CENSUS</td>\n      <td>Spartanburg-Gaffney-Union</td>\n    </tr>\n    <tr>\n      <th>CS526</th>\n      <td>TBD</td>\n      <td>MISSING FROM CENSUS</td>\n      <td>Sunbury-Lewisburg-Selinsgrove</td>\n    </tr>\n    <tr>\n      <th>CS542</th>\n      <td>TBD</td>\n      <td>MISSING FROM CENSUS</td>\n      <td>Union City-Martin</td>\n    </tr>\n    <tr>\n      <th>CS564</th>\n      <td>TBD</td>\n      <td>MISSING FROM CENSUS</td>\n      <td>York-Hanover-Gettysburg</td>\n    </tr>\n  </tbody>\n</table>\n<p>4700 rows × 3 columns</p>\n</div>"
     },
     "metadata": {},
     "execution_count": 17
    }
   ],
   "source": [
    "from src.constants import TITLE\n",
    "matches = {}\n",
    "for index, row in df[df['LSAD'] == 'Combined Statistical Area'].iterrows():\n",
    "    fips = 'CS' + row['CSA']\n",
    "    if fips in TITLE.keys():\n",
    "        matches[fips] = ['CSA', row['NAME'], TITLE[fips]]\n",
    "    else:\n",
    "        matches[fips] = ['CSA', row['NAME'], 'MISSING FROM QCEW']\n",
    "\n",
    "for index, row in df[df['LSAD'] == 'County or equivalent'].iterrows():\n",
    "    fips = row['STCOU']\n",
    "    if fips in TITLE.keys():\n",
    "        matches[fips] = ['County', row['NAME'], TITLE[fips]]\n",
    "    else:\n",
    "        matches[fips] = ['County', row['NAME'], 'MISSING FROM QCEW']\n",
    "\n",
    "for index, row in df[df['LSAD'] == 'County or equivalent'].iterrows():\n",
    "    fips = row['STCOU']\n",
    "    if fips in TITLE.keys():\n",
    "        matches[fips] = ['County', row['NAME'], TITLE[fips]]\n",
    "    else:\n",
    "        matches[fips] = ['County', row['NAME'], 'MISSING FROM QCEW']\n",
    "\n",
    "for index, row in df[df['LSAD'] == 'Metropolitan Division'].iterrows():\n",
    "    fips = row['MDIV']\n",
    "    if fips in TITLE.keys():\n",
    "        matches[fips] = ['Metro Div', row['NAME'], TITLE[fips]]\n",
    "    else:\n",
    "        matches[fips] = ['Metro Div', row['NAME'], 'MISSING FROM QCEW']\n",
    "\n",
    "for index, row in df[df['LSAD'] == 'Metropolitan Statistical Area'].iterrows():\n",
    "    fips = 'C' + row['CBSA'][0:4]\n",
    "    if fips in TITLE.keys():\n",
    "        matches[fips] = ['Metro SA', row['NAME'], TITLE[fips]]\n",
    "    else:\n",
    "        matches[fips] = ['Metro SA', row['NAME'], 'MISSING FROM QCEW']\n",
    "\n",
    "\n",
    "for index, row in df[df['LSAD'] == 'Metropolitan Statistical Area'].iterrows():\n",
    "    fips = 'C' + row['CBSA'][0:4]\n",
    "    if fips in TITLE.keys():\n",
    "        matches[fips] = ['Micro SA', row['NAME'], TITLE[fips]]\n",
    "    else:\n",
    "        matches[fips] = ['Micro SA', row['NAME'], 'MISSING FROM QCEW']\n",
    "\n",
    "for area_fips, name in TITLE.items():\n",
    "    if type(area_fips) == str and area_fips[0:2] != 'US' and area_fips[2:] != 0:\n",
    "        matches[area_fips] = ['TBD', 'MISSING FROM CENSUS', name]\n",
    "\n",
    "matching_df = pd.DataFrame.from_dict(matches, orient = 'index', columns = ['Type', 'Name from Census', 'Name from QCEW'])\n",
    "matching_df\n",
    "\n"
   ]
  },
  {
   "cell_type": "code",
   "execution_count": 14,
   "metadata": {},
   "outputs": [
    {
     "output_type": "execute_result",
     "data": {
      "text/plain": [
       "True"
      ]
     },
     "metadata": {},
     "execution_count": 14
    }
   ],
   "source": [
    "type('d') == str\n"
   ]
  }
 ]
}