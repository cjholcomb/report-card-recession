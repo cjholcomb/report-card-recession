{
 "metadata": {
  "language_info": {
   "codemirror_mode": {
    "name": "ipython",
    "version": 3
   },
   "file_extension": ".py",
   "mimetype": "text/x-python",
   "name": "python",
   "nbconvert_exporter": "python",
   "pygments_lexer": "ipython3",
   "version": "3.8.2-final"
  },
  "orig_nbformat": 2,
  "kernelspec": {
   "name": "python3",
   "display_name": "Python 3",
   "language": "python"
  }
 },
 "nbformat": 4,
 "nbformat_minor": 2,
 "cells": [
  {
   "cell_type": "code",
   "execution_count": 1,
   "metadata": {},
   "outputs": [],
   "source": [
    "import os\n",
    "import urllib.request \n",
    "os.chdir('/home/cj/Documents/dsi/capstones/report-card-recession')\n",
    "from src.produce_datasets import *"
   ]
  },
  {
   "cell_type": "code",
   "execution_count": 2,
   "metadata": {},
   "outputs": [],
   "source": [
    "dimension = 'area'\n",
    "recession = 2001\n",
    "variable = 'empl'"
   ]
  },
  {
   "cell_type": "code",
   "execution_count": 3,
   "metadata": {},
   "outputs": [
    {
     "output_type": "execute_result",
     "data": {
      "text/plain": [
       "[2000, 2001, 2002, 2003, 2004, 2005, 2006, 2007]"
      ]
     },
     "metadata": {},
     "execution_count": 3
    }
   ],
   "source": [
    "years = RECESSION_YEARS[recession]\n",
    "years"
   ]
  },
  {
   "cell_type": "code",
   "execution_count": 4,
   "metadata": {},
   "outputs": [
    {
     "output_type": "execute_result",
     "data": {
      "text/plain": [
       "[1999, 2000, 2001, 2002, 2003, 2004, 2005, 2006, 2007]"
      ]
     },
     "metadata": {},
     "execution_count": 4
    }
   ],
   "source": [
    "years.append(min(years) - 1)\n",
    "years.sort()\n",
    "years"
   ]
  },
  {
   "cell_type": "code",
   "execution_count": 5,
   "metadata": {},
   "outputs": [
    {
     "output_type": "stream",
     "name": "stdout",
     "text": [
      "<class 'pandas.core.frame.DataFrame'>\nRangeIndex: 4351 entries, 0 to 4350\nData columns (total 38 columns):\n #   Column      Non-Null Count  Dtype  \n---  ------      --------------  -----  \n 0   area_fips   4351 non-null   object \n 1   area_title  4351 non-null   object \n 2   1999.25     4351 non-null   float64\n 3   1999.5      4351 non-null   float64\n 4   1999.75     4351 non-null   float64\n 5   2000.0      4351 non-null   float64\n 6   2000.25     4351 non-null   float64\n 7   2000.5      4351 non-null   float64\n 8   2000.75     4351 non-null   float64\n 9   2001.0      4351 non-null   float64\n 10  2001.25     4351 non-null   float64\n 11  2001.5      4351 non-null   float64\n 12  2001.75     4351 non-null   float64\n 13  2002.0      4351 non-null   float64\n 14  2002.25     4351 non-null   float64\n 15  2002.5      4351 non-null   float64\n 16  2002.75     4351 non-null   float64\n 17  2003.0      4351 non-null   float64\n 18  2003.25     4351 non-null   float64\n 19  2003.5      4351 non-null   float64\n 20  2003.75     4351 non-null   float64\n 21  2004.0      4351 non-null   float64\n 22  2004.25     4351 non-null   float64\n 23  2004.5      4351 non-null   float64\n 24  2004.75     4351 non-null   float64\n 25  2005.0      4351 non-null   float64\n 26  2005.25     4351 non-null   float64\n 27  2005.5      4351 non-null   float64\n 28  2005.75     4351 non-null   float64\n 29  2006.0      4351 non-null   float64\n 30  2006.25     4351 non-null   float64\n 31  2006.5      4351 non-null   float64\n 32  2006.75     4351 non-null   float64\n 33  2007.0      4351 non-null   float64\n 34  2007.25     4351 non-null   float64\n 35  2007.5      4351 non-null   float64\n 36  2007.75     4351 non-null   float64\n 37  2008.0      4351 non-null   float64\ndtypes: float64(36), object(2)\nmemory usage: 1.3+ MB\n"
     ]
    }
   ],
   "source": [
    "df = import_all(years, dimension)\n",
    "if dimension == 'area':\n",
    "        df = df[~df['area_fips'].str.contains(\"999\")]\n",
    "        index = ['area_fips', 'area_title']\n",
    "elif dimension == 'industry':\n",
    "        index = ['industry_code', 'industry_title']\n",
    "        #correct for changes in NAICS classification\n",
    "        df['industry_title'] = df['industry_code'].apply(lambda x: TITLE[x])\n",
    "df = df.pivot_table(columns = 'qtrid', values = VARNAME_LONG[variable], index = index, aggfunc = np.sum)\n",
    "df = df.reset_index()\n",
    "    \n",
    "        #fill nans\n",
    "df = df.fillna(0)\n",
    "\n",
    "df.info()"
   ]
  },
  {
   "cell_type": "code",
   "execution_count": 10,
   "metadata": {},
   "outputs": [
    {
     "output_type": "execute_result",
     "data": {
      "text/plain": [
       "[2000.25, 2000.5, 2000.75, 2001.0]"
      ]
     },
     "metadata": {},
     "execution_count": 10
    }
   ],
   "source": [
    "# drop_cols = []\n",
    "# for col in df.columns[2:6]:\n",
    "#     drop_cols.append(col)\n",
    "# drop_cols\n",
    "\n",
    "drop_cols = list(df.columns[2:6])\n",
    "drop_cols"
   ]
  },
  {
   "cell_type": "code",
   "execution_count": 7,
   "metadata": {},
   "outputs": [],
   "source": [
    "from statistics import mean"
   ]
  },
  {
   "cell_type": "code",
   "execution_count": 8,
   "metadata": {},
   "outputs": [
    {
     "output_type": "execute_result",
     "data": {
      "text/plain": [
       "qtrid area_fips                                      area_title       2000.25  \\\n",
       "0         01000                            Alabama -- Statewide  4.105999e+06   \n",
       "1         01001                         Autauga County, Alabama  2.126800e+04   \n",
       "2         01003                         Baldwin County, Alabama  9.723667e+04   \n",
       "3         01005                         Barbour County, Alabama  2.335333e+04   \n",
       "4         01007                            Bibb County, Alabama  7.812000e+03   \n",
       "...         ...                                             ...           ...   \n",
       "4346      CS566                    Youngstown-Warren, OH-PA CSA  2.944950e+05   \n",
       "4347      US000                                      U.S. TOTAL  4.031000e+08   \n",
       "4348      USCMS      U.S. Combined Statistical Areas (combined)  8.224565e+07   \n",
       "4349      USMSA  U.S. Metropolitan Statistical Areas (combined)  1.084332e+08   \n",
       "4350      USNMS   U.S. Nonmetropolitan Area Counties (combined)  2.029203e+07   \n",
       "\n",
       "qtrid        2000.5       2000.75        2001.0       2001.25        2001.5  \\\n",
       "0      4.105999e+06  4.105999e+06  4.105999e+06  4.105999e+06  4.105999e+06   \n",
       "1      2.126800e+04  2.126800e+04  2.126800e+04  2.126800e+04  2.126800e+04   \n",
       "2      9.723667e+04  9.723667e+04  9.723667e+04  9.723667e+04  9.723667e+04   \n",
       "3      2.335333e+04  2.335333e+04  2.335333e+04  2.335333e+04  2.335333e+04   \n",
       "4      7.812000e+03  7.812000e+03  7.812000e+03  7.812000e+03  7.812000e+03   \n",
       "...             ...           ...           ...           ...           ...   \n",
       "4346   2.944950e+05  2.944950e+05  2.944950e+05  2.944950e+05  2.944950e+05   \n",
       "4347   4.031000e+08  4.031000e+08  4.031000e+08  4.031000e+08  4.031000e+08   \n",
       "4348   8.224565e+07  8.224565e+07  8.224565e+07  8.224565e+07  8.224565e+07   \n",
       "4349   1.084332e+08  1.084332e+08  1.084332e+08  1.084332e+08  1.084332e+08   \n",
       "4350   2.029203e+07  2.029203e+07  2.029203e+07  2.029203e+07  2.029203e+07   \n",
       "\n",
       "qtrid       2001.75        2002.0  ...       2005.75        2006.0  \\\n",
       "0      4.105999e+06  4.105999e+06  ...  4.105999e+06  4.105999e+06   \n",
       "1      2.126800e+04  2.126800e+04  ...  2.126800e+04  2.126800e+04   \n",
       "2      9.723667e+04  9.723667e+04  ...  9.723667e+04  9.723667e+04   \n",
       "3      2.335333e+04  2.335333e+04  ...  2.335333e+04  2.335333e+04   \n",
       "4      7.812000e+03  7.812000e+03  ...  7.812000e+03  7.812000e+03   \n",
       "...             ...           ...  ...           ...           ...   \n",
       "4346   2.944950e+05  2.944950e+05  ...  2.944950e+05  2.944950e+05   \n",
       "4347   4.031000e+08  4.031000e+08  ...  4.031000e+08  4.031000e+08   \n",
       "4348   8.224565e+07  8.224565e+07  ...  8.224565e+07  8.224565e+07   \n",
       "4349   1.084332e+08  1.084332e+08  ...  1.084332e+08  1.084332e+08   \n",
       "4350   2.029203e+07  2.029203e+07  ...  2.029203e+07  2.029203e+07   \n",
       "\n",
       "qtrid       2006.25        2006.5       2006.75        2007.0       2007.25  \\\n",
       "0      4.105999e+06  4.105999e+06  4.105999e+06  4.105999e+06  4.105999e+06   \n",
       "1      2.126800e+04  2.126800e+04  2.126800e+04  2.126800e+04  2.126800e+04   \n",
       "2      9.723667e+04  9.723667e+04  9.723667e+04  9.723667e+04  9.723667e+04   \n",
       "3      2.335333e+04  2.335333e+04  2.335333e+04  2.335333e+04  2.335333e+04   \n",
       "4      7.812000e+03  7.812000e+03  7.812000e+03  7.812000e+03  7.812000e+03   \n",
       "...             ...           ...           ...           ...           ...   \n",
       "4346   2.944950e+05  2.944950e+05  2.944950e+05  2.944950e+05  2.944950e+05   \n",
       "4347   4.031000e+08  4.031000e+08  4.031000e+08  4.031000e+08  4.031000e+08   \n",
       "4348   8.224565e+07  8.224565e+07  8.224565e+07  8.224565e+07  8.224565e+07   \n",
       "4349   1.084332e+08  1.084332e+08  1.084332e+08  1.084332e+08  1.084332e+08   \n",
       "4350   2.029203e+07  2.029203e+07  2.029203e+07  2.029203e+07  2.029203e+07   \n",
       "\n",
       "qtrid        2007.5       2007.75        2008.0  \n",
       "0      4.105999e+06  4.105999e+06  4.105999e+06  \n",
       "1      2.126800e+04  2.126800e+04  2.126800e+04  \n",
       "2      9.723667e+04  9.723667e+04  9.723667e+04  \n",
       "3      2.335333e+04  2.335333e+04  2.335333e+04  \n",
       "4      7.812000e+03  7.812000e+03  7.812000e+03  \n",
       "...             ...           ...           ...  \n",
       "4346   2.944950e+05  2.944950e+05  2.944950e+05  \n",
       "4347   4.031000e+08  4.031000e+08  4.031000e+08  \n",
       "4348   8.224565e+07  8.224565e+07  8.224565e+07  \n",
       "4349   1.084332e+08  1.084332e+08  1.084332e+08  \n",
       "4350   2.029203e+07  2.029203e+07  2.029203e+07  \n",
       "\n",
       "[4351 rows x 34 columns]"
      ],
      "text/html": "<div>\n<style scoped>\n    .dataframe tbody tr th:only-of-type {\n        vertical-align: middle;\n    }\n\n    .dataframe tbody tr th {\n        vertical-align: top;\n    }\n\n    .dataframe thead th {\n        text-align: right;\n    }\n</style>\n<table border=\"1\" class=\"dataframe\">\n  <thead>\n    <tr style=\"text-align: right;\">\n      <th>qtrid</th>\n      <th>area_fips</th>\n      <th>area_title</th>\n      <th>2000.25</th>\n      <th>2000.5</th>\n      <th>2000.75</th>\n      <th>2001.0</th>\n      <th>2001.25</th>\n      <th>2001.5</th>\n      <th>2001.75</th>\n      <th>2002.0</th>\n      <th>...</th>\n      <th>2005.75</th>\n      <th>2006.0</th>\n      <th>2006.25</th>\n      <th>2006.5</th>\n      <th>2006.75</th>\n      <th>2007.0</th>\n      <th>2007.25</th>\n      <th>2007.5</th>\n      <th>2007.75</th>\n      <th>2008.0</th>\n    </tr>\n  </thead>\n  <tbody>\n    <tr>\n      <th>0</th>\n      <td>01000</td>\n      <td>Alabama -- Statewide</td>\n      <td>4.105999e+06</td>\n      <td>4.105999e+06</td>\n      <td>4.105999e+06</td>\n      <td>4.105999e+06</td>\n      <td>4.105999e+06</td>\n      <td>4.105999e+06</td>\n      <td>4.105999e+06</td>\n      <td>4.105999e+06</td>\n      <td>...</td>\n      <td>4.105999e+06</td>\n      <td>4.105999e+06</td>\n      <td>4.105999e+06</td>\n      <td>4.105999e+06</td>\n      <td>4.105999e+06</td>\n      <td>4.105999e+06</td>\n      <td>4.105999e+06</td>\n      <td>4.105999e+06</td>\n      <td>4.105999e+06</td>\n      <td>4.105999e+06</td>\n    </tr>\n    <tr>\n      <th>1</th>\n      <td>01001</td>\n      <td>Autauga County, Alabama</td>\n      <td>2.126800e+04</td>\n      <td>2.126800e+04</td>\n      <td>2.126800e+04</td>\n      <td>2.126800e+04</td>\n      <td>2.126800e+04</td>\n      <td>2.126800e+04</td>\n      <td>2.126800e+04</td>\n      <td>2.126800e+04</td>\n      <td>...</td>\n      <td>2.126800e+04</td>\n      <td>2.126800e+04</td>\n      <td>2.126800e+04</td>\n      <td>2.126800e+04</td>\n      <td>2.126800e+04</td>\n      <td>2.126800e+04</td>\n      <td>2.126800e+04</td>\n      <td>2.126800e+04</td>\n      <td>2.126800e+04</td>\n      <td>2.126800e+04</td>\n    </tr>\n    <tr>\n      <th>2</th>\n      <td>01003</td>\n      <td>Baldwin County, Alabama</td>\n      <td>9.723667e+04</td>\n      <td>9.723667e+04</td>\n      <td>9.723667e+04</td>\n      <td>9.723667e+04</td>\n      <td>9.723667e+04</td>\n      <td>9.723667e+04</td>\n      <td>9.723667e+04</td>\n      <td>9.723667e+04</td>\n      <td>...</td>\n      <td>9.723667e+04</td>\n      <td>9.723667e+04</td>\n      <td>9.723667e+04</td>\n      <td>9.723667e+04</td>\n      <td>9.723667e+04</td>\n      <td>9.723667e+04</td>\n      <td>9.723667e+04</td>\n      <td>9.723667e+04</td>\n      <td>9.723667e+04</td>\n      <td>9.723667e+04</td>\n    </tr>\n    <tr>\n      <th>3</th>\n      <td>01005</td>\n      <td>Barbour County, Alabama</td>\n      <td>2.335333e+04</td>\n      <td>2.335333e+04</td>\n      <td>2.335333e+04</td>\n      <td>2.335333e+04</td>\n      <td>2.335333e+04</td>\n      <td>2.335333e+04</td>\n      <td>2.335333e+04</td>\n      <td>2.335333e+04</td>\n      <td>...</td>\n      <td>2.335333e+04</td>\n      <td>2.335333e+04</td>\n      <td>2.335333e+04</td>\n      <td>2.335333e+04</td>\n      <td>2.335333e+04</td>\n      <td>2.335333e+04</td>\n      <td>2.335333e+04</td>\n      <td>2.335333e+04</td>\n      <td>2.335333e+04</td>\n      <td>2.335333e+04</td>\n    </tr>\n    <tr>\n      <th>4</th>\n      <td>01007</td>\n      <td>Bibb County, Alabama</td>\n      <td>7.812000e+03</td>\n      <td>7.812000e+03</td>\n      <td>7.812000e+03</td>\n      <td>7.812000e+03</td>\n      <td>7.812000e+03</td>\n      <td>7.812000e+03</td>\n      <td>7.812000e+03</td>\n      <td>7.812000e+03</td>\n      <td>...</td>\n      <td>7.812000e+03</td>\n      <td>7.812000e+03</td>\n      <td>7.812000e+03</td>\n      <td>7.812000e+03</td>\n      <td>7.812000e+03</td>\n      <td>7.812000e+03</td>\n      <td>7.812000e+03</td>\n      <td>7.812000e+03</td>\n      <td>7.812000e+03</td>\n      <td>7.812000e+03</td>\n    </tr>\n    <tr>\n      <th>...</th>\n      <td>...</td>\n      <td>...</td>\n      <td>...</td>\n      <td>...</td>\n      <td>...</td>\n      <td>...</td>\n      <td>...</td>\n      <td>...</td>\n      <td>...</td>\n      <td>...</td>\n      <td>...</td>\n      <td>...</td>\n      <td>...</td>\n      <td>...</td>\n      <td>...</td>\n      <td>...</td>\n      <td>...</td>\n      <td>...</td>\n      <td>...</td>\n      <td>...</td>\n      <td>...</td>\n    </tr>\n    <tr>\n      <th>4346</th>\n      <td>CS566</td>\n      <td>Youngstown-Warren, OH-PA CSA</td>\n      <td>2.944950e+05</td>\n      <td>2.944950e+05</td>\n      <td>2.944950e+05</td>\n      <td>2.944950e+05</td>\n      <td>2.944950e+05</td>\n      <td>2.944950e+05</td>\n      <td>2.944950e+05</td>\n      <td>2.944950e+05</td>\n      <td>...</td>\n      <td>2.944950e+05</td>\n      <td>2.944950e+05</td>\n      <td>2.944950e+05</td>\n      <td>2.944950e+05</td>\n      <td>2.944950e+05</td>\n      <td>2.944950e+05</td>\n      <td>2.944950e+05</td>\n      <td>2.944950e+05</td>\n      <td>2.944950e+05</td>\n      <td>2.944950e+05</td>\n    </tr>\n    <tr>\n      <th>4347</th>\n      <td>US000</td>\n      <td>U.S. TOTAL</td>\n      <td>4.031000e+08</td>\n      <td>4.031000e+08</td>\n      <td>4.031000e+08</td>\n      <td>4.031000e+08</td>\n      <td>4.031000e+08</td>\n      <td>4.031000e+08</td>\n      <td>4.031000e+08</td>\n      <td>4.031000e+08</td>\n      <td>...</td>\n      <td>4.031000e+08</td>\n      <td>4.031000e+08</td>\n      <td>4.031000e+08</td>\n      <td>4.031000e+08</td>\n      <td>4.031000e+08</td>\n      <td>4.031000e+08</td>\n      <td>4.031000e+08</td>\n      <td>4.031000e+08</td>\n      <td>4.031000e+08</td>\n      <td>4.031000e+08</td>\n    </tr>\n    <tr>\n      <th>4348</th>\n      <td>USCMS</td>\n      <td>U.S. Combined Statistical Areas (combined)</td>\n      <td>8.224565e+07</td>\n      <td>8.224565e+07</td>\n      <td>8.224565e+07</td>\n      <td>8.224565e+07</td>\n      <td>8.224565e+07</td>\n      <td>8.224565e+07</td>\n      <td>8.224565e+07</td>\n      <td>8.224565e+07</td>\n      <td>...</td>\n      <td>8.224565e+07</td>\n      <td>8.224565e+07</td>\n      <td>8.224565e+07</td>\n      <td>8.224565e+07</td>\n      <td>8.224565e+07</td>\n      <td>8.224565e+07</td>\n      <td>8.224565e+07</td>\n      <td>8.224565e+07</td>\n      <td>8.224565e+07</td>\n      <td>8.224565e+07</td>\n    </tr>\n    <tr>\n      <th>4349</th>\n      <td>USMSA</td>\n      <td>U.S. Metropolitan Statistical Areas (combined)</td>\n      <td>1.084332e+08</td>\n      <td>1.084332e+08</td>\n      <td>1.084332e+08</td>\n      <td>1.084332e+08</td>\n      <td>1.084332e+08</td>\n      <td>1.084332e+08</td>\n      <td>1.084332e+08</td>\n      <td>1.084332e+08</td>\n      <td>...</td>\n      <td>1.084332e+08</td>\n      <td>1.084332e+08</td>\n      <td>1.084332e+08</td>\n      <td>1.084332e+08</td>\n      <td>1.084332e+08</td>\n      <td>1.084332e+08</td>\n      <td>1.084332e+08</td>\n      <td>1.084332e+08</td>\n      <td>1.084332e+08</td>\n      <td>1.084332e+08</td>\n    </tr>\n    <tr>\n      <th>4350</th>\n      <td>USNMS</td>\n      <td>U.S. Nonmetropolitan Area Counties (combined)</td>\n      <td>2.029203e+07</td>\n      <td>2.029203e+07</td>\n      <td>2.029203e+07</td>\n      <td>2.029203e+07</td>\n      <td>2.029203e+07</td>\n      <td>2.029203e+07</td>\n      <td>2.029203e+07</td>\n      <td>2.029203e+07</td>\n      <td>...</td>\n      <td>2.029203e+07</td>\n      <td>2.029203e+07</td>\n      <td>2.029203e+07</td>\n      <td>2.029203e+07</td>\n      <td>2.029203e+07</td>\n      <td>2.029203e+07</td>\n      <td>2.029203e+07</td>\n      <td>2.029203e+07</td>\n      <td>2.029203e+07</td>\n      <td>2.029203e+07</td>\n    </tr>\n  </tbody>\n</table>\n<p>4351 rows × 34 columns</p>\n</div>"
     },
     "metadata": {},
     "execution_count": 8
    }
   ],
   "source": [
    "for col in df.columns[6:]:\n",
    "    newcol =  str(col) + '_s'\n",
    "    index = df.columns.get_loc(col)\n",
    "    interval = df.iloc[:,(index-3):index]\n",
    "    df[newcol] = interval.mean(axis=1)\n",
    "    df.drop(columns = [col], inplace = True)\n",
    "    df.rename(columns = {newcol:float(col)}, inplace = True)\n",
    "df.drop(columns = list(df.columns[2:6]), inplace = True)\n",
    "df"
   ]
  },
  {
   "cell_type": "code",
   "execution_count": 9,
   "metadata": {},
   "outputs": [
    {
     "output_type": "execute_result",
     "data": {
      "text/plain": [
       "Index([ 'area_fips', 'area_title',      2000.25,       2000.5,      2000.75,\n",
       "             2001.0,      2001.25,       2001.5,      2001.75,       2002.0,\n",
       "            2002.25,       2002.5,      2002.75,       2003.0,      2003.25,\n",
       "             2003.5,      2003.75,       2004.0,      2004.25,       2004.5,\n",
       "            2004.75,       2005.0,      2005.25,       2005.5,      2005.75,\n",
       "             2006.0,      2006.25,       2006.5,      2006.75,       2007.0,\n",
       "            2007.25,       2007.5,      2007.75,       2008.0],\n",
       "      dtype='object', name='qtrid')"
      ]
     },
     "metadata": {},
     "execution_count": 9
    }
   ],
   "source": [
    "df.columns"
   ]
  }
 ]
}