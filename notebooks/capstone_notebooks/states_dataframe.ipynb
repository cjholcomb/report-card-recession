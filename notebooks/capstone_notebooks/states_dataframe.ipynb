{
 "metadata": {
  "language_info": {
   "codemirror_mode": {
    "name": "ipython",
    "version": 3
   },
   "file_extension": ".py",
   "mimetype": "text/x-python",
   "name": "python",
   "nbconvert_exporter": "python",
   "pygments_lexer": "ipython3",
   "version": "3.8.2-final"
  },
  "orig_nbformat": 2,
  "kernelspec": {
   "name": "Python 3.8.2 64-bit ('base': conda)",
   "display_name": "Python 3.8.2 64-bit ('base': conda)",
   "metadata": {
    "interpreter": {
     "hash": "1d781868664204c8a955f26536357b7be2b4c5e9ce6e9c004380ad209a06aa79"
    }
   }
  }
 },
 "nbformat": 4,
 "nbformat_minor": 2,
 "cells": [
  {
   "cell_type": "code",
   "execution_count": 1,
   "metadata": {},
   "outputs": [],
   "source": [
    "import pandas as pd\n",
    "from src.dictionaries import *\n",
    "import os\n",
    "os.chdir('/home/cj/Documents/dsi/capstones/report-card-recession')"
   ]
  },
  {
   "cell_type": "code",
   "execution_count": 2,
   "metadata": {},
   "outputs": [],
   "source": [
    "df = pd.read_json('data/training_dataset.json')"
   ]
  },
  {
   "cell_type": "code",
   "execution_count": 3,
   "metadata": {},
   "outputs": [],
   "source": [
    "df = df[df.area_title.str.contains('Statewide')]"
   ]
  },
  {
   "cell_type": "code",
   "execution_count": 4,
   "metadata": {},
   "outputs": [
    {
     "output_type": "execute_result",
     "data": {
      "text/plain": "      index area_fips        10       101      1011      1012      1013  \\\n0         0     01000   1853766  0.242752  0.012228  0.057047  0.173478   \n68       69     02000    300062  0.152149  0.041891  0.060607  0.049650   \n96       98     04000   2241237  0.180248  0.013138  0.078794  0.088315   \n112     115     05000   1136938  0.264082  0.017640  0.048897  0.197545   \n188     192     06000  15036500  0.201522  0.031643  0.053060  0.116819   \n...     ...       ...       ...       ...       ...       ...       ...   \n7393   3094     54000    716708  0.184118  0.046895  0.058766  0.078457   \n7449   3151     55000   2794934  0.230321  0.009373  0.044802  0.176145   \n7522   3225     56000    294457  0.246868  0.110784  0.102293  0.033791   \n7546   3250     72000    995997  0.163831  0.010975  0.051987  0.100869   \n7626   3331     78000     44968  0.104185  0.001779  0.051081  0.051325   \n\n           102      1021      1022  ...    519130    541711    541712  \\\n0     0.576164  0.200651  0.018850  ...  0.000000  0.000000  0.000000   \n68    0.592331  0.210756  0.024655  ...  0.000000  0.000000  0.000000   \n96    0.656097  0.193371  0.023600  ...  0.000000  0.000000  0.000000   \n112   0.572068  0.208531  0.018434  ...  0.000000  0.000000  0.000000   \n188   0.645617  0.180274  0.033771  ...  0.000000  0.000000  0.000000   \n...        ...       ...       ...  ...       ...       ...       ...   \n7393  0.623845  0.193398  0.015514  ...  0.000000  0.000569  0.001067   \n7449  0.632453  0.191299  0.017787  ...  0.000104  0.000352  0.001504   \n7522  0.536914  0.183324  0.013700  ...  0.000098  0.000000  0.000115   \n7546  0.548419  0.177158  0.020390  ...  0.000084  0.000034  0.000377   \n7626  0.604674  0.188000  0.017412  ...  0.000156  0.000000  0.000000   \n\n        561311    561312                   area_title  recovery  decline  \\\n0     0.000000  0.000000         Alabama -- Statewide         1       13   \n68    0.000000  0.000000          Alaska -- Statewide         1        3   \n96    0.000000  0.000000         Arizona -- Statewide         1        8   \n112   0.000000  0.000000        Arkansas -- Statewide         1       13   \n188   0.000000  0.000000      California -- Statewide         1        9   \n...        ...       ...                          ...       ...      ...   \n7393  0.000366  0.000020   West Virginia -- Statewide         0       20   \n7449  0.000853  0.000203       Wisconsin -- Statewide         1       13   \n7522  0.000075  0.000020         Wyoming -- Statewide         1        9   \n7546  0.001387  0.000044     Puerto Rico -- Statewide         0       44   \n7626  0.000000  0.000000  Virgin Islands -- Statewide         0       45   \n\n        delta  year  \n0      192276  2001  \n68      57482  2001  \n96     863178  2001  \n112    102352  2001  \n188   1239022  2001  \n...       ...   ...  \n7393   -22150  2008  \n7449   171870  2008  \n7522      389  2008  \n7546  -384499  2008  \n7626   -17925  2008  \n\n[104 rows x 2395 columns]",
      "text/html": "<div>\n<style scoped>\n    .dataframe tbody tr th:only-of-type {\n        vertical-align: middle;\n    }\n\n    .dataframe tbody tr th {\n        vertical-align: top;\n    }\n\n    .dataframe thead th {\n        text-align: right;\n    }\n</style>\n<table border=\"1\" class=\"dataframe\">\n  <thead>\n    <tr style=\"text-align: right;\">\n      <th></th>\n      <th>index</th>\n      <th>area_fips</th>\n      <th>10</th>\n      <th>101</th>\n      <th>1011</th>\n      <th>1012</th>\n      <th>1013</th>\n      <th>102</th>\n      <th>1021</th>\n      <th>1022</th>\n      <th>...</th>\n      <th>519130</th>\n      <th>541711</th>\n      <th>541712</th>\n      <th>561311</th>\n      <th>561312</th>\n      <th>area_title</th>\n      <th>recovery</th>\n      <th>decline</th>\n      <th>delta</th>\n      <th>year</th>\n    </tr>\n  </thead>\n  <tbody>\n    <tr>\n      <th>0</th>\n      <td>0</td>\n      <td>01000</td>\n      <td>1853766</td>\n      <td>0.242752</td>\n      <td>0.012228</td>\n      <td>0.057047</td>\n      <td>0.173478</td>\n      <td>0.576164</td>\n      <td>0.200651</td>\n      <td>0.018850</td>\n      <td>...</td>\n      <td>0.000000</td>\n      <td>0.000000</td>\n      <td>0.000000</td>\n      <td>0.000000</td>\n      <td>0.000000</td>\n      <td>Alabama -- Statewide</td>\n      <td>1</td>\n      <td>13</td>\n      <td>192276</td>\n      <td>2001</td>\n    </tr>\n    <tr>\n      <th>68</th>\n      <td>69</td>\n      <td>02000</td>\n      <td>300062</td>\n      <td>0.152149</td>\n      <td>0.041891</td>\n      <td>0.060607</td>\n      <td>0.049650</td>\n      <td>0.592331</td>\n      <td>0.210756</td>\n      <td>0.024655</td>\n      <td>...</td>\n      <td>0.000000</td>\n      <td>0.000000</td>\n      <td>0.000000</td>\n      <td>0.000000</td>\n      <td>0.000000</td>\n      <td>Alaska -- Statewide</td>\n      <td>1</td>\n      <td>3</td>\n      <td>57482</td>\n      <td>2001</td>\n    </tr>\n    <tr>\n      <th>96</th>\n      <td>98</td>\n      <td>04000</td>\n      <td>2241237</td>\n      <td>0.180248</td>\n      <td>0.013138</td>\n      <td>0.078794</td>\n      <td>0.088315</td>\n      <td>0.656097</td>\n      <td>0.193371</td>\n      <td>0.023600</td>\n      <td>...</td>\n      <td>0.000000</td>\n      <td>0.000000</td>\n      <td>0.000000</td>\n      <td>0.000000</td>\n      <td>0.000000</td>\n      <td>Arizona -- Statewide</td>\n      <td>1</td>\n      <td>8</td>\n      <td>863178</td>\n      <td>2001</td>\n    </tr>\n    <tr>\n      <th>112</th>\n      <td>115</td>\n      <td>05000</td>\n      <td>1136938</td>\n      <td>0.264082</td>\n      <td>0.017640</td>\n      <td>0.048897</td>\n      <td>0.197545</td>\n      <td>0.572068</td>\n      <td>0.208531</td>\n      <td>0.018434</td>\n      <td>...</td>\n      <td>0.000000</td>\n      <td>0.000000</td>\n      <td>0.000000</td>\n      <td>0.000000</td>\n      <td>0.000000</td>\n      <td>Arkansas -- Statewide</td>\n      <td>1</td>\n      <td>13</td>\n      <td>102352</td>\n      <td>2001</td>\n    </tr>\n    <tr>\n      <th>188</th>\n      <td>192</td>\n      <td>06000</td>\n      <td>15036500</td>\n      <td>0.201522</td>\n      <td>0.031643</td>\n      <td>0.053060</td>\n      <td>0.116819</td>\n      <td>0.645617</td>\n      <td>0.180274</td>\n      <td>0.033771</td>\n      <td>...</td>\n      <td>0.000000</td>\n      <td>0.000000</td>\n      <td>0.000000</td>\n      <td>0.000000</td>\n      <td>0.000000</td>\n      <td>California -- Statewide</td>\n      <td>1</td>\n      <td>9</td>\n      <td>1239022</td>\n      <td>2001</td>\n    </tr>\n    <tr>\n      <th>...</th>\n      <td>...</td>\n      <td>...</td>\n      <td>...</td>\n      <td>...</td>\n      <td>...</td>\n      <td>...</td>\n      <td>...</td>\n      <td>...</td>\n      <td>...</td>\n      <td>...</td>\n      <td>...</td>\n      <td>...</td>\n      <td>...</td>\n      <td>...</td>\n      <td>...</td>\n      <td>...</td>\n      <td>...</td>\n      <td>...</td>\n      <td>...</td>\n      <td>...</td>\n      <td>...</td>\n    </tr>\n    <tr>\n      <th>7393</th>\n      <td>3094</td>\n      <td>54000</td>\n      <td>716708</td>\n      <td>0.184118</td>\n      <td>0.046895</td>\n      <td>0.058766</td>\n      <td>0.078457</td>\n      <td>0.623845</td>\n      <td>0.193398</td>\n      <td>0.015514</td>\n      <td>...</td>\n      <td>0.000000</td>\n      <td>0.000569</td>\n      <td>0.001067</td>\n      <td>0.000366</td>\n      <td>0.000020</td>\n      <td>West Virginia -- Statewide</td>\n      <td>0</td>\n      <td>20</td>\n      <td>-22150</td>\n      <td>2008</td>\n    </tr>\n    <tr>\n      <th>7449</th>\n      <td>3151</td>\n      <td>55000</td>\n      <td>2794934</td>\n      <td>0.230321</td>\n      <td>0.009373</td>\n      <td>0.044802</td>\n      <td>0.176145</td>\n      <td>0.632453</td>\n      <td>0.191299</td>\n      <td>0.017787</td>\n      <td>...</td>\n      <td>0.000104</td>\n      <td>0.000352</td>\n      <td>0.001504</td>\n      <td>0.000853</td>\n      <td>0.000203</td>\n      <td>Wisconsin -- Statewide</td>\n      <td>1</td>\n      <td>13</td>\n      <td>171870</td>\n      <td>2008</td>\n    </tr>\n    <tr>\n      <th>7522</th>\n      <td>3225</td>\n      <td>56000</td>\n      <td>294457</td>\n      <td>0.246868</td>\n      <td>0.110784</td>\n      <td>0.102293</td>\n      <td>0.033791</td>\n      <td>0.536914</td>\n      <td>0.183324</td>\n      <td>0.013700</td>\n      <td>...</td>\n      <td>0.000098</td>\n      <td>0.000000</td>\n      <td>0.000115</td>\n      <td>0.000075</td>\n      <td>0.000020</td>\n      <td>Wyoming -- Statewide</td>\n      <td>1</td>\n      <td>9</td>\n      <td>389</td>\n      <td>2008</td>\n    </tr>\n    <tr>\n      <th>7546</th>\n      <td>3250</td>\n      <td>72000</td>\n      <td>995997</td>\n      <td>0.163831</td>\n      <td>0.010975</td>\n      <td>0.051987</td>\n      <td>0.100869</td>\n      <td>0.548419</td>\n      <td>0.177158</td>\n      <td>0.020390</td>\n      <td>...</td>\n      <td>0.000084</td>\n      <td>0.000034</td>\n      <td>0.000377</td>\n      <td>0.001387</td>\n      <td>0.000044</td>\n      <td>Puerto Rico -- Statewide</td>\n      <td>0</td>\n      <td>44</td>\n      <td>-384499</td>\n      <td>2008</td>\n    </tr>\n    <tr>\n      <th>7626</th>\n      <td>3331</td>\n      <td>78000</td>\n      <td>44968</td>\n      <td>0.104185</td>\n      <td>0.001779</td>\n      <td>0.051081</td>\n      <td>0.051325</td>\n      <td>0.604674</td>\n      <td>0.188000</td>\n      <td>0.017412</td>\n      <td>...</td>\n      <td>0.000156</td>\n      <td>0.000000</td>\n      <td>0.000000</td>\n      <td>0.000000</td>\n      <td>0.000000</td>\n      <td>Virgin Islands -- Statewide</td>\n      <td>0</td>\n      <td>45</td>\n      <td>-17925</td>\n      <td>2008</td>\n    </tr>\n  </tbody>\n</table>\n<p>104 rows × 2395 columns</p>\n</div>"
     },
     "metadata": {},
     "execution_count": 4
    }
   ],
   "source": [
    "df.head(120)"
   ]
  },
  {
   "cell_type": "code",
   "execution_count": 5,
   "metadata": {},
   "outputs": [],
   "source": [
    "df.drop(columns = features, inplace = True)"
   ]
  },
  {
   "cell_type": "code",
   "execution_count": 6,
   "metadata": {},
   "outputs": [
    {
     "output_type": "execute_result",
     "data": {
      "text/plain": "Index(['index', 'area_fips', 'area_title', 'recovery', 'decline', 'delta',\n       'year'],\n      dtype='object')"
     },
     "metadata": {},
     "execution_count": 6
    }
   ],
   "source": [
    "df.columns"
   ]
  },
  {
   "cell_type": "code",
   "execution_count": 7,
   "metadata": {
    "tags": []
   },
   "outputs": [
    {
     "output_type": "execute_result",
     "data": {
      "text/plain": "LA    2\nAL    2\nMD    2\nNC    2\nOR    2\nKS    2\nMT    2\nME    2\nSC    2\nGA    2\nSD    2\nVT    2\nPR    2\nCA    2\nNM    2\nWV    2\nDE    2\nOH    2\nVI    2\nTN    2\nMA    2\nMO    2\nNY    2\nHI    2\nAK    2\nND    2\nNJ    2\nID    2\nWI    2\nTX    2\nNE    2\nUT    2\nWY    2\nCO    2\nMN    2\nNV    2\nMS    2\nFL    2\nCT    2\nIL    2\nIA    2\nAR    2\nNH    2\nKY    2\nVA    2\nPA    2\nAZ    2\nWA    2\nIN    2\nOK    2\nRI    2\nMI    2\nName: state_abbr, dtype: int64"
     },
     "metadata": {},
     "execution_count": 7
    }
   ],
   "source": [
    "df['state_abbr'] = df['area_fips'].map(state_abbr)\n",
    "df['state_abbr'].value_counts()"
   ]
  },
  {
   "cell_type": "code",
   "execution_count": 8,
   "metadata": {
    "tags": []
   },
   "outputs": [
    {
     "output_type": "stream",
     "name": "stdout",
     "text": "<class 'pandas.core.frame.DataFrame'>\nInt64Index: 104 entries, 0 to 7626\nData columns (total 8 columns):\n #   Column      Non-Null Count  Dtype \n---  ------      --------------  ----- \n 0   index       104 non-null    int64 \n 1   area_fips   104 non-null    object\n 2   area_title  104 non-null    object\n 3   recovery    104 non-null    int64 \n 4   decline     104 non-null    int64 \n 5   delta       104 non-null    int64 \n 6   year        104 non-null    int64 \n 7   state_abbr  104 non-null    object\ndtypes: int64(5), object(3)\nmemory usage: 7.3+ KB\n"
    }
   ],
   "source": [
    "df.info()"
   ]
  }
 ]
}